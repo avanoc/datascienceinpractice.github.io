{
 "cells": [
  {
   "cell_type": "code",
   "execution_count": 2,
   "metadata": {},
   "outputs": [],
   "source": [
    "# Imports\n",
    "# \n",
    "# Note: these are all the imports you need for this assignment!\n",
    "# Do not import any other functions / packages\n",
    "\n",
    "# Display plots directly in the notebook instead of in a new window\n",
    "%matplotlib inline\n",
    "\n",
    "# Import libraries\n",
    "import numpy as np\n",
    "import pandas as pd\n",
    "import matplotlib.pyplot as plt\n",
    "import seaborn as sns"
   ]
  },
  {
   "cell_type": "code",
   "execution_count": 3,
   "metadata": {},
   "outputs": [],
   "source": [
    "# Configure libraries\n",
    "# The seaborn library makes plots look nicer\n",
    "sns.set()\n",
    "sns.set_context('talk')\n",
    "\n",
    "# Don't display too many rows/cols of DataFrames\n",
    "pd.options.display.max_rows = 7\n",
    "pd.options.display.max_columns = 8\n",
    "\n",
    "# Round decimals when displaying DataFrames\n",
    "pd.set_option('display.precision', 2)"
   ]
  },
  {
   "cell_type": "code",
   "execution_count": 4,
   "metadata": {},
   "outputs": [
    {
     "data": {
      "text/plain": [
       "'\\nPart 1 - Data Wrangling\\nFor this assignment, you are provided with two data files that contain information on a sample of people. \\nThe two files and their columns are:\\n\\nage_steps.csv: Contains one row for each person.\\n\\nid: Unique identifier for the person.\\n\\nage: Age of the person.\\n\\nsteps: Number of steps the person took on average in January 2018.\\n\\nincomes.json: Contains one record for each person.\\n\\nid: Unique identifier for the person. Two records with the same ID between age_steps.csv and incomes.json \\ncorrespond to the same person.\\n\\nlast_name: Last name of the person.\\n\\nfirst_name: First name of the person.\\n\\nincome: Income of the person in 2018.\\n\\nFor part 1 and 2 of the assignment, we recommend looking at the official 10 minutes to pandas guide: \\nhttp://pandas.pydata.org/pandas-docs/stable/10min.html\\n\\nQuestion 1a: Load the age_steps.csv file into a pandas DataFrame named df_steps. It should have 11257 rows and 3 columns.\\n'"
      ]
     },
     "execution_count": 4,
     "metadata": {},
     "output_type": "execute_result"
    }
   ],
   "source": [
    "'''\n",
    "Part 1 - Data Wrangling\n",
    "For this assignment, you are provided with two data files that contain information on a sample of people. \n",
    "The two files and their columns are:\n",
    "\n",
    "age_steps.csv: Contains one row for each person.\n",
    "\n",
    "id: Unique identifier for the person.\n",
    "\n",
    "age: Age of the person.\n",
    "\n",
    "steps: Number of steps the person took on average in January 2018.\n",
    "\n",
    "incomes.json: Contains one record for each person.\n",
    "\n",
    "id: Unique identifier for the person. Two records with the same ID between age_steps.csv and incomes.json \n",
    "correspond to the same person.\n",
    "\n",
    "last_name: Last name of the person.\n",
    "\n",
    "first_name: First name of the person.\n",
    "\n",
    "income: Income of the person in 2018.\n",
    "\n",
    "For part 1 and 2 of the assignment, we recommend looking at the official 10 minutes to pandas guide: \n",
    "http://pandas.pydata.org/pandas-docs/stable/10min.html\n",
    "\n",
    "Question 1a: Load the age_steps.csv file into a pandas DataFrame named df_steps. It should have 11257 rows and 3 columns.\n",
    "'''"
   ]
  },
  {
   "cell_type": "code",
   "execution_count": 5,
   "metadata": {},
   "outputs": [],
   "source": [
    "df_steps = pd.read_csv('age_steps.csv')"
   ]
  },
  {
   "cell_type": "code",
   "execution_count": 6,
   "metadata": {},
   "outputs": [
    {
     "data": {
      "text/plain": [
       "<bound method NDFrame.describe of           id  age  steps\n",
       "0      18875   31   9159\n",
       "1      36859   48   6764\n",
       "2      99794   39   4308\n",
       "...      ...  ...    ...\n",
       "11254  52336   41     -1\n",
       "11255  54972   44   7548\n",
       "11256  17411   43   8765\n",
       "\n",
       "[11257 rows x 3 columns]>"
      ]
     },
     "execution_count": 6,
     "metadata": {},
     "output_type": "execute_result"
    }
   ],
   "source": [
    "df_steps.describe"
   ]
  },
  {
   "cell_type": "code",
   "execution_count": 7,
   "metadata": {},
   "outputs": [],
   "source": [
    "assert isinstance(df_steps, pd.DataFrame)\n",
    "assert df_steps.shape == (11257, 3)"
   ]
  },
  {
   "cell_type": "code",
   "execution_count": 8,
   "metadata": {},
   "outputs": [
    {
     "data": {
      "text/plain": [
       "'\\nQuestion 1b: Load the incomes.json file into a pandas DataFrame called df_income. \\nThe DataFrame should have 13332 rows and 4 columns.\\n\\nHint: Find a pandas function similar to read_csv for JSON files.\\n'"
      ]
     },
     "execution_count": 8,
     "metadata": {},
     "output_type": "execute_result"
    }
   ],
   "source": [
    "'''\n",
    "Question 1b: Load the incomes.json file into a pandas DataFrame called df_income. \n",
    "The DataFrame should have 13332 rows and 4 columns.\n",
    "\n",
    "Hint: Find a pandas function similar to read_csv for JSON files.\n",
    "'''"
   ]
  },
  {
   "cell_type": "code",
   "execution_count": 9,
   "metadata": {},
   "outputs": [],
   "source": [
    "df_income = pd.read_json('incomes.json')"
   ]
  },
  {
   "cell_type": "code",
   "execution_count": 10,
   "metadata": {},
   "outputs": [
    {
     "data": {
      "text/plain": [
       "<bound method NDFrame.describe of           id last_name first_name    income\n",
       "0      84764     Wolfe      Brian  99807.16\n",
       "1      49337     Keith     George      0.00\n",
       "2      54204    Wilcox    Zachary   5242.96\n",
       "...      ...       ...        ...       ...\n",
       "13329  68473     Meyer        Ian   7617.27\n",
       "13330  60486   Russell       Carl  34479.99\n",
       "13331  13915   Johnson     Curtis  12133.79\n",
       "\n",
       "[13332 rows x 4 columns]>"
      ]
     },
     "execution_count": 10,
     "metadata": {},
     "output_type": "execute_result"
    }
   ],
   "source": [
    "df_income.describe"
   ]
  },
  {
   "cell_type": "code",
   "execution_count": 11,
   "metadata": {},
   "outputs": [],
   "source": [
    "assert isinstance(df_income, pd.DataFrame)\n",
    "assert df_income.shape == (13332, 4)"
   ]
  },
  {
   "cell_type": "code",
   "execution_count": 12,
   "metadata": {},
   "outputs": [
    {
     "data": {
      "text/plain": [
       "'\\nQuestion 1c: Drop the first_name and last_name columns from the df_income DataFrame. \\nThe resulting DataFrame should only have two columns.\\n'"
      ]
     },
     "execution_count": 12,
     "metadata": {},
     "output_type": "execute_result"
    }
   ],
   "source": [
    "'''\n",
    "Question 1c: Drop the first_name and last_name columns from the df_income DataFrame. \n",
    "The resulting DataFrame should only have two columns.\n",
    "'''"
   ]
  },
  {
   "cell_type": "code",
   "execution_count": 13,
   "metadata": {},
   "outputs": [],
   "source": [
    "df_income = df_income[['id', 'income']]"
   ]
  },
  {
   "cell_type": "code",
   "execution_count": 14,
   "metadata": {},
   "outputs": [],
   "source": [
    "assert 'first_name' not in df_income.columns\n",
    "assert 'last_name' not in df_income.columns"
   ]
  },
  {
   "cell_type": "code",
   "execution_count": 15,
   "metadata": {},
   "outputs": [
    {
     "data": {
      "text/plain": [
       "'\\nQuestion 1d: Merge the df_steps and df_income DataFrames into a single combined DataFrame called df. \\nUse the id column to match rows together.\\n\\nThe final DataFrame should have 10,135 rows and 4 columns: id, income, age, and steps.\\n\\nCall an appropriate pandas method to perform this operation; don’t write a for loop. \\n(In general, writing a for loop for a DataFrame will produce poor results.)\\n'"
      ]
     },
     "execution_count": 15,
     "metadata": {},
     "output_type": "execute_result"
    }
   ],
   "source": [
    "'''\n",
    "Question 1d: Merge the df_steps and df_income DataFrames into a single combined DataFrame called df. \n",
    "Use the id column to match rows together.\n",
    "\n",
    "The final DataFrame should have 10,135 rows and 4 columns: id, income, age, and steps.\n",
    "\n",
    "Call an appropriate pandas method to perform this operation; don’t write a for loop. \n",
    "(In general, writing a for loop for a DataFrame will produce poor results.)\n",
    "'''"
   ]
  },
  {
   "cell_type": "code",
   "execution_count": 16,
   "metadata": {},
   "outputs": [],
   "source": [
    "df = pd.merge(df_income, df_steps, on='id')"
   ]
  },
  {
   "cell_type": "code",
   "execution_count": 17,
   "metadata": {},
   "outputs": [
    {
     "data": {
      "text/html": [
       "<div>\n",
       "<style scoped>\n",
       "    .dataframe tbody tr th:only-of-type {\n",
       "        vertical-align: middle;\n",
       "    }\n",
       "\n",
       "    .dataframe tbody tr th {\n",
       "        vertical-align: top;\n",
       "    }\n",
       "\n",
       "    .dataframe thead th {\n",
       "        text-align: right;\n",
       "    }\n",
       "</style>\n",
       "<table border=\"1\" class=\"dataframe\">\n",
       "  <thead>\n",
       "    <tr style=\"text-align: right;\">\n",
       "      <th></th>\n",
       "      <th>id</th>\n",
       "      <th>income</th>\n",
       "      <th>age</th>\n",
       "      <th>steps</th>\n",
       "    </tr>\n",
       "  </thead>\n",
       "  <tbody>\n",
       "    <tr>\n",
       "      <th>0</th>\n",
       "      <td>84764</td>\n",
       "      <td>99807.16</td>\n",
       "      <td>41</td>\n",
       "      <td>8622</td>\n",
       "    </tr>\n",
       "    <tr>\n",
       "      <th>1</th>\n",
       "      <td>49337</td>\n",
       "      <td>0.00</td>\n",
       "      <td>31</td>\n",
       "      <td>9870</td>\n",
       "    </tr>\n",
       "    <tr>\n",
       "      <th>2</th>\n",
       "      <td>41693</td>\n",
       "      <td>0.00</td>\n",
       "      <td>37</td>\n",
       "      <td>-1</td>\n",
       "    </tr>\n",
       "    <tr>\n",
       "      <th>3</th>\n",
       "      <td>98170</td>\n",
       "      <td>18077.78</td>\n",
       "      <td>34</td>\n",
       "      <td>6987</td>\n",
       "    </tr>\n",
       "    <tr>\n",
       "      <th>4</th>\n",
       "      <td>3319</td>\n",
       "      <td>18090.91</td>\n",
       "      <td>28</td>\n",
       "      <td>6976</td>\n",
       "    </tr>\n",
       "  </tbody>\n",
       "</table>\n",
       "</div>"
      ],
      "text/plain": [
       "      id    income  age  steps\n",
       "0  84764  99807.16   41   8622\n",
       "1  49337      0.00   31   9870\n",
       "2  41693      0.00   37     -1\n",
       "3  98170  18077.78   34   6987\n",
       "4   3319  18090.91   28   6976"
      ]
     },
     "execution_count": 17,
     "metadata": {},
     "output_type": "execute_result"
    }
   ],
   "source": [
    "df.head()"
   ]
  },
  {
   "cell_type": "code",
   "execution_count": 18,
   "metadata": {},
   "outputs": [],
   "source": [
    "assert isinstance(df, pd.DataFrame)\n",
    "assert set(df.columns) == set(['id', 'income', 'age', 'steps'])\n",
    "assert df.shape == (10135, 4)"
   ]
  },
  {
   "cell_type": "code",
   "execution_count": 19,
   "metadata": {},
   "outputs": [
    {
     "data": {
      "text/plain": [
       "'\\nQuestion 1e: Reorder the columns of df so that they appear in the order: id, age, steps, then income.\\n\\n(Note: If your DataFrame is already in this order, just put df in this cell.)\\n'"
      ]
     },
     "execution_count": 19,
     "metadata": {},
     "output_type": "execute_result"
    }
   ],
   "source": [
    "'''\n",
    "Question 1e: Reorder the columns of df so that they appear in the order: id, age, steps, then income.\n",
    "\n",
    "(Note: If your DataFrame is already in this order, just put df in this cell.)\n",
    "'''"
   ]
  },
  {
   "cell_type": "code",
   "execution_count": 20,
   "metadata": {},
   "outputs": [],
   "source": [
    "df = df[['id', 'age', 'steps', 'income']]"
   ]
  },
  {
   "cell_type": "code",
   "execution_count": 21,
   "metadata": {},
   "outputs": [
    {
     "data": {
      "text/html": [
       "<div>\n",
       "<style scoped>\n",
       "    .dataframe tbody tr th:only-of-type {\n",
       "        vertical-align: middle;\n",
       "    }\n",
       "\n",
       "    .dataframe tbody tr th {\n",
       "        vertical-align: top;\n",
       "    }\n",
       "\n",
       "    .dataframe thead th {\n",
       "        text-align: right;\n",
       "    }\n",
       "</style>\n",
       "<table border=\"1\" class=\"dataframe\">\n",
       "  <thead>\n",
       "    <tr style=\"text-align: right;\">\n",
       "      <th></th>\n",
       "      <th>id</th>\n",
       "      <th>age</th>\n",
       "      <th>steps</th>\n",
       "      <th>income</th>\n",
       "    </tr>\n",
       "  </thead>\n",
       "  <tbody>\n",
       "    <tr>\n",
       "      <th>0</th>\n",
       "      <td>84764</td>\n",
       "      <td>41</td>\n",
       "      <td>8622</td>\n",
       "      <td>99807.16</td>\n",
       "    </tr>\n",
       "    <tr>\n",
       "      <th>1</th>\n",
       "      <td>49337</td>\n",
       "      <td>31</td>\n",
       "      <td>9870</td>\n",
       "      <td>0.00</td>\n",
       "    </tr>\n",
       "    <tr>\n",
       "      <th>2</th>\n",
       "      <td>41693</td>\n",
       "      <td>37</td>\n",
       "      <td>-1</td>\n",
       "      <td>0.00</td>\n",
       "    </tr>\n",
       "    <tr>\n",
       "      <th>3</th>\n",
       "      <td>98170</td>\n",
       "      <td>34</td>\n",
       "      <td>6987</td>\n",
       "      <td>18077.78</td>\n",
       "    </tr>\n",
       "    <tr>\n",
       "      <th>4</th>\n",
       "      <td>3319</td>\n",
       "      <td>28</td>\n",
       "      <td>6976</td>\n",
       "      <td>18090.91</td>\n",
       "    </tr>\n",
       "  </tbody>\n",
       "</table>\n",
       "</div>"
      ],
      "text/plain": [
       "      id  age  steps    income\n",
       "0  84764   41   8622  99807.16\n",
       "1  49337   31   9870      0.00\n",
       "2  41693   37     -1      0.00\n",
       "3  98170   34   6987  18077.78\n",
       "4   3319   28   6976  18090.91"
      ]
     },
     "execution_count": 21,
     "metadata": {},
     "output_type": "execute_result"
    }
   ],
   "source": [
    "df.head()"
   ]
  },
  {
   "cell_type": "code",
   "execution_count": 22,
   "metadata": {},
   "outputs": [],
   "source": [
    "assert list(df.columns) == ['id', 'age', 'steps', 'income']"
   ]
  },
  {
   "cell_type": "code",
   "execution_count": 23,
   "metadata": {},
   "outputs": [
    {
     "data": {
      "text/plain": [
       "'\\nQuestion 1f: You may have noticed something strange: the merged df DataFrame has fewer rows than either \\nof df_steps and df_income. Why did this happen? (If you’re unsure, check out the documentation for the \\npandas method you used to merge these two datasets. Take note of the default values set for this method’s parameters.)\\n\\nPlease select the one correct explanation below and save your answer in the variable q1f_answer. \\nFor example, if you believe choice number 4 explains why df has fewer rows, set q1f_answer = 4.\\n\\n1. Some steps were recorded inaccurately in df_steps.\\n\\n2. Some incomes were recorded inaccurately in df_income.\\n\\n3. There are fewer rows in df_steps than in df_income.\\n\\n4. There are fewer columns in df_steps than in df_income.\\n\\n5. Some id values in either df_steps and df_income were missing in the other DataFrame.\\n\\n6. Some id values were repeated in df_steps and in df_income.\\n\\nYou may use the cell below to run whatever code you want to check the statements above. \\nJust make sure to set q1f_answer once you’ve selected a choice.\\n'"
      ]
     },
     "execution_count": 23,
     "metadata": {},
     "output_type": "execute_result"
    }
   ],
   "source": [
    "'''\n",
    "Question 1f: You may have noticed something strange: the merged df DataFrame has fewer rows than either \n",
    "of df_steps and df_income. Why did this happen? (If you’re unsure, check out the documentation for the \n",
    "pandas method you used to merge these two datasets. Take note of the default values set for this method’s parameters.)\n",
    "\n",
    "Please select the one correct explanation below and save your answer in the variable q1f_answer. \n",
    "For example, if you believe choice number 4 explains why df has fewer rows, set q1f_answer = 4.\n",
    "\n",
    "1. Some steps were recorded inaccurately in df_steps.\n",
    "\n",
    "2. Some incomes were recorded inaccurately in df_income.\n",
    "\n",
    "3. There are fewer rows in df_steps than in df_income.\n",
    "\n",
    "4. There are fewer columns in df_steps than in df_income.\n",
    "\n",
    "5. Some id values in either df_steps and df_income were missing in the other DataFrame.\n",
    "\n",
    "6. Some id values were repeated in df_steps and in df_income.\n",
    "\n",
    "You may use the cell below to run whatever code you want to check the statements above. \n",
    "Just make sure to set q1f_answer once you’ve selected a choice.\n",
    "'''"
   ]
  },
  {
   "cell_type": "code",
   "execution_count": 24,
   "metadata": {},
   "outputs": [],
   "source": [
    "q1f_answer = 5"
   ]
  },
  {
   "cell_type": "code",
   "execution_count": 25,
   "metadata": {},
   "outputs": [],
   "source": [
    "assert isinstance(q1f_answer, int)"
   ]
  },
  {
   "cell_type": "code",
   "execution_count": 26,
   "metadata": {},
   "outputs": [
    {
     "data": {
      "text/plain": [
       "'\\nPart 2 - Data Cleaning (0.9 points)\\nBefore proceeding with analysis, we need to check our data for missing values.\\n\\nThere are many reasons data might contain missing values. Here are two common ones:\\n\\nNonresponse. For example, people might have left a field blank when responding to a survey, or left the entire survey blank.\\n\\nLost in entry. Data might have been lost after initial recording. For example, a disk cleanup might accidentally wipe \\nolder entries of a database.\\n\\nIn general, it is not appropriate to simply drop missing values from the dataset or pretend that if filled in \\nthey would not change your results. In 2016, many polls mistakenly predicted that Hillary Clinton would easily win \\nthe Presidential election by committing this error.\\n\\nIn this particular dataset, however, the missing values occur completely at random. This criteria allows us to drop \\nmissing values without significantly affecting our conclusions.\\n\\nQuestion 2a: How many values are missing in the income column of df? Save this number into a variable called n_nan.\\n'"
      ]
     },
     "execution_count": 26,
     "metadata": {},
     "output_type": "execute_result"
    }
   ],
   "source": [
    "'''\n",
    "Part 2 - Data Cleaning (0.9 points)\n",
    "Before proceeding with analysis, we need to check our data for missing values.\n",
    "\n",
    "There are many reasons data might contain missing values. Here are two common ones:\n",
    "\n",
    "Nonresponse. For example, people might have left a field blank when responding to a survey, or left the entire survey blank.\n",
    "\n",
    "Lost in entry. Data might have been lost after initial recording. For example, a disk cleanup might accidentally wipe \n",
    "older entries of a database.\n",
    "\n",
    "In general, it is not appropriate to simply drop missing values from the dataset or pretend that if filled in \n",
    "they would not change your results. In 2016, many polls mistakenly predicted that Hillary Clinton would easily win \n",
    "the Presidential election by committing this error.\n",
    "\n",
    "In this particular dataset, however, the missing values occur completely at random. This criteria allows us to drop \n",
    "missing values without significantly affecting our conclusions.\n",
    "\n",
    "Question 2a: How many values are missing in the income column of df? Save this number into a variable called n_nan.\n",
    "'''"
   ]
  },
  {
   "cell_type": "code",
   "execution_count": 27,
   "metadata": {},
   "outputs": [],
   "source": [
    "n_nan = sum(df['income'].isna())"
   ]
  },
  {
   "cell_type": "code",
   "execution_count": 28,
   "metadata": {},
   "outputs": [],
   "source": [
    "assert(n_nan)"
   ]
  },
  {
   "cell_type": "code",
   "execution_count": 29,
   "metadata": {},
   "outputs": [
    {
     "data": {
      "text/plain": [
       "'\\nQuestion 2b: Remove all rows from df that have missing values.\\n'"
      ]
     },
     "execution_count": 29,
     "metadata": {},
     "output_type": "execute_result"
    }
   ],
   "source": [
    "'''\n",
    "Question 2b: Remove all rows from df that have missing values.\n",
    "'''"
   ]
  },
  {
   "cell_type": "code",
   "execution_count": 30,
   "metadata": {},
   "outputs": [
    {
     "data": {
      "text/html": [
       "<div>\n",
       "<style scoped>\n",
       "    .dataframe tbody tr th:only-of-type {\n",
       "        vertical-align: middle;\n",
       "    }\n",
       "\n",
       "    .dataframe tbody tr th {\n",
       "        vertical-align: top;\n",
       "    }\n",
       "\n",
       "    .dataframe thead th {\n",
       "        text-align: right;\n",
       "    }\n",
       "</style>\n",
       "<table border=\"1\" class=\"dataframe\">\n",
       "  <thead>\n",
       "    <tr style=\"text-align: right;\">\n",
       "      <th></th>\n",
       "      <th>id</th>\n",
       "      <th>age</th>\n",
       "      <th>steps</th>\n",
       "      <th>income</th>\n",
       "    </tr>\n",
       "  </thead>\n",
       "  <tbody>\n",
       "    <tr>\n",
       "      <th>0</th>\n",
       "      <td>84764</td>\n",
       "      <td>41</td>\n",
       "      <td>8622</td>\n",
       "      <td>99807.16</td>\n",
       "    </tr>\n",
       "    <tr>\n",
       "      <th>1</th>\n",
       "      <td>49337</td>\n",
       "      <td>31</td>\n",
       "      <td>9870</td>\n",
       "      <td>0.00</td>\n",
       "    </tr>\n",
       "    <tr>\n",
       "      <th>2</th>\n",
       "      <td>41693</td>\n",
       "      <td>37</td>\n",
       "      <td>-1</td>\n",
       "      <td>0.00</td>\n",
       "    </tr>\n",
       "    <tr>\n",
       "      <th>...</th>\n",
       "      <td>...</td>\n",
       "      <td>...</td>\n",
       "      <td>...</td>\n",
       "      <td>...</td>\n",
       "    </tr>\n",
       "    <tr>\n",
       "      <th>10132</th>\n",
       "      <td>68473</td>\n",
       "      <td>40</td>\n",
       "      <td>7895</td>\n",
       "      <td>7617.27</td>\n",
       "    </tr>\n",
       "    <tr>\n",
       "      <th>10133</th>\n",
       "      <td>60486</td>\n",
       "      <td>49</td>\n",
       "      <td>6004</td>\n",
       "      <td>34479.99</td>\n",
       "    </tr>\n",
       "    <tr>\n",
       "      <th>10134</th>\n",
       "      <td>13915</td>\n",
       "      <td>39</td>\n",
       "      <td>7180</td>\n",
       "      <td>12133.79</td>\n",
       "    </tr>\n",
       "  </tbody>\n",
       "</table>\n",
       "<p>9684 rows × 4 columns</p>\n",
       "</div>"
      ],
      "text/plain": [
       "          id  age  steps    income\n",
       "0      84764   41   8622  99807.16\n",
       "1      49337   31   9870      0.00\n",
       "2      41693   37     -1      0.00\n",
       "...      ...  ...    ...       ...\n",
       "10132  68473   40   7895   7617.27\n",
       "10133  60486   49   6004  34479.99\n",
       "10134  13915   39   7180  12133.79\n",
       "\n",
       "[9684 rows x 4 columns]"
      ]
     },
     "execution_count": 30,
     "metadata": {},
     "output_type": "execute_result"
    }
   ],
   "source": [
    "df = df.loc[df['income'].isna() == False]\n",
    "df"
   ]
  },
  {
   "cell_type": "code",
   "execution_count": 31,
   "metadata": {},
   "outputs": [],
   "source": [
    "assert sum(np.isnan(df['income'])) == 0\n",
    "assert df.shape == (9684, 4)"
   ]
  },
  {
   "cell_type": "code",
   "execution_count": 32,
   "metadata": {},
   "outputs": [
    {
     "data": {
      "text/plain": [
       "\"\\nQuestion 2c: Note that we can now compute the average income. If your df variable contains the right values, \\ndf['income'].mean() should produce the value 25508.84.\\n\\nSuppose that we didn’t drop the missing incomes. What will running df['income'].mean() output? \\nUse the variable q2c_answer to record which of the below statements you think is true. As usual, \\nyou can use the cell below to run any code you’d like in order to help you answer this question \\nas long as you set q2c_answer once you’ve finished.\\n\\n1. No change; df['income'].mean() will ignore the missing values and output 25508.84.\\n\\n2. df['income'].mean() will produce an error.\\n\\n3. df['income'].mean() will output 0.\\n\\n4. df['income'].mean() will output nan (not a number).\\n\\n5. df['income'].mean() will fill in the missing values with the average income, then compute the average.\\n\\n6. df['income'].mean() will fill in the missing values with 0, then compute the average.\\n\""
      ]
     },
     "execution_count": 32,
     "metadata": {},
     "output_type": "execute_result"
    }
   ],
   "source": [
    "'''\n",
    "Question 2c: Note that we can now compute the average income. If your df variable contains the right values, \n",
    "df['income'].mean() should produce the value 25508.84.\n",
    "\n",
    "Suppose that we didn’t drop the missing incomes. What will running df['income'].mean() output? \n",
    "Use the variable q2c_answer to record which of the below statements you think is true. As usual, \n",
    "you can use the cell below to run any code you’d like in order to help you answer this question \n",
    "as long as you set q2c_answer once you’ve finished.\n",
    "\n",
    "1. No change; df['income'].mean() will ignore the missing values and output 25508.84.\n",
    "\n",
    "2. df['income'].mean() will produce an error.\n",
    "\n",
    "3. df['income'].mean() will output 0.\n",
    "\n",
    "4. df['income'].mean() will output nan (not a number).\n",
    "\n",
    "5. df['income'].mean() will fill in the missing values with the average income, then compute the average.\n",
    "\n",
    "6. df['income'].mean() will fill in the missing values with 0, then compute the average.\n",
    "'''"
   ]
  },
  {
   "cell_type": "code",
   "execution_count": 33,
   "metadata": {},
   "outputs": [
    {
     "data": {
      "text/plain": [
       "25508.83871127632"
      ]
     },
     "execution_count": 33,
     "metadata": {},
     "output_type": "execute_result"
    }
   ],
   "source": [
    "df['income'].mean()"
   ]
  },
  {
   "cell_type": "code",
   "execution_count": 34,
   "metadata": {},
   "outputs": [],
   "source": [
    "q2c_answer = 1\n",
    "# But only because this is randomized sample."
   ]
  },
  {
   "cell_type": "code",
   "execution_count": 35,
   "metadata": {},
   "outputs": [],
   "source": [
    "assert isinstance(q2c_answer, int)"
   ]
  },
  {
   "cell_type": "code",
   "execution_count": 36,
   "metadata": {},
   "outputs": [
    {
     "data": {
      "text/plain": [
       "\"\\nQuestion 2d: Suppose that missing incomes did not occur at random, and that individuals with incomes \\nbelow $10000 a year are less likely to report their incomes. If so, which of the following statements below is true? \\nRecord your choice in the variable q2d_answer.\\n\\n1. df['income'].mean() will likely output a value that is the same as the population’s average income\\n\\n2. df['income'].mean() will likely output a value that is smaller than the population’s average income.\\n\\n3. df['income'].mean() will likely output a value that is larger than the population’s average income.\\n\\n4. df['income'].mean() will raise an error.\\n\""
      ]
     },
     "execution_count": 36,
     "metadata": {},
     "output_type": "execute_result"
    }
   ],
   "source": [
    "'''\n",
    "Question 2d: Suppose that missing incomes did not occur at random, and that individuals with incomes \n",
    "below $10000 a year are less likely to report their incomes. If so, which of the following statements below is true? \n",
    "Record your choice in the variable q2d_answer.\n",
    "\n",
    "1. df['income'].mean() will likely output a value that is the same as the population’s average income\n",
    "\n",
    "2. df['income'].mean() will likely output a value that is smaller than the population’s average income.\n",
    "\n",
    "3. df['income'].mean() will likely output a value that is larger than the population’s average income.\n",
    "\n",
    "4. df['income'].mean() will raise an error.\n",
    "'''"
   ]
  },
  {
   "cell_type": "code",
   "execution_count": 37,
   "metadata": {},
   "outputs": [],
   "source": [
    "q2d_answer = 3"
   ]
  },
  {
   "cell_type": "code",
   "execution_count": 38,
   "metadata": {},
   "outputs": [],
   "source": [
    "assert isinstance(q2d_answer, int)"
   ]
  },
  {
   "cell_type": "code",
   "execution_count": 39,
   "metadata": {},
   "outputs": [
    {
     "data": {
      "text/plain": [
       "'\\nPart 3: Data Visualization (0.9 points)\\nAlthough pandas only displays a few rows of a DataFrame at a time, we can use data visualizations to quickly \\ndetermine the distributions of values within our data.\\n\\npandas comes with some plotting capabilities built-in; however, we’ve discussed using seaborn for visualization in class. \\nYou’re free to use either here in this assignment. (To learn more about pandas’ plotting capabilities, we suggest \\ntaking a look at [https://pandas.pydata.org/pandas-docs/stable/user_guide/visualization.html] for examples.)\\n\\nWe want to note that most plotting libraries in Python are built on top of a library called matplotlib, including the \\nplotting methods used in both pandas and seaborn. Although you won’t need to know matplotlib for this assignment, \\nyou will likely have to use it in future assignments and your final project, so keep the library in mind.\\n\\nNotes:\\n\\nEverywhere that we ask you to create a plot, make sure to leave the plt.gcf() line at the end of the cell. \\nOtherwise, you will lose points in the autograder.\\n\\nFor all your histograms, use 25 bins.\\n\\nQuestion 3a: Plot a histogram of the age column with 25 bins\\n'"
      ]
     },
     "execution_count": 39,
     "metadata": {},
     "output_type": "execute_result"
    }
   ],
   "source": [
    "'''\n",
    "Part 3: Data Visualization (0.9 points)\n",
    "Although pandas only displays a few rows of a DataFrame at a time, we can use data visualizations to quickly \n",
    "determine the distributions of values within our data.\n",
    "\n",
    "pandas comes with some plotting capabilities built-in; however, we’ve discussed using seaborn for visualization in class. \n",
    "You’re free to use either here in this assignment. (To learn more about pandas’ plotting capabilities, we suggest \n",
    "taking a look at [https://pandas.pydata.org/pandas-docs/stable/user_guide/visualization.html] for examples.)\n",
    "\n",
    "We want to note that most plotting libraries in Python are built on top of a library called matplotlib, including the \n",
    "plotting methods used in both pandas and seaborn. Although you won’t need to know matplotlib for this assignment, \n",
    "you will likely have to use it in future assignments and your final project, so keep the library in mind.\n",
    "\n",
    "Notes:\n",
    "\n",
    "Everywhere that we ask you to create a plot, make sure to leave the plt.gcf() line at the end of the cell. \n",
    "Otherwise, you will lose points in the autograder.\n",
    "\n",
    "For all your histograms, use 25 bins.\n",
    "\n",
    "Question 3a: Plot a histogram of the age column with 25 bins\n",
    "'''"
   ]
  },
  {
   "cell_type": "code",
   "execution_count": 40,
   "metadata": {},
   "outputs": [
    {
     "data": {
      "image/png": "[encoded data removed]",
      "text/plain": [
       "<Figure size 640x480 with 1 Axes>"
      ]
     },
     "metadata": {},
     "output_type": "display_data"
    }
   ],
   "source": [
    "plt.hist(df['age'], bins=25)\n",
    "plt.xlabel('Age')\n",
    "plt.ylabel('Ocurrency')\n",
    "f1 = plt.gcf()"
   ]
  },
  {
   "cell_type": "code",
   "execution_count": 41,
   "metadata": {},
   "outputs": [],
   "source": [
    "assert f1.gca().has_data()\n",
    "\n",
    "# If you fail this test, you didn't use 25 bins for your histogram.\n",
    "assert len(f1.gca().patches) == 25"
   ]
  },
  {
   "cell_type": "code",
   "execution_count": 42,
   "metadata": {},
   "outputs": [
    {
     "data": {
      "text/plain": [
       "'\\nQuestion 3b: By looking at the plot, what is the approximate average (mean) age of the individuals in df? \\nRound the value to the closest year. Store the answer in the variable average_age\\n'"
      ]
     },
     "execution_count": 42,
     "metadata": {},
     "output_type": "execute_result"
    }
   ],
   "source": [
    "'''\n",
    "Question 3b: By looking at the plot, what is the approximate average (mean) age of the individuals in df? \n",
    "Round the value to the closest year. Store the answer in the variable average_age\n",
    "'''"
   ]
  },
  {
   "cell_type": "code",
   "execution_count": 43,
   "metadata": {},
   "outputs": [],
   "source": [
    "average_age = 40"
   ]
  },
  {
   "cell_type": "code",
   "execution_count": 44,
   "metadata": {},
   "outputs": [],
   "source": [
    "assert isinstance(average_age, int)"
   ]
  },
  {
   "cell_type": "code",
   "execution_count": 45,
   "metadata": {},
   "outputs": [
    {
     "data": {
      "text/plain": [
       "'\\nQuestion 3c: Plot a histogram of the steps column with 25 bins.\\n'"
      ]
     },
     "execution_count": 45,
     "metadata": {},
     "output_type": "execute_result"
    }
   ],
   "source": [
    "'''\n",
    "Question 3c: Plot a histogram of the steps column with 25 bins.\n",
    "'''"
   ]
  },
  {
   "cell_type": "code",
   "execution_count": 46,
   "metadata": {},
   "outputs": [
    {
     "data": {
      "image/png": "[encoded data removed]",
      "text/plain": [
       "<Figure size 640x480 with 1 Axes>"
      ]
     },
     "metadata": {},
     "output_type": "display_data"
    }
   ],
   "source": [
    "plt.hist(df['steps'], bins=25)\n",
    "plt.xlabel('Number of steps')\n",
    "plt.ylabel('Ocurrency')\n",
    "f2 = plt.gcf()"
   ]
  },
  {
   "cell_type": "code",
   "execution_count": 47,
   "metadata": {},
   "outputs": [],
   "source": [
    "assert f2.gca().has_data()"
   ]
  },
  {
   "cell_type": "code",
   "execution_count": 48,
   "metadata": {},
   "outputs": [
    {
     "data": {
      "text/plain": [
       "\"\\nQuestion 3d: By looking at the plot you just generated, approximately how many people in df do the data suggest took no steps? \\nStore the letter that best corresponds to your answer in the variable no_steps. \\n(For example, if you thought the answer was A) 0, your response would be no_steps = 'A'.\\n\\nA) 0\\n\\nB) 100\\n\\nC) 1000\\n\\nD) 10000\\n\""
      ]
     },
     "execution_count": 48,
     "metadata": {},
     "output_type": "execute_result"
    }
   ],
   "source": [
    "'''\n",
    "Question 3d: By looking at the plot you just generated, approximately how many people in df do the data suggest took no steps? \n",
    "Store the letter that best corresponds to your answer in the variable no_steps. \n",
    "(For example, if you thought the answer was A) 0, your response would be no_steps = 'A'.\n",
    "\n",
    "A) 0\n",
    "\n",
    "B) 100\n",
    "\n",
    "C) 1000\n",
    "\n",
    "D) 10000\n",
    "'''"
   ]
  },
  {
   "cell_type": "code",
   "execution_count": 49,
   "metadata": {},
   "outputs": [],
   "source": [
    "no_steps = 'C'"
   ]
  },
  {
   "cell_type": "code",
   "execution_count": 50,
   "metadata": {},
   "outputs": [],
   "source": [
    "assert isinstance(no_steps, str)"
   ]
  },
  {
   "cell_type": "code",
   "execution_count": 51,
   "metadata": {},
   "outputs": [
    {
     "data": {
      "text/plain": [
       "'\\nQuestion 3e: Plot a histogram of the income column with 25 bins.\\n'"
      ]
     },
     "execution_count": 51,
     "metadata": {},
     "output_type": "execute_result"
    }
   ],
   "source": [
    "'''\n",
    "Question 3e: Plot a histogram of the income column with 25 bins.\n",
    "'''"
   ]
  },
  {
   "cell_type": "code",
   "execution_count": 52,
   "metadata": {},
   "outputs": [
    {
     "data": {
      "image/png": "[encoded data removed]",
      "text/plain": [
       "<Figure size 640x480 with 1 Axes>"
      ]
     },
     "metadata": {},
     "output_type": "display_data"
    }
   ],
   "source": [
    "plt.hist(df['income'], bins=25)\n",
    "plt.xlabel('Income')\n",
    "plt.ylabel('Ocurrency')\n",
    "f3 = plt.gcf()"
   ]
  },
  {
   "cell_type": "code",
   "execution_count": 53,
   "metadata": {},
   "outputs": [],
   "source": [
    "assert f3.gca().has_data()"
   ]
  },
  {
   "cell_type": "code",
   "execution_count": 54,
   "metadata": {},
   "outputs": [
    {
     "data": {
      "text/plain": [
       "'\\nQuestion 3f Which of the following statements is true about the income of the individuals included in df? \\nStore the letter corresponding to your answer in the variable income_plot. \\n(Note: Be sure to consider the bin size of the x-axis when interpreting the plot.)\\n\\nA) Most people in df had no income in 2018\\n\\nB) Most people in df made a six figure salary in 2018\\n\\nC) Most people in df made a salary of more than 200000 USD in 2018\\n\\nD) A few people in df made a lot more money than the typical person in df\\n'"
      ]
     },
     "execution_count": 54,
     "metadata": {},
     "output_type": "execute_result"
    }
   ],
   "source": [
    "'''\n",
    "Question 3f Which of the following statements is true about the income of the individuals included in df? \n",
    "Store the letter corresponding to your answer in the variable income_plot. \n",
    "(Note: Be sure to consider the bin size of the x-axis when interpreting the plot.)\n",
    "\n",
    "A) Most people in df had no income in 2018\n",
    "\n",
    "B) Most people in df made a six figure salary in 2018\n",
    "\n",
    "C) Most people in df made a salary of more than 200000 USD in 2018\n",
    "\n",
    "D) A few people in df made a lot more money than the typical person in df\n",
    "'''"
   ]
  },
  {
   "cell_type": "code",
   "execution_count": 55,
   "metadata": {},
   "outputs": [],
   "source": [
    "income_plot = 'D'"
   ]
  },
  {
   "cell_type": "code",
   "execution_count": 56,
   "metadata": {},
   "outputs": [],
   "source": [
    "assert isinstance(income_plot, str)"
   ]
  },
  {
   "cell_type": "code",
   "execution_count": 57,
   "metadata": {},
   "outputs": [
    {
     "data": {
      "text/plain": [
       "'\\nQuestion 3g: Plot the data using the pandas scatter_matrix function. Only plot the age, steps, and income columns.\\n\\nNote: Including the parameter: figsize = (8, 6) will increase the size of the plot for easier viewing\\n'"
      ]
     },
     "execution_count": 57,
     "metadata": {},
     "output_type": "execute_result"
    }
   ],
   "source": [
    "'''\n",
    "Question 3g: Plot the data using the pandas scatter_matrix function. Only plot the age, steps, and income columns.\n",
    "\n",
    "Note: Including the parameter: figsize = (8, 6) will increase the size of the plot for easier viewing\n",
    "'''"
   ]
  },
  {
   "cell_type": "code",
   "execution_count": 58,
   "metadata": {},
   "outputs": [
    {
     "data": {
      "image/png": "[encoded data removed]",
      "text/plain": [
       "<Figure size 800x600 with 9 Axes>"
      ]
     },
     "metadata": {},
     "output_type": "display_data"
    }
   ],
   "source": [
    "pd.plotting.scatter_matrix(df[['income', 'steps', 'age']], figsize = (8, 6))\n",
    "f4 = plt.gcf()"
   ]
  },
  {
   "cell_type": "code",
   "execution_count": 59,
   "metadata": {},
   "outputs": [],
   "source": [
    "assert f4.gca().has_data()"
   ]
  },
  {
   "cell_type": "code",
   "execution_count": 60,
   "metadata": {},
   "outputs": [
    {
     "data": {
      "text/plain": [
       "'\\nQuestion 3h: By looking at the plot matrix you just generated, deteremine the approximate age of the wealthiest person in df. \\nStore this value (to the nearest year) in the variable wealthy_age.\\n'"
      ]
     },
     "execution_count": 60,
     "metadata": {},
     "output_type": "execute_result"
    }
   ],
   "source": [
    "'''\n",
    "Question 3h: By looking at the plot matrix you just generated, deteremine the approximate age of the wealthiest person in df. \n",
    "Store this value (to the nearest year) in the variable wealthy_age.\n",
    "'''"
   ]
  },
  {
   "cell_type": "code",
   "execution_count": 61,
   "metadata": {},
   "outputs": [],
   "source": [
    "wealthy_age = 50"
   ]
  },
  {
   "cell_type": "code",
   "execution_count": 62,
   "metadata": {},
   "outputs": [],
   "source": [
    "assert isinstance(wealthy_age, int)"
   ]
  },
  {
   "cell_type": "code",
   "execution_count": 63,
   "metadata": {},
   "outputs": [
    {
     "data": {
      "text/plain": [
       "'\\nPart 4: Data Pre-Processing (1.45 points)\\nIn the above sections, we performed basic data cleaning and visualization.\\n\\nIn practice, these two components of an analysis pipeline are often combined into an iterative approach. \\nWe go back and forth between looking at the data, checking for issues, and cleaning the data.\\n\\nLet’s continue with an iterative procedure of data cleaning and visualization, addressing some issues that we notice \\nafter visualizing the data.\\n\\nQuestion 4a: In the visualization of the steps column, we notice a large number of -1 values. \\nCount how many rows in df have -1 in their steps column. Store the result in the variable n_neg.\\n'"
      ]
     },
     "execution_count": 63,
     "metadata": {},
     "output_type": "execute_result"
    }
   ],
   "source": [
    "'''\n",
    "Part 4: Data Pre-Processing (1.45 points)\n",
    "In the above sections, we performed basic data cleaning and visualization.\n",
    "\n",
    "In practice, these two components of an analysis pipeline are often combined into an iterative approach. \n",
    "We go back and forth between looking at the data, checking for issues, and cleaning the data.\n",
    "\n",
    "Let’s continue with an iterative procedure of data cleaning and visualization, addressing some issues that we notice \n",
    "after visualizing the data.\n",
    "\n",
    "Question 4a: In the visualization of the steps column, we notice a large number of -1 values. \n",
    "Count how many rows in df have -1 in their steps column. Store the result in the variable n_neg.\n",
    "'''"
   ]
  },
  {
   "cell_type": "code",
   "execution_count": 64,
   "metadata": {},
   "outputs": [],
   "source": [
    "df1 = df.loc[df['steps'] == -1]\n",
    "n_neg = len(df1)"
   ]
  },
  {
   "cell_type": "code",
   "execution_count": 65,
   "metadata": {},
   "outputs": [],
   "source": [
    "assert(n_neg)\n",
    "assert n_neg > 100"
   ]
  },
  {
   "cell_type": "code",
   "execution_count": 66,
   "metadata": {},
   "outputs": [
    {
     "data": {
      "text/plain": [
       "'\\nQuestion 4b: Since it’s impossible to walk a negative number of steps, we will treat the negative values as missing data. \\nDrop the rows with negative steps from df. Your answer should modify df itself.\\n'"
      ]
     },
     "execution_count": 66,
     "metadata": {},
     "output_type": "execute_result"
    }
   ],
   "source": [
    "'''\n",
    "Question 4b: Since it’s impossible to walk a negative number of steps, we will treat the negative values as missing data. \n",
    "Drop the rows with negative steps from df. Your answer should modify df itself.\n",
    "'''"
   ]
  },
  {
   "cell_type": "code",
   "execution_count": 67,
   "metadata": {},
   "outputs": [],
   "source": [
    "df = df.loc[df['steps'] != -1]"
   ]
  },
  {
   "cell_type": "code",
   "execution_count": 68,
   "metadata": {},
   "outputs": [],
   "source": [
    "assert sum(df['steps'] == -1) == 0"
   ]
  },
  {
   "cell_type": "code",
   "execution_count": 69,
   "metadata": {},
   "outputs": [
    {
     "data": {
      "text/plain": [
       "'\\nYou may have noticed that the values in income are not normally distributed which can hurt prediction ability in some scenarios. \\nTo address this, we will perform a log transformation on the income values.\\n\\nFirst though, we will have to deal with any income values that are 0. Note that these values are not impossible values \\n— they may, for example, represent people who are unemployed. So, we shouldn’t remove these individuals; \\nhowever, when we go to log-transform these data, we can’t (mathematically) have any zero values. \\nWe’ll replace the zeroes with ones, to allow for log transformation, \\nwhile retaining the fact that these indivduals’ income was lower than others in the dataset.\\n\\nQuestion 4c: Add a new column to df called income10. \\nIt should contain the same values as income with all 0 values replaced with 1.\\n\\nHint: There is a pandas function replace.\\n'"
      ]
     },
     "execution_count": 69,
     "metadata": {},
     "output_type": "execute_result"
    }
   ],
   "source": [
    "'''\n",
    "You may have noticed that the values in income are not normally distributed which can hurt prediction ability in some scenarios. \n",
    "To address this, we will perform a log transformation on the income values.\n",
    "\n",
    "First though, we will have to deal with any income values that are 0. Note that these values are not impossible values \n",
    "— they may, for example, represent people who are unemployed. So, we shouldn’t remove these individuals; \n",
    "however, when we go to log-transform these data, we can’t (mathematically) have any zero values. \n",
    "We’ll replace the zeroes with ones, to allow for log transformation, \n",
    "while retaining the fact that these indivduals’ income was lower than others in the dataset.\n",
    "\n",
    "Question 4c: Add a new column to df called income10. \n",
    "It should contain the same values as income with all 0 values replaced with 1.\n",
    "\n",
    "Hint: There is a pandas function replace.\n",
    "'''"
   ]
  },
  {
   "cell_type": "code",
   "execution_count": 70,
   "metadata": {},
   "outputs": [
    {
     "name": "stderr",
     "output_type": "stream",
     "text": [
      "/var/folders/95/4vh4zhc1273fgmfs4wyntxn00000gn/T/ipykernel_95111/3278293682.py:1: SettingWithCopyWarning: \n",
      "A value is trying to be set on a copy of a slice from a DataFrame.\n",
      "Try using .loc[row_indexer,col_indexer] = value instead\n",
      "\n",
      "See the caveats in the documentation: https://pandas.pydata.org/pandas-docs/stable/user_guide/indexing.html#returning-a-view-versus-a-copy\n",
      "  df['income10'] = df['income']\n",
      "/var/folders/95/4vh4zhc1273fgmfs4wyntxn00000gn/T/ipykernel_95111/3278293682.py:2: SettingWithCopyWarning: \n",
      "A value is trying to be set on a copy of a slice from a DataFrame\n",
      "\n",
      "See the caveats in the documentation: https://pandas.pydata.org/pandas-docs/stable/user_guide/indexing.html#returning-a-view-versus-a-copy\n",
      "  df['income10'].replace(to_replace=0.00, value=1, inplace=True)\n"
     ]
    },
    {
     "data": {
      "text/html": [
       "<div>\n",
       "<style scoped>\n",
       "    .dataframe tbody tr th:only-of-type {\n",
       "        vertical-align: middle;\n",
       "    }\n",
       "\n",
       "    .dataframe tbody tr th {\n",
       "        vertical-align: top;\n",
       "    }\n",
       "\n",
       "    .dataframe thead th {\n",
       "        text-align: right;\n",
       "    }\n",
       "</style>\n",
       "<table border=\"1\" class=\"dataframe\">\n",
       "  <thead>\n",
       "    <tr style=\"text-align: right;\">\n",
       "      <th></th>\n",
       "      <th>id</th>\n",
       "      <th>age</th>\n",
       "      <th>steps</th>\n",
       "      <th>income</th>\n",
       "      <th>income10</th>\n",
       "    </tr>\n",
       "  </thead>\n",
       "  <tbody>\n",
       "    <tr>\n",
       "      <th>0</th>\n",
       "      <td>84764</td>\n",
       "      <td>41</td>\n",
       "      <td>8622</td>\n",
       "      <td>99807.16</td>\n",
       "      <td>99807.16</td>\n",
       "    </tr>\n",
       "    <tr>\n",
       "      <th>1</th>\n",
       "      <td>49337</td>\n",
       "      <td>31</td>\n",
       "      <td>9870</td>\n",
       "      <td>0.00</td>\n",
       "      <td>1.00</td>\n",
       "    </tr>\n",
       "    <tr>\n",
       "      <th>3</th>\n",
       "      <td>98170</td>\n",
       "      <td>34</td>\n",
       "      <td>6987</td>\n",
       "      <td>18077.78</td>\n",
       "      <td>18077.78</td>\n",
       "    </tr>\n",
       "    <tr>\n",
       "      <th>...</th>\n",
       "      <td>...</td>\n",
       "      <td>...</td>\n",
       "      <td>...</td>\n",
       "      <td>...</td>\n",
       "      <td>...</td>\n",
       "    </tr>\n",
       "    <tr>\n",
       "      <th>10132</th>\n",
       "      <td>68473</td>\n",
       "      <td>40</td>\n",
       "      <td>7895</td>\n",
       "      <td>7617.27</td>\n",
       "      <td>7617.27</td>\n",
       "    </tr>\n",
       "    <tr>\n",
       "      <th>10133</th>\n",
       "      <td>60486</td>\n",
       "      <td>49</td>\n",
       "      <td>6004</td>\n",
       "      <td>34479.99</td>\n",
       "      <td>34479.99</td>\n",
       "    </tr>\n",
       "    <tr>\n",
       "      <th>10134</th>\n",
       "      <td>13915</td>\n",
       "      <td>39</td>\n",
       "      <td>7180</td>\n",
       "      <td>12133.79</td>\n",
       "      <td>12133.79</td>\n",
       "    </tr>\n",
       "  </tbody>\n",
       "</table>\n",
       "<p>8622 rows × 5 columns</p>\n",
       "</div>"
      ],
      "text/plain": [
       "          id  age  steps    income  income10\n",
       "0      84764   41   8622  99807.16  99807.16\n",
       "1      49337   31   9870      0.00      1.00\n",
       "3      98170   34   6987  18077.78  18077.78\n",
       "...      ...  ...    ...       ...       ...\n",
       "10132  68473   40   7895   7617.27   7617.27\n",
       "10133  60486   49   6004  34479.99  34479.99\n",
       "10134  13915   39   7180  12133.79  12133.79\n",
       "\n",
       "[8622 rows x 5 columns]"
      ]
     },
     "execution_count": 70,
     "metadata": {},
     "output_type": "execute_result"
    }
   ],
   "source": [
    "df['income10'] = df['income']\n",
    "df['income10'].replace(to_replace=0.00, value=1, inplace=True)\n",
    "df"
   ]
  },
  {
   "cell_type": "code",
   "execution_count": 71,
   "metadata": {},
   "outputs": [],
   "source": [
    "assert list(df.columns) == ['id', 'age', 'steps', 'income', 'income10']\n",
    "assert not any(df['income10'] == 0)"
   ]
  },
  {
   "cell_type": "code",
   "execution_count": 72,
   "metadata": {},
   "outputs": [
    {
     "data": {
      "text/plain": [
       "'\\nQuestion 4d: Now, transform the income10 column using a log-base-10 transform.\\nThat is, replace each value in income10 with the log10 of that value.\\n\\nNote: Be sure you underestand the difference between np.log and np.log10\\n'"
      ]
     },
     "execution_count": 72,
     "metadata": {},
     "output_type": "execute_result"
    }
   ],
   "source": [
    "'''\n",
    "Question 4d: Now, transform the income10 column using a log-base-10 transform.\n",
    "That is, replace each value in income10 with the log10 of that value.\n",
    "\n",
    "Note: Be sure you underestand the difference between np.log and np.log10\n",
    "'''"
   ]
  },
  {
   "cell_type": "code",
   "execution_count": 73,
   "metadata": {},
   "outputs": [
    {
     "name": "stderr",
     "output_type": "stream",
     "text": [
      "/var/folders/95/4vh4zhc1273fgmfs4wyntxn00000gn/T/ipykernel_95111/51551250.py:1: SettingWithCopyWarning: \n",
      "A value is trying to be set on a copy of a slice from a DataFrame.\n",
      "Try using .loc[row_indexer,col_indexer] = value instead\n",
      "\n",
      "See the caveats in the documentation: https://pandas.pydata.org/pandas-docs/stable/user_guide/indexing.html#returning-a-view-versus-a-copy\n",
      "  df['income10'] = np.log10(df['income10'])\n"
     ]
    }
   ],
   "source": [
    "df['income10'] = np.log10(df['income10'])"
   ]
  },
  {
   "cell_type": "code",
   "execution_count": 74,
   "metadata": {},
   "outputs": [],
   "source": [
    "assert np.isclose(min(df['income10']), 0.0, 0.001)\n",
    "assert np.isclose(max(df['income10']), 5.867, 0.001)"
   ]
  },
  {
   "cell_type": "code",
   "execution_count": 75,
   "metadata": {
    "tags": []
   },
   "outputs": [
    {
     "data": {
      "text/plain": [
       "'\\nQuestion 4e: Now, make a histogram for income10 data after the data transformation. Again, use 25 bins.\\n'"
      ]
     },
     "execution_count": 75,
     "metadata": {},
     "output_type": "execute_result"
    }
   ],
   "source": [
    "'''\n",
    "Question 4e: Now, make a histogram for income10 data after the data transformation. Again, use 25 bins.\n",
    "'''"
   ]
  },
  {
   "cell_type": "code",
   "execution_count": 76,
   "metadata": {},
   "outputs": [
    {
     "data": {
      "image/png": "[encoded data removed]",
      "text/plain": [
       "<Figure size 640x480 with 1 Axes>"
      ]
     },
     "metadata": {},
     "output_type": "display_data"
    }
   ],
   "source": [
    "plt.hist(df['income10'], bins=25)\n",
    "plt.xlabel('Log Income')\n",
    "plt.ylabel('Ocurrency')\n",
    "\n",
    "f4 = plt.gcf()"
   ]
  },
  {
   "cell_type": "code",
   "execution_count": 77,
   "metadata": {},
   "outputs": [],
   "source": [
    "assert f4.gca().has_data()\n",
    "\n",
    "# If you fail this test, you didn't use 25 bins for your histogram.\n",
    "assert len(f4.gca().patches) == 25"
   ]
  },
  {
   "cell_type": "code",
   "execution_count": 78,
   "metadata": {},
   "outputs": [
    {
     "data": {
      "text/plain": [
       "'\\nQuestion 4f: From this plot, determine approximately how many individuals in df had a reported income of 0. \\nStore this value in the variable income_zero.\\n'"
      ]
     },
     "execution_count": 78,
     "metadata": {},
     "output_type": "execute_result"
    }
   ],
   "source": [
    "'''\n",
    "Question 4f: From this plot, determine approximately how many individuals in df had a reported income of 0. \n",
    "Store this value in the variable income_zero.\n",
    "'''"
   ]
  },
  {
   "cell_type": "code",
   "execution_count": 79,
   "metadata": {},
   "outputs": [],
   "source": [
    "income_zero = 800"
   ]
  },
  {
   "cell_type": "code",
   "execution_count": 80,
   "metadata": {},
   "outputs": [],
   "source": [
    "assert isinstance(income_zero, int)"
   ]
  },
  {
   "cell_type": "code",
   "execution_count": 81,
   "metadata": {},
   "outputs": [
    {
     "data": {
      "text/plain": [
       "'\\nQuestion 4g: We might also have certain regulations or restrictions that we need to follow about the data. \\nHere, we will only analyze adults. Remove all rows from df where age is less than 18.\\n'"
      ]
     },
     "execution_count": 81,
     "metadata": {},
     "output_type": "execute_result"
    }
   ],
   "source": [
    "'''\n",
    "Question 4g: We might also have certain regulations or restrictions that we need to follow about the data. \n",
    "Here, we will only analyze adults. Remove all rows from df where age is less than 18.\n",
    "'''"
   ]
  },
  {
   "cell_type": "code",
   "execution_count": 82,
   "metadata": {},
   "outputs": [
    {
     "data": {
      "text/html": [
       "<div>\n",
       "<style scoped>\n",
       "    .dataframe tbody tr th:only-of-type {\n",
       "        vertical-align: middle;\n",
       "    }\n",
       "\n",
       "    .dataframe tbody tr th {\n",
       "        vertical-align: top;\n",
       "    }\n",
       "\n",
       "    .dataframe thead th {\n",
       "        text-align: right;\n",
       "    }\n",
       "</style>\n",
       "<table border=\"1\" class=\"dataframe\">\n",
       "  <thead>\n",
       "    <tr style=\"text-align: right;\">\n",
       "      <th></th>\n",
       "      <th>id</th>\n",
       "      <th>age</th>\n",
       "      <th>steps</th>\n",
       "      <th>income</th>\n",
       "      <th>income10</th>\n",
       "    </tr>\n",
       "  </thead>\n",
       "  <tbody>\n",
       "    <tr>\n",
       "      <th>0</th>\n",
       "      <td>84764</td>\n",
       "      <td>41</td>\n",
       "      <td>8622</td>\n",
       "      <td>99807.16</td>\n",
       "      <td>5.00</td>\n",
       "    </tr>\n",
       "    <tr>\n",
       "      <th>1</th>\n",
       "      <td>49337</td>\n",
       "      <td>31</td>\n",
       "      <td>9870</td>\n",
       "      <td>0.00</td>\n",
       "      <td>0.00</td>\n",
       "    </tr>\n",
       "    <tr>\n",
       "      <th>3</th>\n",
       "      <td>98170</td>\n",
       "      <td>34</td>\n",
       "      <td>6987</td>\n",
       "      <td>18077.78</td>\n",
       "      <td>4.26</td>\n",
       "    </tr>\n",
       "    <tr>\n",
       "      <th>...</th>\n",
       "      <td>...</td>\n",
       "      <td>...</td>\n",
       "      <td>...</td>\n",
       "      <td>...</td>\n",
       "      <td>...</td>\n",
       "    </tr>\n",
       "    <tr>\n",
       "      <th>10132</th>\n",
       "      <td>68473</td>\n",
       "      <td>40</td>\n",
       "      <td>7895</td>\n",
       "      <td>7617.27</td>\n",
       "      <td>3.88</td>\n",
       "    </tr>\n",
       "    <tr>\n",
       "      <th>10133</th>\n",
       "      <td>60486</td>\n",
       "      <td>49</td>\n",
       "      <td>6004</td>\n",
       "      <td>34479.99</td>\n",
       "      <td>4.54</td>\n",
       "    </tr>\n",
       "    <tr>\n",
       "      <th>10134</th>\n",
       "      <td>13915</td>\n",
       "      <td>39</td>\n",
       "      <td>7180</td>\n",
       "      <td>12133.79</td>\n",
       "      <td>4.08</td>\n",
       "    </tr>\n",
       "  </tbody>\n",
       "</table>\n",
       "<p>8590 rows × 5 columns</p>\n",
       "</div>"
      ],
      "text/plain": [
       "          id  age  steps    income  income10\n",
       "0      84764   41   8622  99807.16      5.00\n",
       "1      49337   31   9870      0.00      0.00\n",
       "3      98170   34   6987  18077.78      4.26\n",
       "...      ...  ...    ...       ...       ...\n",
       "10132  68473   40   7895   7617.27      3.88\n",
       "10133  60486   49   6004  34479.99      4.54\n",
       "10134  13915   39   7180  12133.79      4.08\n",
       "\n",
       "[8590 rows x 5 columns]"
      ]
     },
     "execution_count": 82,
     "metadata": {},
     "output_type": "execute_result"
    }
   ],
   "source": [
    "df = df.loc[df['age']>=18]\n",
    "df"
   ]
  },
  {
   "cell_type": "code",
   "execution_count": 83,
   "metadata": {},
   "outputs": [],
   "source": [
    "assert min(df['age']) >= 18\n",
    "assert len(df) == 8590"
   ]
  },
  {
   "cell_type": "code",
   "execution_count": 84,
   "metadata": {},
   "outputs": [
    {
     "data": {
      "text/plain": [
       "'\\nPart 5 - Basic Analyses (1.1 points)\\nNow that we have wrangled and cleaned our data, we can start doing some simple analyses.\\n\\nHere we will explore some basic descriptive summaries of our data, look into the inter-relations (correlations) \\nbetween variables, and ask some simple questions about potentially interesting subsets of our data.\\n\\nQuestion 5a: Use the describe pandas method to check a descriptive summary of the data. \\nSave the DataFrame generated by describe to a new variable called desc.\\n'"
      ]
     },
     "execution_count": 84,
     "metadata": {},
     "output_type": "execute_result"
    }
   ],
   "source": [
    "'''\n",
    "Part 5 - Basic Analyses (1.1 points)\n",
    "Now that we have wrangled and cleaned our data, we can start doing some simple analyses.\n",
    "\n",
    "Here we will explore some basic descriptive summaries of our data, look into the inter-relations (correlations) \n",
    "between variables, and ask some simple questions about potentially interesting subsets of our data.\n",
    "\n",
    "Question 5a: Use the describe pandas method to check a descriptive summary of the data. \n",
    "Save the DataFrame generated by describe to a new variable called desc.\n",
    "'''"
   ]
  },
  {
   "cell_type": "code",
   "execution_count": 85,
   "metadata": {},
   "outputs": [],
   "source": [
    "desc = df.describe()"
   ]
  },
  {
   "cell_type": "code",
   "execution_count": 86,
   "metadata": {},
   "outputs": [],
   "source": [
    "assert isinstance(desc, pd.DataFrame)"
   ]
  },
  {
   "cell_type": "code",
   "execution_count": 87,
   "metadata": {},
   "outputs": [
    {
     "data": {
      "text/plain": [
       "'\\nQuestion 5b: Calculate the pairwise correlations between all variables.\\n\\nNote: do this with a pandas method. Keep all columns (including ID). \\nAssign the result (which should be a DataFrame) to a variable called corrs.\\n'"
      ]
     },
     "execution_count": 87,
     "metadata": {},
     "output_type": "execute_result"
    }
   ],
   "source": [
    "'''\n",
    "Question 5b: Calculate the pairwise correlations between all variables.\n",
    "\n",
    "Note: do this with a pandas method. Keep all columns (including ID). \n",
    "Assign the result (which should be a DataFrame) to a variable called corrs.\n",
    "'''"
   ]
  },
  {
   "cell_type": "code",
   "execution_count": 88,
   "metadata": {},
   "outputs": [
    {
     "data": {
      "text/html": [
       "<div>\n",
       "<style scoped>\n",
       "    .dataframe tbody tr th:only-of-type {\n",
       "        vertical-align: middle;\n",
       "    }\n",
       "\n",
       "    .dataframe tbody tr th {\n",
       "        vertical-align: top;\n",
       "    }\n",
       "\n",
       "    .dataframe thead th {\n",
       "        text-align: right;\n",
       "    }\n",
       "</style>\n",
       "<table border=\"1\" class=\"dataframe\">\n",
       "  <thead>\n",
       "    <tr style=\"text-align: right;\">\n",
       "      <th></th>\n",
       "      <th>id</th>\n",
       "      <th>age</th>\n",
       "      <th>steps</th>\n",
       "      <th>income</th>\n",
       "      <th>income10</th>\n",
       "    </tr>\n",
       "  </thead>\n",
       "  <tbody>\n",
       "    <tr>\n",
       "      <th>id</th>\n",
       "      <td>1.00e+00</td>\n",
       "      <td>-4.26e-03</td>\n",
       "      <td>2.28e-03</td>\n",
       "      <td>-0.03</td>\n",
       "      <td>-0.01</td>\n",
       "    </tr>\n",
       "    <tr>\n",
       "      <th>age</th>\n",
       "      <td>-4.26e-03</td>\n",
       "      <td>1.00e+00</td>\n",
       "      <td>-2.81e-01</td>\n",
       "      <td>0.27</td>\n",
       "      <td>0.10</td>\n",
       "    </tr>\n",
       "    <tr>\n",
       "      <th>steps</th>\n",
       "      <td>2.28e-03</td>\n",
       "      <td>-2.81e-01</td>\n",
       "      <td>1.00e+00</td>\n",
       "      <td>0.05</td>\n",
       "      <td>0.03</td>\n",
       "    </tr>\n",
       "    <tr>\n",
       "      <th>income</th>\n",
       "      <td>-2.57e-02</td>\n",
       "      <td>2.70e-01</td>\n",
       "      <td>4.85e-02</td>\n",
       "      <td>1.00</td>\n",
       "      <td>0.47</td>\n",
       "    </tr>\n",
       "    <tr>\n",
       "      <th>income10</th>\n",
       "      <td>-1.23e-02</td>\n",
       "      <td>1.03e-01</td>\n",
       "      <td>2.52e-02</td>\n",
       "      <td>0.47</td>\n",
       "      <td>1.00</td>\n",
       "    </tr>\n",
       "  </tbody>\n",
       "</table>\n",
       "</div>"
      ],
      "text/plain": [
       "                id       age     steps  income  income10\n",
       "id        1.00e+00 -4.26e-03  2.28e-03   -0.03     -0.01\n",
       "age      -4.26e-03  1.00e+00 -2.81e-01    0.27      0.10\n",
       "steps     2.28e-03 -2.81e-01  1.00e+00    0.05      0.03\n",
       "income   -2.57e-02  2.70e-01  4.85e-02    1.00      0.47\n",
       "income10 -1.23e-02  1.03e-01  2.52e-02    0.47      1.00"
      ]
     },
     "execution_count": 88,
     "metadata": {},
     "output_type": "execute_result"
    }
   ],
   "source": [
    "corrs = df.corr()\n",
    "corrs"
   ]
  },
  {
   "cell_type": "code",
   "execution_count": 89,
   "metadata": {},
   "outputs": [],
   "source": [
    "assert isinstance(corrs, pd.DataFrame)\n",
    "assert corrs.shape == (5, 5)"
   ]
  },
  {
   "cell_type": "code",
   "execution_count": 90,
   "metadata": {},
   "outputs": [
    {
     "data": {
      "text/plain": [
       "\"\\nQuestion 5c: Answer the following questions by setting your answer variables to either 'age', 'steps', or 'income'.\\n\\nWhich variable is most correlated with age (aside from age itself)? Record your answer in a variable called age_corr.\\n\\nWhich variable is most correlated with income (aside from income and income10)? Record your answer in a variable called inc_corr.\\n\""
      ]
     },
     "execution_count": 90,
     "metadata": {},
     "output_type": "execute_result"
    }
   ],
   "source": [
    "'''\n",
    "Question 5c: Answer the following questions by setting your answer variables to either 'age', 'steps', or 'income'.\n",
    "\n",
    "Which variable is most correlated with age (aside from age itself)? Record your answer in a variable called age_corr.\n",
    "\n",
    "Which variable is most correlated with income (aside from income and income10)? Record your answer in a variable called inc_corr.\n",
    "'''"
   ]
  },
  {
   "cell_type": "code",
   "execution_count": 91,
   "metadata": {},
   "outputs": [],
   "source": [
    "corrs1 = corrs.loc[corrs['age'] != 1]\n",
    "age_corr = corrs1[corrs1['age'] == corrs1['age'].max()].index.tolist()\n",
    "age_corr = age_corr[0]"
   ]
  },
  {
   "cell_type": "code",
   "execution_count": 92,
   "metadata": {},
   "outputs": [],
   "source": [
    "assert age_corr\n",
    "assert age_corr in {'steps', 'age', 'income'}"
   ]
  },
  {
   "cell_type": "code",
   "execution_count": 93,
   "metadata": {},
   "outputs": [],
   "source": [
    "corrs2 = corrs.loc[corrs['income'] != 1].drop('income10')\n",
    "inc_corr = corrs2[corrs2['income'] == corrs2['income'].max()].index.tolist()\n",
    "inc_corr = inc_corr[0]"
   ]
  },
  {
   "cell_type": "code",
   "execution_count": 94,
   "metadata": {},
   "outputs": [],
   "source": [
    "assert inc_corr\n",
    "assert inc_corr in {'steps', 'age', 'income'}"
   ]
  },
  {
   "cell_type": "code",
   "execution_count": 95,
   "metadata": {},
   "outputs": [
    {
     "data": {
      "text/plain": [
       "'\\nQuestion 5d: How many steps would you have to walk to be in the top 10% of walkers? \\nSave your answer as a variable called top_walker.\\n\\nHint: check out the quantile method.\\n'"
      ]
     },
     "execution_count": 95,
     "metadata": {},
     "output_type": "execute_result"
    }
   ],
   "source": [
    "'''\n",
    "Question 5d: How many steps would you have to walk to be in the top 10% of walkers? \n",
    "Save your answer as a variable called top_walker.\n",
    "\n",
    "Hint: check out the quantile method.\n",
    "'''"
   ]
  },
  {
   "cell_type": "code",
   "execution_count": 96,
   "metadata": {},
   "outputs": [],
   "source": [
    "top_walker = df.quantile(q=0.1)['steps']"
   ]
  },
  {
   "cell_type": "code",
   "execution_count": 97,
   "metadata": {},
   "outputs": [],
   "source": [
    "assert top_walker\n",
    "assert isinstance(top_walker, float)"
   ]
  },
  {
   "cell_type": "code",
   "execution_count": 98,
   "metadata": {},
   "outputs": [
    {
     "data": {
      "text/plain": [
       "'\\nQuestion 5e: What is the average income for people over the age of 65? Save your response in a variable called old_income.\\n\\nNote: We’re asking for the actual income, not the log-10 of income.\\n'"
      ]
     },
     "execution_count": 98,
     "metadata": {},
     "output_type": "execute_result"
    }
   ],
   "source": [
    "'''\n",
    "Question 5e: What is the average income for people over the age of 65? Save your response in a variable called old_income.\n",
    "\n",
    "Note: We’re asking for the actual income, not the log-10 of income.\n",
    "'''"
   ]
  },
  {
   "cell_type": "code",
   "execution_count": 99,
   "metadata": {},
   "outputs": [],
   "source": [
    "old_income = df['income'].mean()"
   ]
  },
  {
   "cell_type": "code",
   "execution_count": 100,
   "metadata": {},
   "outputs": [],
   "source": [
    "assert old_income\n",
    "assert old_income > 5"
   ]
  },
  {
   "cell_type": "code",
   "execution_count": 101,
   "metadata": {},
   "outputs": [
    {
     "data": {
      "text/plain": [
       "'\\nPart 6 - Predictions (1.7 points)\\nMany analyses ask predictive questions in which data we have currently are used to build a model \\nto predict something about the future (data we do not yet have).\\n\\nHere we will explore some basic predictions, looking into whether we might be able to predict income from our other variables.\\n\\nNote: You will use the np.polyfit function from NumPy as we did in Tutorials/02-DataAnalysis.\\n\\nQuestion 6a: Use polyfit to fit a 1-degree linear model, predicting income from age. Call the output parameters a1 and b1.\\n'"
      ]
     },
     "execution_count": 101,
     "metadata": {},
     "output_type": "execute_result"
    }
   ],
   "source": [
    "'''\n",
    "Part 6 - Predictions (1.7 points)\n",
    "Many analyses ask predictive questions in which data we have currently are used to build a model \n",
    "to predict something about the future (data we do not yet have).\n",
    "\n",
    "Here we will explore some basic predictions, looking into whether we might be able to predict income from our other variables.\n",
    "\n",
    "Note: You will use the np.polyfit function from NumPy as we did in Tutorials/02-DataAnalysis.\n",
    "\n",
    "Question 6a: Use polyfit to fit a 1-degree linear model, predicting income from age. Call the output parameters a1 and b1.\n",
    "'''"
   ]
  },
  {
   "cell_type": "code",
   "execution_count": 134,
   "metadata": {},
   "outputs": [
    {
     "data": {
      "image/png": "[encoded data removed]",
      "text/plain": [
       "<Figure size 640x480 with 1 Axes>"
      ]
     },
     "metadata": {},
     "output_type": "display_data"
    }
   ],
   "source": [
    "# Visualize data\n",
    "fig, ax = plt.subplots()\n",
    "ax.plot(df['age'], df['income'], '.', ms=15)\n",
    "ax.set(xlabel='Age', ylabel='Income')\n",
    "f5 = plt.gcf()"
   ]
  },
  {
   "cell_type": "code",
   "execution_count": 107,
   "metadata": {},
   "outputs": [
    {
     "name": "stdout",
     "output_type": "stream",
     "text": [
      "1059.1700353048434\n",
      "-17422.7660622951\n"
     ]
    }
   ],
   "source": [
    "a1, b1 = np.polyfit(df['age'], df['income'], 1)\n",
    "print(a1)\n",
    "print(b1)"
   ]
  },
  {
   "cell_type": "code",
   "execution_count": 108,
   "metadata": {},
   "outputs": [],
   "source": [
    "assert(a1)\n",
    "assert(b1)\n",
    "\n",
    "# If you fail these tests, your parameter values are quite far from what they\n",
    "# should be.\n",
    "assert abs(a1) > 100\n",
    "assert abs(b1) > 100"
   ]
  },
  {
   "cell_type": "code",
   "execution_count": 109,
   "metadata": {},
   "outputs": [
    {
     "data": {
      "text/plain": [
       "'\\nQuestion 6b: Use the model parameters from 6a to predict the income of a 75-year-old. Call your prediction pred_75.\\n'"
      ]
     },
     "execution_count": 109,
     "metadata": {},
     "output_type": "execute_result"
    }
   ],
   "source": [
    "'''\n",
    "Question 6b: Use the model parameters from 6a to predict the income of a 75-year-old. Call your prediction pred_75.\n",
    "'''"
   ]
  },
  {
   "cell_type": "code",
   "execution_count": 111,
   "metadata": {},
   "outputs": [
    {
     "name": "stdout",
     "output_type": "stream",
     "text": [
      "62014.98658556815\n"
     ]
    }
   ],
   "source": [
    "pred_75 = a1 * 75 + b1\n",
    "print(pred_75)"
   ]
  },
  {
   "cell_type": "code",
   "execution_count": 112,
   "metadata": {},
   "outputs": [],
   "source": [
    "assert(pred_75)"
   ]
  },
  {
   "cell_type": "code",
   "execution_count": 113,
   "metadata": {},
   "outputs": [
    {
     "data": {
      "text/plain": [
       "'\\nQuestion 6c: Use polyfit once more to fit a 1-degree linear model, predicting income from steps. \\nCall the output parameters a2 and b2.\\n'"
      ]
     },
     "execution_count": 113,
     "metadata": {},
     "output_type": "execute_result"
    }
   ],
   "source": [
    "'''\n",
    "Question 6c: Use polyfit once more to fit a 1-degree linear model, predicting income from steps. \n",
    "Call the output parameters a2 and b2.\n",
    "'''"
   ]
  },
  {
   "cell_type": "code",
   "execution_count": 133,
   "metadata": {},
   "outputs": [
    {
     "data": {
      "image/png": "[encoded data removed]",
      "text/plain": [
       "<Figure size 640x480 with 1 Axes>"
      ]
     },
     "metadata": {},
     "output_type": "display_data"
    }
   ],
   "source": [
    "# Visualize data\n",
    "fig, ax = plt.subplots()\n",
    "ax.plot(df['steps'], df['income'], '.', ms=15)\n",
    "ax.set(xlabel='Number of steps', ylabel='Income')\n",
    "f5 = plt.gcf()"
   ]
  },
  {
   "cell_type": "code",
   "execution_count": 115,
   "metadata": {},
   "outputs": [
    {
     "name": "stdout",
     "output_type": "stream",
     "text": [
      "1.0678122463676694\n",
      "17528.724932785855\n"
     ]
    }
   ],
   "source": [
    "a2, b2 = np.polyfit(df['steps'], df['income'], 1)\n",
    "print(a2)\n",
    "print(b2)"
   ]
  },
  {
   "cell_type": "code",
   "execution_count": 116,
   "metadata": {},
   "outputs": [],
   "source": [
    "assert(a2)\n",
    "assert(b2)\n",
    "\n",
    "# If you fail these tests, your parameter values are quite far from what they\n",
    "# should be.\n",
    "assert abs(a2) < 100\n",
    "assert abs(b2) > 100"
   ]
  },
  {
   "cell_type": "code",
   "execution_count": 117,
   "metadata": {},
   "outputs": [
    {
     "data": {
      "text/plain": [
       "'\\nQuestion 6d: Predict the income of someone who took 10,000 steps. Call your prediction pred_10k.\\n'"
      ]
     },
     "execution_count": 117,
     "metadata": {},
     "output_type": "execute_result"
    }
   ],
   "source": [
    "'''\n",
    "Question 6d: Predict the income of someone who took 10,000 steps. Call your prediction pred_10k.\n",
    "'''"
   ]
  },
  {
   "cell_type": "code",
   "execution_count": 118,
   "metadata": {},
   "outputs": [
    {
     "name": "stdout",
     "output_type": "stream",
     "text": [
      "28206.84739646255\n"
     ]
    }
   ],
   "source": [
    "pred_10k = a2 * 10000 + b2\n",
    "print(pred_10k)"
   ]
  },
  {
   "cell_type": "code",
   "execution_count": 119,
   "metadata": {},
   "outputs": [],
   "source": [
    "assert(pred_10k)"
   ]
  },
  {
   "cell_type": "code",
   "execution_count": 120,
   "metadata": {},
   "outputs": [
    {
     "data": {
      "text/plain": [
       "'\\nQuestion 6e: To better understand a model, we can visualize its predictions. \\nUse your first model to predict income from each integer age in between 18 and 80. \\nYour predictions should be stored in a numpy array of floats called pred_age.\\n\\nReminder: numpy has the arange function\\n'"
      ]
     },
     "execution_count": 120,
     "metadata": {},
     "output_type": "execute_result"
    }
   ],
   "source": [
    "'''\n",
    "Question 6e: To better understand a model, we can visualize its predictions. \n",
    "Use your first model to predict income from each integer age in between 18 and 80. \n",
    "Your predictions should be stored in a numpy array of floats called pred_age.\n",
    "\n",
    "Reminder: numpy has the arange function\n",
    "'''"
   ]
  },
  {
   "cell_type": "code",
   "execution_count": 125,
   "metadata": {},
   "outputs": [
    {
     "name": "stdout",
     "output_type": "stream",
     "text": [
      "[ 1642.29457319  2701.4646085   3760.6346438   4819.80467911\n",
      "  5878.97471441  6938.14474972  7997.31478502  9056.48482033\n",
      " 10115.65485563 11174.82489094 12233.99492624 13293.16496155\n",
      " 14352.33499685 15411.50503216 16470.67506746 17529.84510276\n",
      " 18589.01513807 19648.18517337 20707.35520868 21766.52524398\n",
      " 22825.69527929 23884.86531459 24944.0353499  26003.2053852\n",
      " 27062.37542051 28121.54545581 29180.71549112 30239.88552642\n",
      " 31299.05556173 32358.22559703 33417.39563234 34476.56566764\n",
      " 35535.73570295 36594.90573825 37654.07577356 38713.24580886\n",
      " 39772.41584417 40831.58587947 41890.75591478 42949.92595008\n",
      " 44009.09598539 45068.26602069 46127.436056   47186.6060913\n",
      " 48245.77612661 49304.94616191 50364.11619721 51423.28623252\n",
      " 52482.45626782 53541.62630313 54600.79633843 55659.96637374\n",
      " 56719.13640904 57778.30644435 58837.47647965 59896.64651496\n",
      " 60955.81655026 62014.98658557 63074.15662087 64133.32665618\n",
      " 65192.49669148 66251.66672679 67310.83676209]\n"
     ]
    }
   ],
   "source": [
    "pred_age = np.array([a1 * age + b1 for age in range(18, 81)])\n",
    "print(pred_age)"
   ]
  },
  {
   "cell_type": "code",
   "execution_count": 126,
   "metadata": {},
   "outputs": [],
   "source": [
    "assert isinstance(pred_age, np.ndarray)\n",
    "assert len(pred_age) == 63\n",
    "\n",
    "# Your array should contain decimals, not integers\n",
    "assert isinstance(pred_age[0], float)"
   ]
  },
  {
   "cell_type": "code",
   "execution_count": 127,
   "metadata": {},
   "outputs": [
    {
     "data": {
      "text/plain": [
       "'\\nQuestion 6f: Make a scatter plot with income on the y-axis and age on the x-axis. \\nThen, draw your predictions as a red line on top of the scatter plot. \\nThe data in your plot and your line should look like this (although the exact colors/dimensions/appearance may differ a bit):\\n'"
      ]
     },
     "execution_count": 127,
     "metadata": {},
     "output_type": "execute_result"
    }
   ],
   "source": [
    "'''\n",
    "Question 6f: Make a scatter plot with income on the y-axis and age on the x-axis. \n",
    "Then, draw your predictions as a red line on top of the scatter plot. \n",
    "The data in your plot and your line should look like this (although the exact colors/dimensions/appearance may differ a bit):\n",
    "'''"
   ]
  },
  {
   "cell_type": "code",
   "execution_count": 142,
   "metadata": {},
   "outputs": [
    {
     "data": {
      "image/png": "[encoded data removed]",
      "text/plain": [
       "<Figure size 640x480 with 1 Axes>"
      ]
     },
     "metadata": {},
     "output_type": "display_data"
    }
   ],
   "source": [
    "fig, ax = plt.subplots()\n",
    "ax.plot(df['age'], df['income'], '.', ms = 15)\n",
    "ax.set(xlabel = 'Age', ylabel = 'Income')\n",
    "ax.plot(range(18, 81), pred_age, '-', color='red', ms = 15)\n",
    "f5 = plt.gcf()"
   ]
  },
  {
   "cell_type": "code",
   "execution_count": 143,
   "metadata": {},
   "outputs": [],
   "source": [
    "assert f5.gca().has_data()"
   ]
  },
  {
   "cell_type": "code",
   "execution_count": 144,
   "metadata": {},
   "outputs": [
    {
     "data": {
      "text/plain": [
       "'\\nQuestion 6g: Now, let’s do the same for the model that uses steps.\\n\\nUse your second model to predict income from each multiple of 100 steps in between 2000 and 13000. \\nYour predictions should be stored in a numpy array called pred_steps.\\n'"
      ]
     },
     "execution_count": 144,
     "metadata": {},
     "output_type": "execute_result"
    }
   ],
   "source": [
    "'''\n",
    "Question 6g: Now, let’s do the same for the model that uses steps.\n",
    "\n",
    "Use your second model to predict income from each multiple of 100 steps in between 2000 and 13000. \n",
    "Your predictions should be stored in a numpy array called pred_steps.\n",
    "'''"
   ]
  },
  {
   "cell_type": "code",
   "execution_count": 153,
   "metadata": {},
   "outputs": [],
   "source": [
    "pred_steps = np.array([a2 * steps + b2 for steps in range(2000, 13001, 100)])"
   ]
  },
  {
   "cell_type": "code",
   "execution_count": 152,
   "metadata": {},
   "outputs": [],
   "source": [
    "assert isinstance(pred_steps, np.ndarray)\n",
    "assert len(pred_steps) == 111\n",
    "# Your array should contain decimals, not integers\n",
    "assert isinstance(pred_steps[0], float)"
   ]
  },
  {
   "cell_type": "code",
   "execution_count": 154,
   "metadata": {},
   "outputs": [
    {
     "data": {
      "text/plain": [
       "'\\nQuestion 6h: Make a scatter plot with income on the y-axis and steps on the x-axis. \\nThen, draw your predictions as a red line on top of the scatter plot. Your plot should look like this:\\n'"
      ]
     },
     "execution_count": 154,
     "metadata": {},
     "output_type": "execute_result"
    }
   ],
   "source": [
    "'''\n",
    "Question 6h: Make a scatter plot with income on the y-axis and steps on the x-axis. \n",
    "Then, draw your predictions as a red line on top of the scatter plot. Your plot should look like this:\n",
    "'''"
   ]
  },
  {
   "cell_type": "code",
   "execution_count": 161,
   "metadata": {},
   "outputs": [
    {
     "data": {
      "image/png": "[encoded data removed]",
      "text/plain": [
       "<Figure size 640x480 with 1 Axes>"
      ]
     },
     "metadata": {},
     "output_type": "display_data"
    }
   ],
   "source": [
    "fig, ax = plt.subplots()\n",
    "ax.plot(df['steps'], df['income'], '.', ms=15)\n",
    "ax.set(xlabel='Number of steps', ylabel='Income')\n",
    "ax.plot(range(2000, 13001, 100), pred_steps, '-', color='red', ms=15)\n",
    "f6 = plt.gcf()"
   ]
  },
  {
   "cell_type": "code",
   "execution_count": 158,
   "metadata": {},
   "outputs": [],
   "source": [
    "assert f6.gca().has_data()"
   ]
  },
  {
   "cell_type": "code",
   "execution_count": 159,
   "metadata": {},
   "outputs": [
    {
     "data": {
      "text/plain": [
       "\"\\nQuestion 6i: Notice that both these models perform poorly on this data. \\nFor this particular dataset, neither age nor steps seem to have a linear relationship with income. \\nNonetheless, fitting a linear model is simple and gives us a baseline to compare with more complex models in the future.\\n\\nSuppose that you were forced to pick one of the above models. \\nBetween 'age' and 'steps', which predictor has higher prediction power? Save your response in the variable model_choice.\\n\""
      ]
     },
     "execution_count": 159,
     "metadata": {},
     "output_type": "execute_result"
    }
   ],
   "source": [
    "'''\n",
    "Question 6i: Notice that both these models perform poorly on this data. \n",
    "For this particular dataset, neither age nor steps seem to have a linear relationship with income. \n",
    "Nonetheless, fitting a linear model is simple and gives us a baseline to compare with more complex models in the future.\n",
    "\n",
    "Suppose that you were forced to pick one of the above models. \n",
    "Between 'age' and 'steps', which predictor has higher prediction power? Save your response in the variable model_choice.\n",
    "'''"
   ]
  },
  {
   "cell_type": "code",
   "execution_count": 170,
   "metadata": {},
   "outputs": [
    {
     "name": "stdout",
     "output_type": "stream",
     "text": [
      "age\n"
     ]
    }
   ],
   "source": [
    "from scipy.stats import pearsonr, spearmanr\n",
    "corr = 0.75\n",
    "covs = [[1, corr], [corr, 1]]\n",
    "means = [0, 0]\n",
    "r_age_val, p_age_val = pearsonr(df['age'], df['income'])\n",
    "r_steps_val, p_steps_val = pearsonr(df['steps'], df['income'])\n",
    "if r_age_val > r_steps_val:\n",
    "    model_choice = 'age'\n",
    "elif r_age_val < r_steps_val:\n",
    "    model_choice = 'steps'\n",
    "else:\n",
    "    model_choice = 'age and steps have equal prediction power'\n",
    "print(model_choice)"
   ]
  },
  {
   "cell_type": "code",
   "execution_count": 171,
   "metadata": {},
   "outputs": [],
   "source": [
    "assert model_choice\n",
    "assert model_choice in {'age', 'steps'}"
   ]
  },
  {
   "cell_type": "code",
   "execution_count": null,
   "metadata": {},
   "outputs": [],
   "source": []
  }
 ],
 "metadata": {
  "kernelspec": {
   "display_name": "Python 3 (ipykernel)",
   "language": "python",
   "name": "python3"
  },
  "language_info": {
   "codemirror_mode": {
    "name": "ipython",
    "version": 3
   },
   "file_extension": ".py",
   "mimetype": "text/x-python",
   "name": "python",
   "nbconvert_exporter": "python",
   "pygments_lexer": "ipython3",
   "version": "3.9.13"
  }
 },
 "nbformat": 4,
 "nbformat_minor": 4
}

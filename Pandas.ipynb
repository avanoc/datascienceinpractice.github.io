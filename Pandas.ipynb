{
 "cells": [
  {
   "cell_type": "code",
   "execution_count": 1,
   "metadata": {},
   "outputs": [
    {
     "data": {
      "text/plain": [
       "'\\nQ1: import (0.25 points)\\nImport the pandas package using its typical shortname, pd.\\n\\nImport the numpy package using its typical shortname, np.\\n'"
      ]
     },
     "execution_count": 1,
     "metadata": {},
     "output_type": "execute_result"
    }
   ],
   "source": [
    "'''\n",
    "Q1: import (0.25 points)\n",
    "Import the pandas package using its typical shortname, pd.\n",
    "\n",
    "Import the numpy package using its typical shortname, np.\n",
    "'''"
   ]
  },
  {
   "cell_type": "code",
   "execution_count": 2,
   "metadata": {},
   "outputs": [],
   "source": [
    "import pandas as pd\n",
    "import numpy as np"
   ]
  },
  {
   "cell_type": "code",
   "execution_count": 3,
   "metadata": {},
   "outputs": [],
   "source": [
    "assert pd\n",
    "assert np"
   ]
  },
  {
   "cell_type": "code",
   "execution_count": 4,
   "metadata": {},
   "outputs": [
    {
     "data": {
      "text/plain": [
       "'\\nQ2: Read the data into Python (0.25 points)\\nTo use the data, you’ll have to read it in as a Dataframe. Use the appropriate pandas import function to read in the file from the following repo: https://github.com/fivethirtyeight/data/tree/master/candy-power-ranking.\\n\\nNote that URLs can be read in directly using pandas. The URL you’ll want to use to read the file in is: ‘https://raw.githubusercontent.com/fivethirtyeight/data/master/candy-power-ranking/candy-data.csv’.\\n\\nStore this in the variable df.\\n'"
      ]
     },
     "execution_count": 4,
     "metadata": {},
     "output_type": "execute_result"
    }
   ],
   "source": [
    "'''\n",
    "Q2: Read the data into Python (0.25 points)\n",
    "To use the data, you’ll have to read it in as a Dataframe. Use the appropriate pandas import function to read in the file from the following repo: https://github.com/fivethirtyeight/data/tree/master/candy-power-ranking.\n",
    "\n",
    "Note that URLs can be read in directly using pandas. The URL you’ll want to use to read the file in is: ‘https://raw.githubusercontent.com/fivethirtyeight/data/master/candy-power-ranking/candy-data.csv’.\n",
    "\n",
    "Store this in the variable df.\n",
    "'''"
   ]
  },
  {
   "cell_type": "code",
   "execution_count": 5,
   "metadata": {},
   "outputs": [
    {
     "data": {
      "text/html": [
       "<div>\n",
       "<style scoped>\n",
       "    .dataframe tbody tr th:only-of-type {\n",
       "        vertical-align: middle;\n",
       "    }\n",
       "\n",
       "    .dataframe tbody tr th {\n",
       "        vertical-align: top;\n",
       "    }\n",
       "\n",
       "    .dataframe thead th {\n",
       "        text-align: right;\n",
       "    }\n",
       "</style>\n",
       "<table border=\"1\" class=\"dataframe\">\n",
       "  <thead>\n",
       "    <tr style=\"text-align: right;\">\n",
       "      <th></th>\n",
       "      <th>competitorname</th>\n",
       "      <th>chocolate</th>\n",
       "      <th>fruity</th>\n",
       "      <th>caramel</th>\n",
       "      <th>peanutyalmondy</th>\n",
       "      <th>nougat</th>\n",
       "      <th>crispedricewafer</th>\n",
       "      <th>hard</th>\n",
       "      <th>bar</th>\n",
       "      <th>pluribus</th>\n",
       "      <th>sugarpercent</th>\n",
       "      <th>pricepercent</th>\n",
       "      <th>winpercent</th>\n",
       "    </tr>\n",
       "  </thead>\n",
       "  <tbody>\n",
       "    <tr>\n",
       "      <th>0</th>\n",
       "      <td>100 Grand</td>\n",
       "      <td>1</td>\n",
       "      <td>0</td>\n",
       "      <td>1</td>\n",
       "      <td>0</td>\n",
       "      <td>0</td>\n",
       "      <td>1</td>\n",
       "      <td>0</td>\n",
       "      <td>1</td>\n",
       "      <td>0</td>\n",
       "      <td>0.732</td>\n",
       "      <td>0.860</td>\n",
       "      <td>66.971725</td>\n",
       "    </tr>\n",
       "    <tr>\n",
       "      <th>1</th>\n",
       "      <td>3 Musketeers</td>\n",
       "      <td>1</td>\n",
       "      <td>0</td>\n",
       "      <td>0</td>\n",
       "      <td>0</td>\n",
       "      <td>1</td>\n",
       "      <td>0</td>\n",
       "      <td>0</td>\n",
       "      <td>1</td>\n",
       "      <td>0</td>\n",
       "      <td>0.604</td>\n",
       "      <td>0.511</td>\n",
       "      <td>67.602936</td>\n",
       "    </tr>\n",
       "    <tr>\n",
       "      <th>2</th>\n",
       "      <td>One dime</td>\n",
       "      <td>0</td>\n",
       "      <td>0</td>\n",
       "      <td>0</td>\n",
       "      <td>0</td>\n",
       "      <td>0</td>\n",
       "      <td>0</td>\n",
       "      <td>0</td>\n",
       "      <td>0</td>\n",
       "      <td>0</td>\n",
       "      <td>0.011</td>\n",
       "      <td>0.116</td>\n",
       "      <td>32.261086</td>\n",
       "    </tr>\n",
       "    <tr>\n",
       "      <th>3</th>\n",
       "      <td>One quarter</td>\n",
       "      <td>0</td>\n",
       "      <td>0</td>\n",
       "      <td>0</td>\n",
       "      <td>0</td>\n",
       "      <td>0</td>\n",
       "      <td>0</td>\n",
       "      <td>0</td>\n",
       "      <td>0</td>\n",
       "      <td>0</td>\n",
       "      <td>0.011</td>\n",
       "      <td>0.511</td>\n",
       "      <td>46.116505</td>\n",
       "    </tr>\n",
       "    <tr>\n",
       "      <th>4</th>\n",
       "      <td>Air Heads</td>\n",
       "      <td>0</td>\n",
       "      <td>1</td>\n",
       "      <td>0</td>\n",
       "      <td>0</td>\n",
       "      <td>0</td>\n",
       "      <td>0</td>\n",
       "      <td>0</td>\n",
       "      <td>0</td>\n",
       "      <td>0</td>\n",
       "      <td>0.906</td>\n",
       "      <td>0.511</td>\n",
       "      <td>52.341465</td>\n",
       "    </tr>\n",
       "  </tbody>\n",
       "</table>\n",
       "</div>"
      ],
      "text/plain": [
       "  competitorname  chocolate  fruity  caramel  peanutyalmondy  nougat  \\\n",
       "0      100 Grand          1       0        1               0       0   \n",
       "1   3 Musketeers          1       0        0               0       1   \n",
       "2       One dime          0       0        0               0       0   \n",
       "3    One quarter          0       0        0               0       0   \n",
       "4      Air Heads          0       1        0               0       0   \n",
       "\n",
       "   crispedricewafer  hard  bar  pluribus  sugarpercent  pricepercent  \\\n",
       "0                 1     0    1         0         0.732         0.860   \n",
       "1                 0     0    1         0         0.604         0.511   \n",
       "2                 0     0    0         0         0.011         0.116   \n",
       "3                 0     0    0         0         0.011         0.511   \n",
       "4                 0     0    0         0         0.906         0.511   \n",
       "\n",
       "   winpercent  \n",
       "0   66.971725  \n",
       "1   67.602936  \n",
       "2   32.261086  \n",
       "3   46.116505  \n",
       "4   52.341465  "
      ]
     },
     "execution_count": 5,
     "metadata": {},
     "output_type": "execute_result"
    }
   ],
   "source": [
    "df = pd.read_csv('candy-data.csv')\n",
    "df.head()"
   ]
  },
  {
   "cell_type": "code",
   "execution_count": 6,
   "metadata": {},
   "outputs": [],
   "source": [
    "assert isinstance(df, pd.DataFrame)\n",
    "assert df.shape == (85, 13)"
   ]
  },
  {
   "cell_type": "code",
   "execution_count": 7,
   "metadata": {},
   "outputs": [
    {
     "data": {
      "text/plain": [
       "'\\nQ3: Data Summary (0.75 points)\\nAfter reading in a dataset, it’s often helpful to get a quick sense of what information is stored in the dataset. \\nHere you’ll carry out a number of operations that you’ll carry out on almost every dataset you read into Python.\\n'"
      ]
     },
     "execution_count": 7,
     "metadata": {},
     "output_type": "execute_result"
    }
   ],
   "source": [
    "'''\n",
    "Q3: Data Summary (0.75 points)\n",
    "After reading in a dataset, it’s often helpful to get a quick sense of what information is stored in the dataset. \n",
    "Here you’ll carry out a number of operations that you’ll carry out on almost every dataset you read into Python.\n",
    "'''"
   ]
  },
  {
   "cell_type": "code",
   "execution_count": 8,
   "metadata": {},
   "outputs": [
    {
     "data": {
      "text/plain": [
       "'\\nQ3a: shape\\nOne way to do that is to determine the shape of the dataset. This reports the number of rows and columns in the dataset. \\nStore the shape of the candy dataset in the variable candy_shape.\\n'"
      ]
     },
     "execution_count": 8,
     "metadata": {},
     "output_type": "execute_result"
    }
   ],
   "source": [
    "'''\n",
    "Q3a: shape\n",
    "One way to do that is to determine the shape of the dataset. This reports the number of rows and columns in the dataset. \n",
    "Store the shape of the candy dataset in the variable candy_shape.\n",
    "'''"
   ]
  },
  {
   "cell_type": "code",
   "execution_count": 9,
   "metadata": {},
   "outputs": [],
   "source": [
    "candy_shape = df.shape"
   ]
  },
  {
   "cell_type": "code",
   "execution_count": 10,
   "metadata": {},
   "outputs": [],
   "source": [
    "assert candy_shape == (85, 13)"
   ]
  },
  {
   "cell_type": "code",
   "execution_count": 11,
   "metadata": {},
   "outputs": [
    {
     "data": {
      "text/plain": [
       "'\\nQ3b: describe\\npandas also has a very helfpul describe function which will provide some helpful summary statistics about your dataframe.\\n\\nUse the describe function to calculate and display these summary statistics (You do not have to store the output):\\n'"
      ]
     },
     "execution_count": 11,
     "metadata": {},
     "output_type": "execute_result"
    }
   ],
   "source": [
    "'''\n",
    "Q3b: describe\n",
    "pandas also has a very helfpul describe function which will provide some helpful summary statistics about your dataframe.\n",
    "\n",
    "Use the describe function to calculate and display these summary statistics (You do not have to store the output):\n",
    "'''"
   ]
  },
  {
   "cell_type": "code",
   "execution_count": 12,
   "metadata": {},
   "outputs": [
    {
     "data": {
      "text/plain": [
       "<bound method NDFrame.describe of                 competitorname  chocolate  fruity  caramel  peanutyalmondy  \\\n",
       "0                    100 Grand          1       0        1               0   \n",
       "1                 3 Musketeers          1       0        0               0   \n",
       "2                     One dime          0       0        0               0   \n",
       "3                  One quarter          0       0        0               0   \n",
       "4                    Air Heads          0       1        0               0   \n",
       "..                         ...        ...     ...      ...             ...   \n",
       "80                   Twizzlers          0       1        0               0   \n",
       "81                    Warheads          0       1        0               0   \n",
       "82        Welch's Fruit Snacks          0       1        0               0   \n",
       "83  Werther's Original Caramel          0       0        1               0   \n",
       "84                    Whoppers          1       0        0               0   \n",
       "\n",
       "    nougat  crispedricewafer  hard  bar  pluribus  sugarpercent  pricepercent  \\\n",
       "0        0                 1     0    1         0         0.732         0.860   \n",
       "1        1                 0     0    1         0         0.604         0.511   \n",
       "2        0                 0     0    0         0         0.011         0.116   \n",
       "3        0                 0     0    0         0         0.011         0.511   \n",
       "4        0                 0     0    0         0         0.906         0.511   \n",
       "..     ...               ...   ...  ...       ...           ...           ...   \n",
       "80       0                 0     0    0         0         0.220         0.116   \n",
       "81       0                 0     1    0         0         0.093         0.116   \n",
       "82       0                 0     0    0         1         0.313         0.313   \n",
       "83       0                 0     1    0         0         0.186         0.267   \n",
       "84       0                 1     0    0         1         0.872         0.848   \n",
       "\n",
       "    winpercent  \n",
       "0    66.971725  \n",
       "1    67.602936  \n",
       "2    32.261086  \n",
       "3    46.116505  \n",
       "4    52.341465  \n",
       "..         ...  \n",
       "80   45.466282  \n",
       "81   39.011898  \n",
       "82   44.375519  \n",
       "83   41.904308  \n",
       "84   49.524113  \n",
       "\n",
       "[85 rows x 13 columns]>"
      ]
     },
     "execution_count": 12,
     "metadata": {},
     "output_type": "execute_result"
    }
   ],
   "source": [
    "df.describe"
   ]
  },
  {
   "cell_type": "code",
   "execution_count": 13,
   "metadata": {},
   "outputs": [
    {
     "data": {
      "text/plain": [
       "\"\\nUsing the output you just generated, answer the following questions, storing the answer in the variable \\nat the front of each question. (For example, if you thought the answer to the first question was A, \\nyou would include win_perc = 'A' in the cell below.)\\nwin_perc : What is the highest overall win percentage among the candy included in this dataset?\\n\\nA) 1.00\\n\\nB) 98.8\\n\\nC) 85.00\\n\\nD) 84.18\\n\\nE) Unable to determine\\n\\nfruity : What proportion of the dataset is comprised of fruity candy?\\n\\nA) 0\\n\\nB) 0.45\\n\\nC) 0.50\\n\\nD) 85\\n\\nE) Unable to determine\\n\""
      ]
     },
     "execution_count": 13,
     "metadata": {},
     "output_type": "execute_result"
    }
   ],
   "source": [
    "'''\n",
    "Using the output you just generated, answer the following questions, storing the answer in the variable \n",
    "at the front of each question. (For example, if you thought the answer to the first question was A, \n",
    "you would include win_perc = 'A' in the cell below.)\n",
    "win_perc : What is the highest overall win percentage among the candy included in this dataset?\n",
    "\n",
    "A) 1.00\n",
    "\n",
    "B) 98.8\n",
    "\n",
    "C) 85.00\n",
    "\n",
    "D) 84.18\n",
    "\n",
    "E) Unable to determine\n",
    "\n",
    "fruity : What proportion of the dataset is comprised of fruity candy?\n",
    "\n",
    "A) 0\n",
    "\n",
    "B) 0.45\n",
    "\n",
    "C) 0.50\n",
    "\n",
    "D) 85\n",
    "\n",
    "E) Unable to determine\n",
    "'''"
   ]
  },
  {
   "cell_type": "code",
   "execution_count": 14,
   "metadata": {},
   "outputs": [
    {
     "name": "stdout",
     "output_type": "stream",
     "text": [
      "D\n",
      "B\n"
     ]
    }
   ],
   "source": [
    "win_perc_options = {'A': 1.00, 'B': 98.80, 'C': 85.00, 'D': 84.18}\n",
    "max_win_percent = round(max(df['winpercent']),2)\n",
    "\n",
    "try:\n",
    "    for option in win_perc_options:\n",
    "        if win_perc_options[option] == max_win_percent:\n",
    "            win_perc = option\n",
    "except:\n",
    "    win_perc = 'E'\n",
    "\n",
    "print(win_perc)\n",
    "    \n",
    "fruity_options = {'A': 0.00, 'B': 0.45, 'C': 0.50, 'D': 85.00}\n",
    "fruity_proportion = round(sum(df['fruity'])/len(df.index),2)\n",
    "\n",
    "try:\n",
    "    for option in fruity_options:\n",
    "        if fruity_options[option] == fruity_proportion:\n",
    "            fruity = option\n",
    "except:\n",
    "    fruity = 'E'\n",
    "    \n",
    "print(fruity)"
   ]
  },
  {
   "cell_type": "code",
   "execution_count": 71,
   "metadata": {},
   "outputs": [],
   "source": [
    "answers = ['A', 'B', 'C', 'D', 'E']\n",
    "assert win_perc\n",
    "assert fruity"
   ]
  },
  {
   "cell_type": "code",
   "execution_count": 72,
   "metadata": {},
   "outputs": [],
   "source": [
    "assert win_perc in answers"
   ]
  },
  {
   "cell_type": "code",
   "execution_count": 73,
   "metadata": {},
   "outputs": [],
   "source": [
    "assert fruity in answers"
   ]
  },
  {
   "cell_type": "code",
   "execution_count": 19,
   "metadata": {},
   "outputs": [
    {
     "data": {
      "text/plain": [
       "'\\nQ3c: value_counts()\\nUsing the value_counts() function, determine how many different possible values there are for the chocolate series \\nin the df DataFrame and how many observations fall into each.\\n\\nStore the output in the object chocolate_values.\\n\\nTake a look at the output. Be sure you understand whether or not there are more chocolate (chocolate == 1) \\nor nonchocolate candies (chocolate == 0) in the dataset from the output.\\n'"
      ]
     },
     "execution_count": 19,
     "metadata": {},
     "output_type": "execute_result"
    }
   ],
   "source": [
    "'''\n",
    "Q3c: value_counts()\n",
    "Using the value_counts() function, determine how many different possible values there are for the chocolate series \n",
    "in the df DataFrame and how many observations fall into each.\n",
    "\n",
    "Store the output in the object chocolate_values.\n",
    "\n",
    "Take a look at the output. Be sure you understand whether or not there are more chocolate (chocolate == 1) \n",
    "or nonchocolate candies (chocolate == 0) in the dataset from the output.\n",
    "'''"
   ]
  },
  {
   "cell_type": "code",
   "execution_count": 20,
   "metadata": {},
   "outputs": [],
   "source": [
    "chocolate_values = df.value_counts('chocolate')"
   ]
  },
  {
   "cell_type": "code",
   "execution_count": 21,
   "metadata": {},
   "outputs": [
    {
     "name": "stdout",
     "output_type": "stream",
     "text": [
      "chocolate\n",
      "0    48\n",
      "1    37\n",
      "dtype: int64\n"
     ]
    }
   ],
   "source": [
    "print(chocolate_values)"
   ]
  },
  {
   "cell_type": "code",
   "execution_count": 22,
   "metadata": {},
   "outputs": [],
   "source": [
    "assert chocolate_values.loc[0] == 48"
   ]
  },
  {
   "cell_type": "code",
   "execution_count": 23,
   "metadata": {},
   "outputs": [
    {
     "data": {
      "text/plain": [
       "'\\nQ3d: isna()\\nHow many variables have missing data in this dataset? Store the value in the variable var_missing:\\n'"
      ]
     },
     "execution_count": 23,
     "metadata": {},
     "output_type": "execute_result"
    }
   ],
   "source": [
    "'''\n",
    "Q3d: isna()\n",
    "How many variables have missing data in this dataset? Store the value in the variable var_missing:\n",
    "'''"
   ]
  },
  {
   "cell_type": "code",
   "execution_count": 24,
   "metadata": {},
   "outputs": [
    {
     "data": {
      "text/plain": [
       "competitorname      False\n",
       "chocolate           False\n",
       "fruity              False\n",
       "caramel             False\n",
       "peanutyalmondy      False\n",
       "nougat              False\n",
       "crispedricewafer    False\n",
       "hard                False\n",
       "bar                 False\n",
       "pluribus            False\n",
       "sugarpercent        False\n",
       "pricepercent        False\n",
       "winpercent          False\n",
       "dtype: bool"
      ]
     },
     "execution_count": 24,
     "metadata": {},
     "output_type": "execute_result"
    }
   ],
   "source": [
    "# determine which columns have missing data\n",
    "df.isna().any()"
   ]
  },
  {
   "cell_type": "code",
   "execution_count": 25,
   "metadata": {},
   "outputs": [],
   "source": [
    "var_missing = 0"
   ]
  },
  {
   "cell_type": "code",
   "execution_count": 26,
   "metadata": {},
   "outputs": [],
   "source": [
    "assert isinstance(var_missing, (np.int64, int))"
   ]
  },
  {
   "cell_type": "code",
   "execution_count": 27,
   "metadata": {},
   "outputs": [
    {
     "data": {
      "text/plain": [
       "'\\nQ4: replace (0.5 points)\\nTo replace current values with different values dynamically, replace is very helpful.\\n\\nTo demonstrate this, if you wanted to replace the zeroes and ones in the current dataset with boolean values, \\ntrue or false, you could do this using replace.\\n\\nIn df, replace 0 with False and 1 with True.\\n\\nStore this output in df_bool.\\n'"
      ]
     },
     "execution_count": 27,
     "metadata": {},
     "output_type": "execute_result"
    }
   ],
   "source": [
    "'''\n",
    "Q4: replace (0.5 points)\n",
    "To replace current values with different values dynamically, replace is very helpful.\n",
    "\n",
    "To demonstrate this, if you wanted to replace the zeroes and ones in the current dataset with boolean values, \n",
    "true or false, you could do this using replace.\n",
    "\n",
    "In df, replace 0 with False and 1 with True.\n",
    "\n",
    "Store this output in df_bool.\n",
    "'''"
   ]
  },
  {
   "cell_type": "code",
   "execution_count": 28,
   "metadata": {},
   "outputs": [],
   "source": [
    "df_bool = df.replace(to_replace=1, value=True)\n",
    "df_bool = df_bool.replace(to_replace=0, value=False)"
   ]
  },
  {
   "cell_type": "code",
   "execution_count": 29,
   "metadata": {},
   "outputs": [],
   "source": [
    "assert df_bool.shape == df.shape\n",
    "assert df_bool.loc[1,'chocolate'] == True\n",
    "assert df_bool.iloc[0,0] == '100 Grand'"
   ]
  },
  {
   "cell_type": "code",
   "execution_count": 30,
   "metadata": {},
   "outputs": [
    {
     "data": {
      "text/plain": [
       "\"\\nQ5: Column Operations (2.15 points)\\nOften we’re only interested in working with some columns in a larger dataset and it’s helpful to filter the dataset \\nso that it only includes the columns we want. In these cases, we select the columns we’re interested in by specifying \\nthese columns and returning the output.\\n\\nIn pandas, there are a number of ways in which this can be done, but the most common is to specify a list of columns \\nyou want by name and in the order you want.\\n\\nFor example, for a dataframe (df) with five columns (‘A’, ‘B’, ‘C’, ‘D’, ‘E’), you could select columns ‘C’, ‘B’ and ‘A’ \\n(in that order), using the following:\\n\\ndf[['C', 'B', 'A']]\\n\""
      ]
     },
     "execution_count": 30,
     "metadata": {},
     "output_type": "execute_result"
    }
   ],
   "source": [
    "'''\n",
    "Q5: Column Operations (2.15 points)\n",
    "Often we’re only interested in working with some columns in a larger dataset and it’s helpful to filter the dataset \n",
    "so that it only includes the columns we want. In these cases, we select the columns we’re interested in by specifying \n",
    "these columns and returning the output.\n",
    "\n",
    "In pandas, there are a number of ways in which this can be done, but the most common is to specify a list of columns \n",
    "you want by name and in the order you want.\n",
    "\n",
    "For example, for a dataframe (df) with five columns (‘A’, ‘B’, ‘C’, ‘D’, ‘E’), you could select columns ‘C’, ‘B’ and ‘A’ \n",
    "(in that order), using the following:\n",
    "\n",
    "df[['C', 'B', 'A']]\n",
    "'''"
   ]
  },
  {
   "cell_type": "code",
   "execution_count": 31,
   "metadata": {},
   "outputs": [
    {
     "data": {
      "text/plain": [
       "' \\nQ5a: selecting columns\\nFor our candy dataset, we’re ultimately interested in determining the differences between chocolate and fruity candy.\\n\\nTo just get the data we’re interested in, return a DataFrame with the columns: competitorname, chocolate, fruity, hard, \\nbar, pluribus, sugarpercent, pricepercent, and winpercent.\\n\\nStore this output in df (overwriting the previous data stored in df).\\n'"
      ]
     },
     "execution_count": 31,
     "metadata": {},
     "output_type": "execute_result"
    }
   ],
   "source": [
    "''' \n",
    "Q5a: selecting columns\n",
    "For our candy dataset, we’re ultimately interested in determining the differences between chocolate and fruity candy.\n",
    "\n",
    "To just get the data we’re interested in, return a DataFrame with the columns: competitorname, chocolate, fruity, hard, \n",
    "bar, pluribus, sugarpercent, pricepercent, and winpercent.\n",
    "\n",
    "Store this output in df (overwriting the previous data stored in df).\n",
    "'''"
   ]
  },
  {
   "cell_type": "code",
   "execution_count": 32,
   "metadata": {},
   "outputs": [],
   "source": [
    "df = df[['competitorname', 'chocolate', 'fruity', 'hard', 'bar', 'pluribus', 'sugarpercent', 'pricepercent', 'winpercent']]"
   ]
  },
  {
   "cell_type": "code",
   "execution_count": 33,
   "metadata": {},
   "outputs": [],
   "source": [
    "assert df.shape == (85, 9)"
   ]
  },
  {
   "cell_type": "code",
   "execution_count": 34,
   "metadata": {},
   "outputs": [
    {
     "data": {
      "text/plain": [
       "'\\nQ5b: Select by Data Type\\nFor the df_bool dataset, we’re interested in selecting only the columns that are either a string (object) or a bool.\\n\\nUse the pandas select_dtypes function to select those columns. Note, you’ll have to specify the include parameter.\\n\\nStore this output in df_bool\\n'"
      ]
     },
     "execution_count": 34,
     "metadata": {},
     "output_type": "execute_result"
    }
   ],
   "source": [
    "'''\n",
    "Q5b: Select by Data Type\n",
    "For the df_bool dataset, we’re interested in selecting only the columns that are either a string (object) or a bool.\n",
    "\n",
    "Use the pandas select_dtypes function to select those columns. Note, you’ll have to specify the include parameter.\n",
    "\n",
    "Store this output in df_bool\n",
    "'''"
   ]
  },
  {
   "cell_type": "code",
   "execution_count": 35,
   "metadata": {},
   "outputs": [],
   "source": [
    "df_bool = df_bool.select_dtypes(include=['object','bool'])"
   ]
  },
  {
   "cell_type": "code",
   "execution_count": 36,
   "metadata": {},
   "outputs": [],
   "source": [
    "assert df_bool.shape == (85, 10)"
   ]
  },
  {
   "cell_type": "code",
   "execution_count": 37,
   "metadata": {},
   "outputs": [
    {
     "data": {
      "text/plain": [
       "\"\\nQ5c: Renaming Columns\\nOften, data have less than helpful column names. To make working with these data as simple as possible, \\nit can be helpful to ensure that all columns have helpful column names. rename can help you do this\\n\\nGenerally there are three approaches to renaming columns:\\n\\nMost flexible option: df = df.rename({'A':'a', 'B':'b'}, axis='columns')\\n\\nOverwrite all column names: df.columns = ['a', 'b']\\n\\nApply string method: df.columns = df.columns.str.lower()\\n\\nFor our dataset in partciular, pluribus is not an ideal column name. Use approach 1 above to rename pluribus \\nto multicandy_pack for both the df and df_bool dataframes\\n\""
      ]
     },
     "execution_count": 37,
     "metadata": {},
     "output_type": "execute_result"
    }
   ],
   "source": [
    "'''\n",
    "Q5c: Renaming Columns\n",
    "Often, data have less than helpful column names. To make working with these data as simple as possible, \n",
    "it can be helpful to ensure that all columns have helpful column names. rename can help you do this\n",
    "\n",
    "Generally there are three approaches to renaming columns:\n",
    "\n",
    "Most flexible option: df = df.rename({'A':'a', 'B':'b'}, axis='columns')\n",
    "\n",
    "Overwrite all column names: df.columns = ['a', 'b']\n",
    "\n",
    "Apply string method: df.columns = df.columns.str.lower()\n",
    "\n",
    "For our dataset in partciular, pluribus is not an ideal column name. Use approach 1 above to rename pluribus \n",
    "to multicandy_pack for both the df and df_bool dataframes\n",
    "'''"
   ]
  },
  {
   "cell_type": "code",
   "execution_count": 38,
   "metadata": {},
   "outputs": [],
   "source": [
    "df = df.rename({'pluribus' : 'multicandy_pack'}, axis = 'columns')\n",
    "df_bool = df_bool.rename({'pluribus' : 'multicandy_pack'}, axis = 'columns')"
   ]
  },
  {
   "cell_type": "code",
   "execution_count": 39,
   "metadata": {},
   "outputs": [
    {
     "data": {
      "text/html": [
       "<div>\n",
       "<style scoped>\n",
       "    .dataframe tbody tr th:only-of-type {\n",
       "        vertical-align: middle;\n",
       "    }\n",
       "\n",
       "    .dataframe tbody tr th {\n",
       "        vertical-align: top;\n",
       "    }\n",
       "\n",
       "    .dataframe thead th {\n",
       "        text-align: right;\n",
       "    }\n",
       "</style>\n",
       "<table border=\"1\" class=\"dataframe\">\n",
       "  <thead>\n",
       "    <tr style=\"text-align: right;\">\n",
       "      <th></th>\n",
       "      <th>competitorname</th>\n",
       "      <th>chocolate</th>\n",
       "      <th>fruity</th>\n",
       "      <th>hard</th>\n",
       "      <th>bar</th>\n",
       "      <th>multicandy_pack</th>\n",
       "      <th>sugarpercent</th>\n",
       "      <th>pricepercent</th>\n",
       "      <th>winpercent</th>\n",
       "    </tr>\n",
       "  </thead>\n",
       "  <tbody>\n",
       "    <tr>\n",
       "      <th>0</th>\n",
       "      <td>100 Grand</td>\n",
       "      <td>1</td>\n",
       "      <td>0</td>\n",
       "      <td>0</td>\n",
       "      <td>1</td>\n",
       "      <td>0</td>\n",
       "      <td>0.732</td>\n",
       "      <td>0.860</td>\n",
       "      <td>66.971725</td>\n",
       "    </tr>\n",
       "    <tr>\n",
       "      <th>1</th>\n",
       "      <td>3 Musketeers</td>\n",
       "      <td>1</td>\n",
       "      <td>0</td>\n",
       "      <td>0</td>\n",
       "      <td>1</td>\n",
       "      <td>0</td>\n",
       "      <td>0.604</td>\n",
       "      <td>0.511</td>\n",
       "      <td>67.602936</td>\n",
       "    </tr>\n",
       "    <tr>\n",
       "      <th>2</th>\n",
       "      <td>One dime</td>\n",
       "      <td>0</td>\n",
       "      <td>0</td>\n",
       "      <td>0</td>\n",
       "      <td>0</td>\n",
       "      <td>0</td>\n",
       "      <td>0.011</td>\n",
       "      <td>0.116</td>\n",
       "      <td>32.261086</td>\n",
       "    </tr>\n",
       "    <tr>\n",
       "      <th>3</th>\n",
       "      <td>One quarter</td>\n",
       "      <td>0</td>\n",
       "      <td>0</td>\n",
       "      <td>0</td>\n",
       "      <td>0</td>\n",
       "      <td>0</td>\n",
       "      <td>0.011</td>\n",
       "      <td>0.511</td>\n",
       "      <td>46.116505</td>\n",
       "    </tr>\n",
       "    <tr>\n",
       "      <th>4</th>\n",
       "      <td>Air Heads</td>\n",
       "      <td>0</td>\n",
       "      <td>1</td>\n",
       "      <td>0</td>\n",
       "      <td>0</td>\n",
       "      <td>0</td>\n",
       "      <td>0.906</td>\n",
       "      <td>0.511</td>\n",
       "      <td>52.341465</td>\n",
       "    </tr>\n",
       "  </tbody>\n",
       "</table>\n",
       "</div>"
      ],
      "text/plain": [
       "  competitorname  chocolate  fruity  hard  bar  multicandy_pack  sugarpercent  \\\n",
       "0      100 Grand          1       0     0    1                0         0.732   \n",
       "1   3 Musketeers          1       0     0    1                0         0.604   \n",
       "2       One dime          0       0     0    0                0         0.011   \n",
       "3    One quarter          0       0     0    0                0         0.011   \n",
       "4      Air Heads          0       1     0    0                0         0.906   \n",
       "\n",
       "   pricepercent  winpercent  \n",
       "0         0.860   66.971725  \n",
       "1         0.511   67.602936  \n",
       "2         0.116   32.261086  \n",
       "3         0.511   46.116505  \n",
       "4         0.511   52.341465  "
      ]
     },
     "execution_count": 39,
     "metadata": {},
     "output_type": "execute_result"
    }
   ],
   "source": [
    "df.head()"
   ]
  },
  {
   "cell_type": "code",
   "execution_count": 40,
   "metadata": {},
   "outputs": [],
   "source": [
    "assert 'multicandy_pack' in df.columns\n",
    "assert 'multicandy_pack' in df_bool.columns"
   ]
  },
  {
   "cell_type": "code",
   "execution_count": 41,
   "metadata": {},
   "outputs": [
    {
     "data": {
      "text/plain": [
       "\"\\nQ5d: Adding new columns\\nOften when working with data we need to add additional columns that use information from existing columns.\\n\\nTo do this, we typically use one of two approaches, summarized generally here:\\n\\nassign\\n\\ndf.assign(new_col = df['col'] * val)\\napply\\n\\nfor col in df.columns:\\n    df[f'{col}_new'] = df[col].apply(my_function)\\nFor example, are there any candy in our dataset that are neither fruity nor chocolate?\\n\\nUse assign to add a new column to df called fruity_choco that adds the value in chocolate to the value in fruity. \\nThis way, the value will be 0 if it is neither fruity nor chocolate, 1 if it is one or the other and 2 if it is both.\\n\\nStore the output in df.\\n\""
      ]
     },
     "execution_count": 41,
     "metadata": {},
     "output_type": "execute_result"
    }
   ],
   "source": [
    "'''\n",
    "Q5d: Adding new columns\n",
    "Often when working with data we need to add additional columns that use information from existing columns.\n",
    "\n",
    "To do this, we typically use one of two approaches, summarized generally here:\n",
    "\n",
    "assign\n",
    "\n",
    "df.assign(new_col = df['col'] * val)\n",
    "apply\n",
    "\n",
    "for col in df.columns:\n",
    "    df[f'{col}_new'] = df[col].apply(my_function)\n",
    "For example, are there any candy in our dataset that are neither fruity nor chocolate?\n",
    "\n",
    "Use assign to add a new column to df called fruity_choco that adds the value in chocolate to the value in fruity. \n",
    "This way, the value will be 0 if it is neither fruity nor chocolate, 1 if it is one or the other and 2 if it is both.\n",
    "\n",
    "Store the output in df.\n",
    "'''"
   ]
  },
  {
   "cell_type": "code",
   "execution_count": 42,
   "metadata": {},
   "outputs": [],
   "source": [
    "df = df.assign(fruity_choco = df['fruity'] + df['chocolate'])"
   ]
  },
  {
   "cell_type": "code",
   "execution_count": 43,
   "metadata": {},
   "outputs": [
    {
     "data": {
      "text/html": [
       "<div>\n",
       "<style scoped>\n",
       "    .dataframe tbody tr th:only-of-type {\n",
       "        vertical-align: middle;\n",
       "    }\n",
       "\n",
       "    .dataframe tbody tr th {\n",
       "        vertical-align: top;\n",
       "    }\n",
       "\n",
       "    .dataframe thead th {\n",
       "        text-align: right;\n",
       "    }\n",
       "</style>\n",
       "<table border=\"1\" class=\"dataframe\">\n",
       "  <thead>\n",
       "    <tr style=\"text-align: right;\">\n",
       "      <th></th>\n",
       "      <th>competitorname</th>\n",
       "      <th>chocolate</th>\n",
       "      <th>fruity</th>\n",
       "      <th>hard</th>\n",
       "      <th>bar</th>\n",
       "      <th>multicandy_pack</th>\n",
       "      <th>sugarpercent</th>\n",
       "      <th>pricepercent</th>\n",
       "      <th>winpercent</th>\n",
       "      <th>fruity_choco</th>\n",
       "    </tr>\n",
       "  </thead>\n",
       "  <tbody>\n",
       "    <tr>\n",
       "      <th>0</th>\n",
       "      <td>100 Grand</td>\n",
       "      <td>1</td>\n",
       "      <td>0</td>\n",
       "      <td>0</td>\n",
       "      <td>1</td>\n",
       "      <td>0</td>\n",
       "      <td>0.732</td>\n",
       "      <td>0.860</td>\n",
       "      <td>66.971725</td>\n",
       "      <td>1</td>\n",
       "    </tr>\n",
       "    <tr>\n",
       "      <th>1</th>\n",
       "      <td>3 Musketeers</td>\n",
       "      <td>1</td>\n",
       "      <td>0</td>\n",
       "      <td>0</td>\n",
       "      <td>1</td>\n",
       "      <td>0</td>\n",
       "      <td>0.604</td>\n",
       "      <td>0.511</td>\n",
       "      <td>67.602936</td>\n",
       "      <td>1</td>\n",
       "    </tr>\n",
       "    <tr>\n",
       "      <th>2</th>\n",
       "      <td>One dime</td>\n",
       "      <td>0</td>\n",
       "      <td>0</td>\n",
       "      <td>0</td>\n",
       "      <td>0</td>\n",
       "      <td>0</td>\n",
       "      <td>0.011</td>\n",
       "      <td>0.116</td>\n",
       "      <td>32.261086</td>\n",
       "      <td>0</td>\n",
       "    </tr>\n",
       "    <tr>\n",
       "      <th>3</th>\n",
       "      <td>One quarter</td>\n",
       "      <td>0</td>\n",
       "      <td>0</td>\n",
       "      <td>0</td>\n",
       "      <td>0</td>\n",
       "      <td>0</td>\n",
       "      <td>0.011</td>\n",
       "      <td>0.511</td>\n",
       "      <td>46.116505</td>\n",
       "      <td>0</td>\n",
       "    </tr>\n",
       "    <tr>\n",
       "      <th>4</th>\n",
       "      <td>Air Heads</td>\n",
       "      <td>0</td>\n",
       "      <td>1</td>\n",
       "      <td>0</td>\n",
       "      <td>0</td>\n",
       "      <td>0</td>\n",
       "      <td>0.906</td>\n",
       "      <td>0.511</td>\n",
       "      <td>52.341465</td>\n",
       "      <td>1</td>\n",
       "    </tr>\n",
       "  </tbody>\n",
       "</table>\n",
       "</div>"
      ],
      "text/plain": [
       "  competitorname  chocolate  fruity  hard  bar  multicandy_pack  sugarpercent  \\\n",
       "0      100 Grand          1       0     0    1                0         0.732   \n",
       "1   3 Musketeers          1       0     0    1                0         0.604   \n",
       "2       One dime          0       0     0    0                0         0.011   \n",
       "3    One quarter          0       0     0    0                0         0.011   \n",
       "4      Air Heads          0       1     0    0                0         0.906   \n",
       "\n",
       "   pricepercent  winpercent  fruity_choco  \n",
       "0         0.860   66.971725             1  \n",
       "1         0.511   67.602936             1  \n",
       "2         0.116   32.261086             0  \n",
       "3         0.511   46.116505             0  \n",
       "4         0.511   52.341465             1  "
      ]
     },
     "execution_count": 43,
     "metadata": {},
     "output_type": "execute_result"
    }
   ],
   "source": [
    "df.head()"
   ]
  },
  {
   "cell_type": "code",
   "execution_count": 44,
   "metadata": {},
   "outputs": [],
   "source": [
    "assert isinstance(df['fruity_choco'], pd.Series)"
   ]
  },
  {
   "cell_type": "code",
   "execution_count": 45,
   "metadata": {},
   "outputs": [
    {
     "data": {
      "text/plain": [
       "1    73\n",
       "0    11\n",
       "2     1\n",
       "Name: fruity_choco, dtype: int64"
      ]
     },
     "execution_count": 45,
     "metadata": {},
     "output_type": "execute_result"
    }
   ],
   "source": [
    "# see breakdown of 'fruity_choco' column\n",
    "df['fruity_choco'].value_counts()"
   ]
  },
  {
   "cell_type": "code",
   "execution_count": 46,
   "metadata": {},
   "outputs": [
    {
     "data": {
      "text/plain": [
       "'\\nQ5e: neither\\nTake a look at the output above. How many candies are neither fruity nor chocolate? Store this value in the variable neither.\\n'"
      ]
     },
     "execution_count": 46,
     "metadata": {},
     "output_type": "execute_result"
    }
   ],
   "source": [
    "'''\n",
    "Q5e: neither\n",
    "Take a look at the output above. How many candies are neither fruity nor chocolate? Store this value in the variable neither.\n",
    "'''"
   ]
  },
  {
   "cell_type": "code",
   "execution_count": 47,
   "metadata": {},
   "outputs": [
    {
     "data": {
      "text/plain": [
       "RangeIndex(start=0, stop=85, step=1)"
      ]
     },
     "execution_count": 47,
     "metadata": {},
     "output_type": "execute_result"
    }
   ],
   "source": [
    "df.index"
   ]
  },
  {
   "cell_type": "code",
   "execution_count": 48,
   "metadata": {},
   "outputs": [],
   "source": [
    "neither = df['fruity_choco'].value_counts()[0]"
   ]
  },
  {
   "cell_type": "code",
   "execution_count": 49,
   "metadata": {},
   "outputs": [],
   "source": [
    "assert neither >= 0 and neither <= len(df)"
   ]
  },
  {
   "cell_type": "code",
   "execution_count": 50,
   "metadata": {},
   "outputs": [
    {
     "data": {
      "text/plain": [
       "'\\nQ6a: Slicing\\nThe concept of slicing can be combined with conditionals. For example, you can return all rows of a particular value.\\n\\nUsing value_counts() above on the fruity_choco column we created, we see that there is one candy that is both chocolate \\nand fruity in our dataset. Let’s figure out which candy that was!\\n\\nUse slicing to return the row from df where fruity_choco indicated the candy was both fruity and chocolate.\\n\\nStore this DataFrame (which will have a single row) as both. Again using indexing, store the name of the candy that is \\nboth fruity and chocolate in the variable candy_name.\\n'"
      ]
     },
     "execution_count": 50,
     "metadata": {},
     "output_type": "execute_result"
    }
   ],
   "source": [
    "'''\n",
    "Q6a: Slicing \n",
    "The concept of slicing can be combined with conditionals. For example, you can return all rows of a particular value.\n",
    "\n",
    "Using value_counts() above on the fruity_choco column we created, we see that there is one candy that is both chocolate \n",
    "and fruity in our dataset. Let’s figure out which candy that was!\n",
    "\n",
    "Use slicing to return the row from df where fruity_choco indicated the candy was both fruity and chocolate.\n",
    "\n",
    "Store this DataFrame (which will have a single row) as both. Again using indexing, store the name of the candy that is \n",
    "both fruity and chocolate in the variable candy_name.\n",
    "'''"
   ]
  },
  {
   "cell_type": "code",
   "execution_count": 51,
   "metadata": {},
   "outputs": [],
   "source": [
    "for value in range(0, len(df)):\n",
    "    if df['fruity_choco'][value] == 2:\n",
    "        both = df.loc[[value], :]"
   ]
  },
  {
   "cell_type": "code",
   "execution_count": 52,
   "metadata": {},
   "outputs": [
    {
     "data": {
      "text/plain": [
       "pandas.core.frame.DataFrame"
      ]
     },
     "execution_count": 52,
     "metadata": {},
     "output_type": "execute_result"
    }
   ],
   "source": [
    "type(both)"
   ]
  },
  {
   "cell_type": "code",
   "execution_count": 53,
   "metadata": {},
   "outputs": [
    {
     "data": {
      "text/plain": [
       "(1, 10)"
      ]
     },
     "execution_count": 53,
     "metadata": {},
     "output_type": "execute_result"
    }
   ],
   "source": [
    "both.shape"
   ]
  },
  {
   "cell_type": "code",
   "execution_count": 54,
   "metadata": {},
   "outputs": [
    {
     "name": "stdout",
     "output_type": "stream",
     "text": [
      "74    Tootsie Pop\n"
     ]
    }
   ],
   "source": [
    "candy_name = both['competitorname'].to_string()\n",
    "print(candy_name)"
   ]
  },
  {
   "cell_type": "code",
   "execution_count": 55,
   "metadata": {},
   "outputs": [],
   "source": [
    "assert type(both) == pd.DataFrame\n",
    "assert both.shape == (1, 10)\n",
    "assert isinstance(candy_name, str)"
   ]
  },
  {
   "cell_type": "code",
   "execution_count": 56,
   "metadata": {},
   "outputs": [
    {
     "data": {
      "text/plain": [
       "'\\nQ6b: Filtering\\nUsing this concept, filter df to only include rows that contain candy that is fruity or chocolate in some capacity \\n(meaning, something that is both fruity and chocolate would be included).\\n\\nStore this output in df.\\n'"
      ]
     },
     "execution_count": 56,
     "metadata": {},
     "output_type": "execute_result"
    }
   ],
   "source": [
    "'''\n",
    "Q6b: Filtering\n",
    "Using this concept, filter df to only include rows that contain candy that is fruity or chocolate in some capacity \n",
    "(meaning, something that is both fruity and chocolate would be included).\n",
    "\n",
    "Store this output in df.\n",
    "'''"
   ]
  },
  {
   "cell_type": "code",
   "execution_count": 57,
   "metadata": {},
   "outputs": [],
   "source": [
    "df = df[(df['fruity_choco'] != 0)]"
   ]
  },
  {
   "cell_type": "code",
   "execution_count": 58,
   "metadata": {},
   "outputs": [],
   "source": [
    "assert df.shape == (74, 10)\n",
    "assert not any(df['fruity_choco'] == 0)"
   ]
  },
  {
   "cell_type": "code",
   "execution_count": 59,
   "metadata": {},
   "outputs": [
    {
     "data": {
      "text/plain": [
       "'\\nQ7a: sort_values\\nSpecifically, df is currently sorted in alphabetical order by competitor name (candy). What if we were most curious \\nabout the sugar percentile of where the candy falls within the dataset?\\n\\nArrange the rows in df such that the candy with the highest sugarpercent is displayed first and the lowest sugarpercent last. \\nStore this in df.\\n\\nAlso, note that when using sort_values, the original indices are retained. So, also reset the index of df so that the highest \\nsugarpercent candy is index 0.\\n'"
      ]
     },
     "execution_count": 59,
     "metadata": {},
     "output_type": "execute_result"
    }
   ],
   "source": [
    "'''\n",
    "Q7a: sort_values\n",
    "Specifically, df is currently sorted in alphabetical order by competitor name (candy). What if we were most curious \n",
    "about the sugar percentile of where the candy falls within the dataset?\n",
    "\n",
    "Arrange the rows in df such that the candy with the highest sugarpercent is displayed first and the lowest sugarpercent last. \n",
    "Store this in df.\n",
    "\n",
    "Also, note that when using sort_values, the original indices are retained. So, also reset the index of df so that the highest \n",
    "sugarpercent candy is index 0.\n",
    "'''"
   ]
  },
  {
   "cell_type": "code",
   "execution_count": 60,
   "metadata": {},
   "outputs": [],
   "source": [
    "df = df.sort_values(by=['sugarpercent'], ascending=False, ignore_index=True)"
   ]
  },
  {
   "cell_type": "code",
   "execution_count": 61,
   "metadata": {},
   "outputs": [],
   "source": [
    "assert df.loc[0,'competitorname'] != '100 Grand'\n",
    "assert np.allclose(df.loc[0,'sugarpercent'], 0.988)"
   ]
  },
  {
   "cell_type": "code",
   "execution_count": 62,
   "metadata": {},
   "outputs": [
    {
     "data": {
      "text/html": [
       "<div>\n",
       "<style scoped>\n",
       "    .dataframe tbody tr th:only-of-type {\n",
       "        vertical-align: middle;\n",
       "    }\n",
       "\n",
       "    .dataframe tbody tr th {\n",
       "        vertical-align: top;\n",
       "    }\n",
       "\n",
       "    .dataframe thead th {\n",
       "        text-align: right;\n",
       "    }\n",
       "</style>\n",
       "<table border=\"1\" class=\"dataframe\">\n",
       "  <thead>\n",
       "    <tr style=\"text-align: right;\">\n",
       "      <th></th>\n",
       "      <th>competitorname</th>\n",
       "      <th>chocolate</th>\n",
       "      <th>fruity</th>\n",
       "      <th>hard</th>\n",
       "      <th>bar</th>\n",
       "      <th>multicandy_pack</th>\n",
       "      <th>sugarpercent</th>\n",
       "      <th>pricepercent</th>\n",
       "      <th>winpercent</th>\n",
       "      <th>fruity_choco</th>\n",
       "    </tr>\n",
       "  </thead>\n",
       "  <tbody>\n",
       "    <tr>\n",
       "      <th>0</th>\n",
       "      <td>Reese's stuffed with pieces</td>\n",
       "      <td>1</td>\n",
       "      <td>0</td>\n",
       "      <td>0</td>\n",
       "      <td>0</td>\n",
       "      <td>0</td>\n",
       "      <td>0.988</td>\n",
       "      <td>0.651</td>\n",
       "      <td>72.887901</td>\n",
       "      <td>1</td>\n",
       "    </tr>\n",
       "    <tr>\n",
       "      <th>1</th>\n",
       "      <td>Milky Way Simply Caramel</td>\n",
       "      <td>1</td>\n",
       "      <td>0</td>\n",
       "      <td>0</td>\n",
       "      <td>1</td>\n",
       "      <td>0</td>\n",
       "      <td>0.965</td>\n",
       "      <td>0.860</td>\n",
       "      <td>64.353340</td>\n",
       "      <td>1</td>\n",
       "    </tr>\n",
       "    <tr>\n",
       "      <th>2</th>\n",
       "      <td>Skittles wildberry</td>\n",
       "      <td>0</td>\n",
       "      <td>1</td>\n",
       "      <td>0</td>\n",
       "      <td>0</td>\n",
       "      <td>1</td>\n",
       "      <td>0.941</td>\n",
       "      <td>0.220</td>\n",
       "      <td>55.103695</td>\n",
       "      <td>1</td>\n",
       "    </tr>\n",
       "    <tr>\n",
       "      <th>3</th>\n",
       "      <td>Skittles original</td>\n",
       "      <td>0</td>\n",
       "      <td>1</td>\n",
       "      <td>0</td>\n",
       "      <td>0</td>\n",
       "      <td>1</td>\n",
       "      <td>0.941</td>\n",
       "      <td>0.220</td>\n",
       "      <td>63.085140</td>\n",
       "      <td>1</td>\n",
       "    </tr>\n",
       "    <tr>\n",
       "      <th>4</th>\n",
       "      <td>Air Heads</td>\n",
       "      <td>0</td>\n",
       "      <td>1</td>\n",
       "      <td>0</td>\n",
       "      <td>0</td>\n",
       "      <td>0</td>\n",
       "      <td>0.906</td>\n",
       "      <td>0.511</td>\n",
       "      <td>52.341465</td>\n",
       "      <td>1</td>\n",
       "    </tr>\n",
       "  </tbody>\n",
       "</table>\n",
       "</div>"
      ],
      "text/plain": [
       "                competitorname  chocolate  fruity  hard  bar  multicandy_pack  \\\n",
       "0  Reese's stuffed with pieces          1       0     0    0                0   \n",
       "1     Milky Way Simply Caramel          1       0     0    1                0   \n",
       "2           Skittles wildberry          0       1     0    0                1   \n",
       "3            Skittles original          0       1     0    0                1   \n",
       "4                    Air Heads          0       1     0    0                0   \n",
       "\n",
       "   sugarpercent  pricepercent  winpercent  fruity_choco  \n",
       "0         0.988         0.651   72.887901             1  \n",
       "1         0.965         0.860   64.353340             1  \n",
       "2         0.941         0.220   55.103695             1  \n",
       "3         0.941         0.220   63.085140             1  \n",
       "4         0.906         0.511   52.341465             1  "
      ]
     },
     "execution_count": 62,
     "metadata": {},
     "output_type": "execute_result"
    }
   ],
   "source": [
    "# take a look at the first few rows\n",
    "df.head()"
   ]
  },
  {
   "cell_type": "code",
   "execution_count": 63,
   "metadata": {},
   "outputs": [
    {
     "data": {
      "text/plain": [
       "\"\\nQ7b: Sugar Rush\\nWhich candy in our dataset is the sugariest? Record your answer in the variable sugary. For example, \\nif you thought the answer was A, you would submit sugary = 'A'.\\n\\nA) Reese’s Miniatures\\n\\nB) Chiclets\\n\\nC) 100 Grand\\n\\nD) Reese’s Stuffed with Pieces\\n\\nE) Candy not listed here\\n\""
      ]
     },
     "execution_count": 63,
     "metadata": {},
     "output_type": "execute_result"
    }
   ],
   "source": [
    "'''\n",
    "Q7b: Sugar Rush\n",
    "Which candy in our dataset is the sugariest? Record your answer in the variable sugary. For example, \n",
    "if you thought the answer was A, you would submit sugary = 'A'.\n",
    "\n",
    "A) Reese’s Miniatures\n",
    "\n",
    "B) Chiclets\n",
    "\n",
    "C) 100 Grand\n",
    "\n",
    "D) Reese’s Stuffed with Pieces\n",
    "\n",
    "E) Candy not listed here\n",
    "'''"
   ]
  },
  {
   "cell_type": "code",
   "execution_count": 64,
   "metadata": {},
   "outputs": [
    {
     "name": "stdout",
     "output_type": "stream",
     "text": [
      "D\n"
     ]
    }
   ],
   "source": [
    "competitor = df['competitorname'][0].strip('\"')\n",
    "options = {'A':\"Reese's Miniatures\",\n",
    "           'B': 'Chiclets',\n",
    "           'C': '100 Grand',\n",
    "           'D': \"Reese's stuffed with pieces\",}\n",
    "\n",
    "for option in options:\n",
    "    if options[option] == competitor:\n",
    "        sugary = option\n",
    "if sugary == '':\n",
    "    sugary = 'E'\n",
    "\n",
    "print(sugary)"
   ]
  },
  {
   "cell_type": "code",
   "execution_count": 65,
   "metadata": {},
   "outputs": [],
   "source": [
    "assert isinstance(sugary, str)"
   ]
  },
  {
   "cell_type": "code",
   "execution_count": 66,
   "metadata": {},
   "outputs": [
    {
     "data": {
      "text/plain": [
       "\"\\nQ8a: Cost Interpretation\\nLooking at the output in the previous cell, which type of candy costs more, fruity candy or chocolate candy? \\nStore your response in candy_cost. For example, if you thought the answer was A, you would submit candy_cost = 'A'.\\n\\nA) chocolate costs more\\n\\nB) fruity costs more\\n\\nC) chocolate and fruity cost the same\\n\\nD) can’t be determined\\n\""
      ]
     },
     "execution_count": 66,
     "metadata": {},
     "output_type": "execute_result"
    }
   ],
   "source": [
    "'''\n",
    "Q8a: Cost Interpretation\n",
    "Looking at the output in the previous cell, which type of candy costs more, fruity candy or chocolate candy? \n",
    "Store your response in candy_cost. For example, if you thought the answer was A, you would submit candy_cost = 'A'.\n",
    "\n",
    "A) chocolate costs more\n",
    "\n",
    "B) fruity costs more\n",
    "\n",
    "C) chocolate and fruity cost the same\n",
    "\n",
    "D) can’t be determined\n",
    "'''"
   ]
  },
  {
   "cell_type": "code",
   "execution_count": 67,
   "metadata": {},
   "outputs": [],
   "source": [
    "cost = df.groupby('chocolate').agg('mean')"
   ]
  },
  {
   "cell_type": "code",
   "execution_count": 68,
   "metadata": {},
   "outputs": [
    {
     "name": "stdout",
     "output_type": "stream",
     "text": [
      "A\n"
     ]
    }
   ],
   "source": [
    "try:\n",
    "    if cost['pricepercent'][0] > cost['pricepercent'][1]:\n",
    "        candy_cost = 'B'\n",
    "    elif cost['pricepercent'][1] > cost['pricepercent'][0]:\n",
    "        candy_cost = 'A'\n",
    "    else:\n",
    "        candy_cost = 'C'\n",
    "except:\n",
    "    candy_cost = 'D'\n",
    "\n",
    "\n",
    "print(candy_cost)"
   ]
  },
  {
   "cell_type": "code",
   "execution_count": 69,
   "metadata": {},
   "outputs": [],
   "source": [
    "assert isinstance(candy_cost, str)"
   ]
  },
  {
   "cell_type": "code",
   "execution_count": 70,
   "metadata": {},
   "outputs": [
    {
     "data": {
      "text/plain": [
       "'\\nQ8b: specific column aggregation\\nCarrying out a similar operation, group df by fruity, and then calculate the minimum, average (mean), \\nand maximum values, for the sugarpercent column only.\\n\\nFor this, fruity should be the name for the indices and your column names should be ‘min’, ‘mean’, and ‘max’.\\n\\nStore this result in sugar_summary.\\n\\nNote: the pandas documentation here may help you if you’re struggling to figure out the syntax¶\\n'"
      ]
     },
     "execution_count": 70,
     "metadata": {},
     "output_type": "execute_result"
    }
   ],
   "source": [
    "'''\n",
    "Q8b: specific column aggregation\n",
    "Carrying out a similar operation, group df by fruity, and then calculate the minimum, average (mean), \n",
    "and maximum values, for the sugarpercent column only.\n",
    "\n",
    "For this, fruity should be the name for the indices and your column names should be ‘min’, ‘mean’, and ‘max’.\n",
    "\n",
    "Store this result in sugar_summary.\n",
    "\n",
    "Note: the pandas documentation here may help you if you’re struggling to figure out the syntax¶\n",
    "'''"
   ]
  },
  {
   "cell_type": "code",
   "execution_count": 117,
   "metadata": {},
   "outputs": [
    {
     "data": {
      "text/html": [
       "<div>\n",
       "<style scoped>\n",
       "    .dataframe tbody tr th:only-of-type {\n",
       "        vertical-align: middle;\n",
       "    }\n",
       "\n",
       "    .dataframe tbody tr th {\n",
       "        vertical-align: top;\n",
       "    }\n",
       "\n",
       "    .dataframe thead th {\n",
       "        text-align: right;\n",
       "    }\n",
       "</style>\n",
       "<table border=\"1\" class=\"dataframe\">\n",
       "  <thead>\n",
       "    <tr style=\"text-align: right;\">\n",
       "      <th></th>\n",
       "      <th>min</th>\n",
       "      <th>mean</th>\n",
       "      <th>max</th>\n",
       "    </tr>\n",
       "    <tr>\n",
       "      <th>fruity</th>\n",
       "      <th></th>\n",
       "      <th></th>\n",
       "      <th></th>\n",
       "    </tr>\n",
       "  </thead>\n",
       "  <tbody>\n",
       "    <tr>\n",
       "      <th>0</th>\n",
       "      <td>0.034</td>\n",
       "      <td>0.509444</td>\n",
       "      <td>0.988</td>\n",
       "    </tr>\n",
       "    <tr>\n",
       "      <th>1</th>\n",
       "      <td>0.046</td>\n",
       "      <td>0.467895</td>\n",
       "      <td>0.941</td>\n",
       "    </tr>\n",
       "  </tbody>\n",
       "</table>\n",
       "</div>"
      ],
      "text/plain": [
       "          min      mean    max\n",
       "fruity                        \n",
       "0       0.034  0.509444  0.988\n",
       "1       0.046  0.467895  0.941"
      ]
     },
     "execution_count": 117,
     "metadata": {},
     "output_type": "execute_result"
    }
   ],
   "source": [
    "sugar_summary = (df.groupby('fruity').agg({'sugarpercent': ['min', 'mean', 'max']}))['sugarpercent']\n",
    "sugar_summary.head()"
   ]
  },
  {
   "cell_type": "code",
   "execution_count": 110,
   "metadata": {},
   "outputs": [],
   "source": [
    "assert type(sugar_summary) == pd.DataFrame\n",
    "assert sugar_summary.index.name == 'fruity'\n",
    "assert 'min' in sugar_summary.columns\n",
    "assert np.isclose(sugar_summary.loc[0,'min'], 0.034)"
   ]
  },
  {
   "cell_type": "code",
   "execution_count": 112,
   "metadata": {},
   "outputs": [
    {
     "data": {
      "text/plain": [
       "\"\\nQ8c: Sugar Interpretation\\nLooking at the output in Q8b, which type of candy has the higher average sugar percentile, \\nfruity candy or chocolate candy? Store your response in candy_sugar. For example, if you thought the answer was A, \\nyou would submit candy_sugar = 'A'.\\n\\nA) chocolate has higher average sugar percentile\\n\\nB) fruity candy has higher average sugar percentile\\n\\nC) chocolate and fruity have the same average sugar percentile\\n\\nD) can’t be determined\\n\""
      ]
     },
     "execution_count": 112,
     "metadata": {},
     "output_type": "execute_result"
    }
   ],
   "source": [
    "'''\n",
    "Q8c: Sugar Interpretation\n",
    "Looking at the output in Q8b, which type of candy has the higher average sugar percentile, \n",
    "fruity candy or chocolate candy? Store your response in candy_sugar. For example, if you thought the answer was A, \n",
    "you would submit candy_sugar = 'A'.\n",
    "\n",
    "A) chocolate has higher average sugar percentile\n",
    "\n",
    "B) fruity candy has higher average sugar percentile\n",
    "\n",
    "C) chocolate and fruity have the same average sugar percentile\n",
    "\n",
    "D) can’t be determined\n",
    "'''"
   ]
  },
  {
   "cell_type": "code",
   "execution_count": 119,
   "metadata": {},
   "outputs": [
    {
     "name": "stdout",
     "output_type": "stream",
     "text": [
      "D\n"
     ]
    }
   ],
   "source": [
    "try:\n",
    "    chocolate_sugar_perc = sugar_summary['chocolate'][1]\n",
    "    fruity_sugar_perc = sugar_summary['fruity'][1]\n",
    "    if chocolate_sugar_perc > fruity_sugar_perc:\n",
    "        candy_sugar = 'A'\n",
    "    elif chocolate_sugar_perc < fruity_sugar_perc:\n",
    "        candy_sugar = 'B'\n",
    "    else:\n",
    "        candy_sugar = 'C'\n",
    "except:\n",
    "    candy_sugar = 'D'\n",
    "\n",
    "print(candy_sugar)"
   ]
  },
  {
   "cell_type": "code",
   "execution_count": 120,
   "metadata": {},
   "outputs": [],
   "source": [
    "assert isinstance(candy_sugar, str)"
   ]
  },
  {
   "cell_type": "code",
   "execution_count": null,
   "metadata": {},
   "outputs": [],
   "source": []
  }
 ],
 "metadata": {
  "kernelspec": {
   "display_name": "Python 3 (ipykernel)",
   "language": "python",
   "name": "python3"
  },
  "language_info": {
   "codemirror_mode": {
    "name": "ipython",
    "version": 3
   },
   "file_extension": ".py",
   "mimetype": "text/x-python",
   "name": "python",
   "nbconvert_exporter": "python",
   "pygments_lexer": "ipython3",
   "version": "3.9.13"
  }
 },
 "nbformat": 4,
 "nbformat_minor": 4
}

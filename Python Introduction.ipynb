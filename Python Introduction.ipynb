{
  "metadata": {
    "language_info": {
      "codemirror_mode": {
        "name": "python",
        "version": 3
      },
      "file_extension": ".py",
      "mimetype": "text/x-python",
      "name": "python",
      "nbconvert_exporter": "python",
      "pygments_lexer": "ipython3",
      "version": "3.8"
    },
    "kernelspec": {
      "name": "python",
      "display_name": "Python (Pyodide)",
      "language": "python"
    }
  },
  "nbformat_minor": 4,
  "nbformat": 4,
  "cells": [
    {
      "cell_type": "code",
      "source": "'''\nQ1: Defining Variables (0.25 points)\n\nCreate the following variables:\n\na variable called my_int that stores the integer 29\n\na variable called my_float that stores the float 7.29\n\na variable called my_string that stores the string ‘COGS108’\n\na variable called my_bool that stores the boolean True\n'''",
      "metadata": {
        "trusted": true
      },
      "execution_count": 1,
      "outputs": [
        {
          "execution_count": 1,
          "output_type": "execute_result",
          "data": {
            "text/plain": "'\\nQ1: Defining Variables (0.25 points)\\n\\nCreate the following variables:\\n\\na variable called my_int that stores the integer 29\\n\\na variable called my_float that stores the float 7.29\\n\\na variable called my_string that stores the string ‘COGS108’\\n\\na variable called my_bool that stores the boolean True\\n'"
          },
          "metadata": {}
        }
      ]
    },
    {
      "cell_type": "code",
      "source": "# Create the variables\nmy_int = 29\nmy_float = 7.29\nmy_string = 'COGS108'\nmy_bool = True",
      "metadata": {
        "trusted": true
      },
      "execution_count": 2,
      "outputs": []
    },
    {
      "cell_type": "code",
      "source": "# Tests that check that each variable is of the right type\nassert isinstance(my_int, int)\nassert isinstance(my_float, float)\nassert isinstance(my_string, str)\nassert isinstance(my_bool, bool)",
      "metadata": {
        "trusted": true
      },
      "execution_count": 3,
      "outputs": []
    },
    {
      "cell_type": "code",
      "source": "'''\nQ2: Defining Variables: Lists & Tuples (0.25 points)\n\nDefine a list called var_a, that contains individual letters a-j (inclusively).\n\nDefine a tuple called var_b, that contains the numbers 1-10 (inclusively).\n'''",
      "metadata": {
        "trusted": true
      },
      "execution_count": 4,
      "outputs": [
        {
          "execution_count": 4,
          "output_type": "execute_result",
          "data": {
            "text/plain": "'\\nQ2: Defining Variables: Lists & Tuples (0.25 points)\\n\\nDefine a list called var_a, that contains individual letters a-j (inclusively).\\n\\nDefine a tuple called var_b, that contains the numbers 1-10 (inclusively).\\n'"
          },
          "metadata": {}
        }
      ]
    },
    {
      "cell_type": "code",
      "source": "var_a = ['a', 'b', 'c', 'd', 'e', 'f', 'g', 'h', 'i', 'j']\nvar_b = tuple([i for i in range(1, 11)])",
      "metadata": {
        "trusted": true
      },
      "execution_count": 5,
      "outputs": []
    },
    {
      "cell_type": "code",
      "source": "# These tests check the variables are defined\nassert var_a\nassert var_b\n\n# These tests check that the variables are the right data types\nassert isinstance(var_a, list)\nassert isinstance(var_b, tuple)\n\n# These tests check the variables have the right values\nassert var_a == ['a', 'b', 'c', 'd', 'e', 'f', 'g', 'h', 'i', 'j']\nassert var_b == (1, 2, 3, 4, 5, 6, 7, 8, 9, 10)",
      "metadata": {
        "trusted": true
      },
      "execution_count": 6,
      "outputs": []
    },
    {
      "cell_type": "code",
      "source": "'''\nQ3: Defining Variables: Dictionaries (0.5 points)\n\nCreate a Python dict called dictionary where the keys are the elements in var_a and the values are the corresponding \nelements in var_b. (Note: Use var_a and var_b you created above.)\n\nHints:\n\nThe zip function may be useful.\n\nYou might also make use of a Python dictionary comprehension.\n'''",
      "metadata": {
        "trusted": true
      },
      "execution_count": 7,
      "outputs": [
        {
          "execution_count": 7,
          "output_type": "execute_result",
          "data": {
            "text/plain": "'\\nQ3: Defining Variables: Dictionaries (0.5 points)\\n\\nCreate a Python dict called dictionary where the keys are the elements in var_a and the values are the corresponding \\nelements in var_b. (Note: Use var_a and var_b you created above.)\\n\\nHints:\\n\\nThe zip function may be useful.\\n\\nYou might also make use of a Python dictionary comprehension.\\n'"
          },
          "metadata": {}
        }
      ]
    },
    {
      "cell_type": "code",
      "source": "dictionary = {var_a[i]: var_b[i] for i in range(10)}",
      "metadata": {
        "trusted": true
      },
      "execution_count": 8,
      "outputs": []
    },
    {
      "cell_type": "code",
      "source": "assert dictionary\n\n# There are also some hidden tests that check the contents of dictionary",
      "metadata": {
        "trusted": true
      },
      "execution_count": 9,
      "outputs": []
    },
    {
      "cell_type": "code",
      "source": "'''\nQ4: Value Comparisons (0.5 points)\n\nStore values in the variables comp_val_1, comp_val_2,comp_val_3, and comp_val_4 such that the assert cell will pass \nsilently (meaning the tests will pass and not produce an error).\n'''",
      "metadata": {
        "trusted": true
      },
      "execution_count": 10,
      "outputs": [
        {
          "execution_count": 10,
          "output_type": "execute_result",
          "data": {
            "text/plain": "'\\nQ4: Value Comparisons (0.5 points)\\n\\nStore values in the variables comp_val_1, comp_val_2,comp_val_3, and comp_val_4 such that the assert cell will pass \\nsilently (meaning the tests will pass and not produce an error).\\n'"
          },
          "metadata": {}
        }
      ]
    },
    {
      "cell_type": "code",
      "source": "comp_val_1 = 5\ncomp_val_2 = 10\ncomp_val_3 = 2\ncomp_val_4 = 7",
      "metadata": {
        "trusted": true
      },
      "execution_count": 11,
      "outputs": []
    },
    {
      "cell_type": "code",
      "source": "assert comp_val_1 < comp_val_2\nassert comp_val_3 != comp_val_4\nassert comp_val_4 >= comp_val_1",
      "metadata": {
        "trusted": true
      },
      "execution_count": 12,
      "outputs": []
    },
    {
      "cell_type": "code",
      "source": "'''\nQ5: Control Flow (0.5 points)\n\nLoop through the provided list my_list. For each element, check if it is an even number. \nIf the element is an even number, append the INDEX of that element to the list inds.\n\nNote that you are adding the index to inds, not the element itself. \n(Reminder: Python uses zero-based indexing, so the index of the first element in the list is 0.)\n\nHints:\n\nTo check if a number is even, you can use the modulo % operator.\n\nTo loop through an iterable, keeping track of the index, you can use the enumerate function.\n'''",
      "metadata": {
        "trusted": true
      },
      "execution_count": 13,
      "outputs": [
        {
          "execution_count": 13,
          "output_type": "execute_result",
          "data": {
            "text/plain": "'\\nQ5: Control Flow (0.5 points)\\n\\nLoop through the provided list my_list. For each element, check if it is an even number. \\nIf the element is an even number, append the INDEX of that element to the list inds.\\n\\nNote that you are adding the index to inds, not the element itself. \\n(Reminder: Python uses zero-based indexing, so the index of the first element in the list is 0.)\\n\\nHints:\\n\\nTo check if a number is even, you can use the modulo % operator.\\n\\nTo loop through an iterable, keeping track of the index, you can use the enumerate function.\\n'"
          },
          "metadata": {}
        }
      ]
    },
    {
      "cell_type": "code",
      "source": "# These variables are provided to you.\nmy_list = [1, 2, 3, 4, 5, 6, 7, 8, 9, 10, 11, 12, 13, 14, 15]\ninds = []\n\nfor n in my_list:\n    if my_list[n-1] % 2 == 0:\n        inds.append(n-1)",
      "metadata": {
        "trusted": true
      },
      "execution_count": 14,
      "outputs": []
    },
    {
      "cell_type": "code",
      "source": "assert inds\n\n# There is also a hidden test that checks the contents of 'inds'",
      "metadata": {
        "trusted": true
      },
      "execution_count": 15,
      "outputs": []
    },
    {
      "cell_type": "code",
      "source": "'''\nQ6: Indexing (0.5 points)\n\nUsing the four lists provided in the cell below, complete the following indexing:\n\nUse forward indexing to store the second value in list_1 to index_1\n\nUse negative indexing to store the last value in list_2 to index_2\n\nStore the first three values of list_3 to index_3\n\nStore the last two values of list_4 to index_4\n'''",
      "metadata": {
        "trusted": true
      },
      "execution_count": 16,
      "outputs": [
        {
          "execution_count": 16,
          "output_type": "execute_result",
          "data": {
            "text/plain": "'\\nQ6: Indexing (0.5 points)\\n\\nUsing the four lists provided in the cell below, complete the following indexing:\\n\\nUse forward indexing to store the second value in list_1 to index_1\\n\\nUse negative indexing to store the last value in list_2 to index_2\\n\\nStore the first three values of list_3 to index_3\\n\\nStore the last two values of list_4 to index_4\\n'"
          },
          "metadata": {}
        }
      ]
    },
    {
      "cell_type": "code",
      "source": "# provided for you\nlist_1 = [10, 20, 30, 40]\nlist_2 = [13, 15, 17, 19, 21, 23]\nlist_3 = [1, 2, 3, 4, 5, 6, 7, 8, 9, 10, 11]\nlist_4 = [21, 9, 98, 289, 938]",
      "metadata": {
        "trusted": true
      },
      "execution_count": 17,
      "outputs": []
    },
    {
      "cell_type": "code",
      "source": "index_1 = list_1[1]\nindex_2 = list_2[-1]\nindex_3 = [list_3[n] for n in range(3)]\nindex_4 = [list_4[-1], list_4[-2]]",
      "metadata": {
        "trusted": true
      },
      "execution_count": 18,
      "outputs": []
    },
    {
      "cell_type": "code",
      "source": "assert isinstance(index_1, int)\nassert isinstance(index_2, int)\nassert isinstance(index_3, list)\nassert isinstance(index_4, list)",
      "metadata": {
        "trusted": true
      },
      "execution_count": 19,
      "outputs": []
    },
    {
      "cell_type": "code",
      "source": "'''\nQ7: Looping through Dictionaries (0.75 points)\n\nUsing the students dictionary provided below, write a for loop that loops across the dictionary and collects \nall subject numbers (ex. ‘S2’) where the dictionary value is False.\n\nImagine, for example, the dictionary indicates whether a student has completed an assignment, and we wanted \nto get a list of the students who had not yet completed the assignment.\n\nTo answer this question, use a for loop across the students dictionary. You then need to get the associated \nvalue in each iteration, and check if it is True. If it is True, you can use continue to skip ahead to the \nnext iteration. Otherwise, append the subject number (i.e. ‘S2’) to a list called incomplete.\n'''",
      "metadata": {
        "trusted": true
      },
      "execution_count": 20,
      "outputs": [
        {
          "execution_count": 20,
          "output_type": "execute_result",
          "data": {
            "text/plain": "'\\nQ7: Looping through Dictionaries (0.75 points)\\n\\nUsing the students dictionary provided below, write a for loop that loops across the dictionary and collects \\nall subject numbers (ex. ‘S2’) where the dictionary value is False.\\n\\nImagine, for example, the dictionary indicates whether a student has completed an assignment, and we wanted \\nto get a list of the students who had not yet completed the assignment.\\n\\nTo answer this question, use a for loop across the students dictionary. You then need to get the associated \\nvalue in each iteration, and check if it is True. If it is True, you can use continue to skip ahead to the \\nnext iteration. Otherwise, append the subject number (i.e. ‘S2’) to a list called incomplete.\\n'"
          },
          "metadata": {}
        }
      ]
    },
    {
      "cell_type": "code",
      "source": "# This dictionary provided for you\nstudents = {\n    'S1' : True,\n    'S2' : False,\n    'S3' : True,\n    'S4' : False,\n}",
      "metadata": {
        "trusted": true
      },
      "execution_count": 21,
      "outputs": []
    },
    {
      "cell_type": "code",
      "source": "incomplete = []\nfor student in students:\n    if students[student] == False:\n        incomplete.append(student)",
      "metadata": {
        "trusted": true
      },
      "execution_count": 22,
      "outputs": []
    },
    {
      "cell_type": "code",
      "source": "assert isinstance(incomplete, list)\nassert len(incomplete) == 2",
      "metadata": {
        "trusted": true
      },
      "execution_count": 23,
      "outputs": []
    },
    {
      "cell_type": "code",
      "source": "'''\nQ8: Functions I (0.5 points)\n\nWrite a function return_odd that will take a list as its input and return a list of all the odd values as its output.\n\nNote that this differs from what you did above in two ways: (1) it returns the values, not the index, and (2) it’s looking for odd values, not even.\n\nFor example:\n\n>>> return_odd([1, 2, 3])\n[1, 3]\n>>> return_odd([2, 4, 6])\n[]\n'''",
      "metadata": {
        "trusted": true
      },
      "execution_count": 24,
      "outputs": [
        {
          "execution_count": 24,
          "output_type": "execute_result",
          "data": {
            "text/plain": "'\\nQ8: Functions I (0.5 points)\\n\\nWrite a function return_odd that will take a list as its input and return a list of all the odd values as its output.\\n\\nNote that this differs from what you did above in two ways: (1) it returns the values, not the index, and (2) it’s looking for odd values, not even.\\n\\nFor example:\\n\\n>>> return_odd([1, 2, 3])\\n[1, 3]\\n>>> return_odd([2, 4, 6])\\n[]\\n'"
          },
          "metadata": {}
        }
      ]
    },
    {
      "cell_type": "code",
      "source": "def return_odd(list):\n    odd = []\n    for value in list:\n        if value % 2 != 0:\n            odd.append(value)\n    return odd",
      "metadata": {
        "trusted": true
      },
      "execution_count": 25,
      "outputs": []
    },
    {
      "cell_type": "code",
      "source": "assert return_odd([2, 4, 6]) == []\nassert return_odd([1, 2, 3]) == [1,3]",
      "metadata": {
        "trusted": true
      },
      "execution_count": 26,
      "outputs": []
    },
    {
      "cell_type": "code",
      "source": "'''\nQ9: Functions II (0.5 points)\n\nWrite a function squared_diff that takes two number inputs and returns the squared difference of the two numbers i.e., \n(a−b)2. For example:\n\n>>> squared_diff(2, 4)\n4\n>>> squared_diff(10, 1)\n81\n'''",
      "metadata": {
        "trusted": true
      },
      "execution_count": 27,
      "outputs": [
        {
          "execution_count": 27,
          "output_type": "execute_result",
          "data": {
            "text/plain": "'\\nQ9: Functions II (0.5 points)\\n\\nWrite a function squared_diff that takes two number inputs and returns the squared difference of the two numbers i.e., \\n(a−b)2. For example:\\n\\n>>> squared_diff(2, 4)\\n4\\n>>> squared_diff(10, 1)\\n81\\n'"
          },
          "metadata": {}
        }
      ]
    },
    {
      "cell_type": "code",
      "source": "def squared_diff(x, y):\n    return (x - y)**2",
      "metadata": {
        "trusted": true
      },
      "execution_count": 28,
      "outputs": []
    },
    {
      "cell_type": "code",
      "source": "assert squared_diff(2, 4) == 4\nassert squared_diff(10, 1) == 81\n\n# There are also hidden tests that check more cases of squared_diff",
      "metadata": {
        "trusted": true
      },
      "execution_count": 29,
      "outputs": []
    },
    {
      "cell_type": "code",
      "source": "'''\nQ10: Putting it all together (0.75 points)\n\nHere, we’ll update the values in dictionary, storing the output in a dictionary called other_dictionary. \nThis new dictionary will have the same keys, but some values will be updated.\n\nThe values in other_dictionary should be updated, such that if the value in the original dictionary is…\n\nodd: update the the value stored in the dictionary to store the squared difference of the original value and ‘10’. \nRemember, you created a function to do this above.)\n\neven: store the original value (from dictionary).\n\nHints:\n\nto loop through key-value pairs in a dictionary, check out the .items method\n\nYou created a squared_diff function above.\n'''",
      "metadata": {
        "trusted": true
      },
      "execution_count": 30,
      "outputs": [
        {
          "execution_count": 30,
          "output_type": "execute_result",
          "data": {
            "text/plain": "'\\nQ10: Putting it all together (0.75 points)\\n\\nHere, we’ll update the values in dictionary, storing the output in a dictionary called other_dictionary. \\nThis new dictionary will have the same keys, but some values will be updated.\\n\\nThe values in other_dictionary should be updated, such that if the value in the original dictionary is…\\n\\nodd: update the the value stored in the dictionary to store the squared difference of the original value and ‘10’. \\nRemember, you created a function to do this above.)\\n\\neven: store the original value (from dictionary).\\n\\nHints:\\n\\nto loop through key-value pairs in a dictionary, check out the .items method\\n\\nYou created a squared_diff function above.\\n'"
          },
          "metadata": {}
        }
      ]
    },
    {
      "cell_type": "code",
      "source": "# run this cell to remind yourself what is stored in `dictionary`\ndictionary.items()",
      "metadata": {
        "trusted": true
      },
      "execution_count": 31,
      "outputs": [
        {
          "execution_count": 31,
          "output_type": "execute_result",
          "data": {
            "text/plain": "dict_items([('a', 1), ('b', 2), ('c', 3), ('d', 4), ('e', 5), ('f', 6), ('g', 7), ('h', 8), ('i', 9), ('j', 10)])"
          },
          "metadata": {}
        }
      ]
    },
    {
      "cell_type": "code",
      "source": "other_dictionary = {}\nvalues = []\nfor key in dictionary:\n    values.append(dictionary[key])\nodd = return_odd(values)\nfor key in dictionary:\n    if dictionary[key] in odd:\n        other_dictionary[key] = squared_diff(dictionary[key], 10)\n    else:\n        other_dictionary[key] = dictionary[key]",
      "metadata": {
        "trusted": true
      },
      "execution_count": 32,
      "outputs": []
    },
    {
      "cell_type": "code",
      "source": "assert other_dictionary\n\n# There are hidden tests that check the contents of 'other_dictionary'.",
      "metadata": {
        "trusted": true
      },
      "execution_count": 33,
      "outputs": []
    },
    {
      "cell_type": "code",
      "source": "",
      "metadata": {},
      "execution_count": null,
      "outputs": []
    }
  ]
}
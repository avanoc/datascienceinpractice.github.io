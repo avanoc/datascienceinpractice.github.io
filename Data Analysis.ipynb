{
 "cells": [
  {
   "cell_type": "code",
   "execution_count": 1,
   "metadata": {},
   "outputs": [
    {
     "name": "stdout",
     "output_type": "stream",
     "text": [
      "Requirement already satisfied: seaborn in /Users/solavancininoceti/opt/anaconda3/lib/python3.9/site-packages (0.11.2)\n",
      "Requirement already satisfied: matplotlib>=2.2 in /Users/solavancininoceti/opt/anaconda3/lib/python3.9/site-packages (from seaborn) (3.5.2)\n",
      "Requirement already satisfied: numpy>=1.15 in /Users/solavancininoceti/opt/anaconda3/lib/python3.9/site-packages (from seaborn) (1.21.5)\n",
      "Requirement already satisfied: scipy>=1.0 in /Users/solavancininoceti/opt/anaconda3/lib/python3.9/site-packages (from seaborn) (1.9.1)\n",
      "Requirement already satisfied: pandas>=0.23 in /Users/solavancininoceti/opt/anaconda3/lib/python3.9/site-packages (from seaborn) (1.4.4)\n",
      "Requirement already satisfied: pyparsing>=2.2.1 in /Users/solavancininoceti/opt/anaconda3/lib/python3.9/site-packages (from matplotlib>=2.2->seaborn) (3.0.9)\n",
      "Requirement already satisfied: cycler>=0.10 in /Users/solavancininoceti/opt/anaconda3/lib/python3.9/site-packages (from matplotlib>=2.2->seaborn) (0.11.0)\n",
      "Requirement already satisfied: packaging>=20.0 in /Users/solavancininoceti/opt/anaconda3/lib/python3.9/site-packages (from matplotlib>=2.2->seaborn) (21.3)\n",
      "Requirement already satisfied: pillow>=6.2.0 in /Users/solavancininoceti/opt/anaconda3/lib/python3.9/site-packages (from matplotlib>=2.2->seaborn) (9.2.0)\n",
      "Requirement already satisfied: fonttools>=4.22.0 in /Users/solavancininoceti/opt/anaconda3/lib/python3.9/site-packages (from matplotlib>=2.2->seaborn) (4.25.0)\n",
      "Requirement already satisfied: python-dateutil>=2.7 in /Users/solavancininoceti/opt/anaconda3/lib/python3.9/site-packages (from matplotlib>=2.2->seaborn) (2.8.2)\n",
      "Requirement already satisfied: kiwisolver>=1.0.1 in /Users/solavancininoceti/opt/anaconda3/lib/python3.9/site-packages (from matplotlib>=2.2->seaborn) (1.4.2)\n",
      "Requirement already satisfied: pytz>=2020.1 in /Users/solavancininoceti/opt/anaconda3/lib/python3.9/site-packages (from pandas>=0.23->seaborn) (2022.1)\n",
      "Requirement already satisfied: six>=1.5 in /Users/solavancininoceti/opt/anaconda3/lib/python3.9/site-packages (from python-dateutil>=2.7->matplotlib>=2.2->seaborn) (1.16.0)\n"
     ]
    }
   ],
   "source": [
    "!pip install seaborn"
   ]
  },
  {
   "cell_type": "code",
   "execution_count": 2,
   "metadata": {},
   "outputs": [],
   "source": [
    "# Imports \n",
    "%matplotlib inline\n",
    "\n",
    "import numpy as np\n",
    "import pandas as pd\n",
    "import matplotlib.pyplot as plt\n",
    "\n",
    "import seaborn as sns\n",
    "sns.set()\n",
    "sns.set_context('talk')\n",
    "\n",
    "import warnings\n",
    "warnings.filterwarnings('ignore')\n",
    "\n",
    "import patsy\n",
    "import statsmodels.api as sm\n",
    "import scipy.stats as stats\n",
    "from scipy.stats import ttest_ind, chisquare, normaltest\n",
    "# Note: the statsmodels import may print out a 'FutureWarning'. Thats fine."
   ]
  },
  {
   "cell_type": "code",
   "execution_count": 3,
   "metadata": {},
   "outputs": [
    {
     "data": {
      "text/plain": [
       "'\\nDownloading Data\\nView and download these files from https://github.com/DataScienceInPractice/Data/blob/main/A5/COGS108_IntroQuestionnaireData.csv.\\n'"
      ]
     },
     "execution_count": 3,
     "metadata": {},
     "output_type": "execute_result"
    }
   ],
   "source": [
    "'''\n",
    "Downloading Data\n",
    "View and download these files from https://github.com/DataScienceInPractice/Data/blob/main/A5/COGS108_IntroQuestionnaireData.csv.\n",
    "'''"
   ]
  },
  {
   "cell_type": "code",
   "execution_count": 4,
   "metadata": {},
   "outputs": [
    {
     "data": {
      "text/plain": [
       "'\\nSetup\\nData: the responses collected from a previous survery of the COGS 108 class.\\n\\nThere are 416 observations in the data, covering 10 different ‘features’.\\n\\nResearch Question: Do students in different majors have different heights?\\n\\nBackground: Physical height has previously shown to correlate with career choice, and career success. \\nMore recently it has been demonstrated that these correlations can actually be explained by height in high school, \\nas opposed to height in adulthood (1). It is currently unclear whether height correlates with choice of major in university.\\n\\nReference: 1) https://www.sas.upenn.edu/~apostlew/paper/pdf/short.pdf\\n\\nHypothesis: We hypothesize that there will be a relation between height and chosen major.\\n\\nPart 1: Load & Clean the Data (2.95 points)\\nFixing messy data makes up a large amount of the work of being a Data Scientist.\\n\\nThe real world produces messy measurements and it is your job to find ways to standardize your data such \\nthat you can make useful analyses out of it.\\n\\nIn this section, you will learn, and practice, how to successfully deal with unclean data.\\n\\n1a) Load the data\\nImport datafile COGS108_IntroQuestionnaireData.csv into a DataFrame called df.\\n'"
      ]
     },
     "execution_count": 4,
     "metadata": {},
     "output_type": "execute_result"
    }
   ],
   "source": [
    "'''\n",
    "Setup\n",
    "Data: the responses collected from a previous survery of the COGS 108 class.\n",
    "\n",
    "There are 416 observations in the data, covering 10 different ‘features’.\n",
    "\n",
    "Research Question: Do students in different majors have different heights?\n",
    "\n",
    "Background: Physical height has previously shown to correlate with career choice, and career success. \n",
    "More recently it has been demonstrated that these correlations can actually be explained by height in high school, \n",
    "as opposed to height in adulthood (1). It is currently unclear whether height correlates with choice of major in university.\n",
    "\n",
    "Reference: 1) https://www.sas.upenn.edu/~apostlew/paper/pdf/short.pdf\n",
    "\n",
    "Hypothesis: We hypothesize that there will be a relation between height and chosen major.\n",
    "\n",
    "Part 1: Load & Clean the Data (2.95 points)\n",
    "Fixing messy data makes up a large amount of the work of being a Data Scientist.\n",
    "\n",
    "The real world produces messy measurements and it is your job to find ways to standardize your data such \n",
    "that you can make useful analyses out of it.\n",
    "\n",
    "In this section, you will learn, and practice, how to successfully deal with unclean data.\n",
    "\n",
    "1a) Load the data\n",
    "Import datafile COGS108_IntroQuestionnaireData.csv into a DataFrame called df.\n",
    "'''"
   ]
  },
  {
   "cell_type": "code",
   "execution_count": 5,
   "metadata": {},
   "outputs": [],
   "source": [
    "df = pd.read_csv('COGS108_IntroQuestionnaireData.csv')"
   ]
  },
  {
   "cell_type": "code",
   "execution_count": 6,
   "metadata": {},
   "outputs": [],
   "source": [
    "assert isinstance(df, pd.DataFrame)"
   ]
  },
  {
   "cell_type": "code",
   "execution_count": 7,
   "metadata": {},
   "outputs": [
    {
     "data": {
      "text/html": [
       "<div>\n",
       "<style scoped>\n",
       "    .dataframe tbody tr th:only-of-type {\n",
       "        vertical-align: middle;\n",
       "    }\n",
       "\n",
       "    .dataframe tbody tr th {\n",
       "        vertical-align: top;\n",
       "    }\n",
       "\n",
       "    .dataframe thead th {\n",
       "        text-align: right;\n",
       "    }\n",
       "</style>\n",
       "<table border=\"1\" class=\"dataframe\">\n",
       "  <thead>\n",
       "    <tr style=\"text-align: right;\">\n",
       "      <th></th>\n",
       "      <th>Timestamp</th>\n",
       "      <th>What year (in school) are you?</th>\n",
       "      <th>What is your major?</th>\n",
       "      <th>How old are you?</th>\n",
       "      <th>What is your gender?</th>\n",
       "      <th>What is your height?</th>\n",
       "      <th>What is your weight?</th>\n",
       "      <th>What is your eye color?</th>\n",
       "      <th>Were you born in California?</th>\n",
       "      <th>What is your favorite flavor of ice cream?</th>\n",
       "    </tr>\n",
       "  </thead>\n",
       "  <tbody>\n",
       "    <tr>\n",
       "      <th>0</th>\n",
       "      <td>1/9/18 14:49</td>\n",
       "      <td>4</td>\n",
       "      <td>Cognitive Science</td>\n",
       "      <td>21.0</td>\n",
       "      <td>Male</td>\n",
       "      <td>5'8\"</td>\n",
       "      <td>147</td>\n",
       "      <td>Brown</td>\n",
       "      <td>Yes</td>\n",
       "      <td>Vanilla</td>\n",
       "    </tr>\n",
       "    <tr>\n",
       "      <th>1</th>\n",
       "      <td>1/9/18 14:49</td>\n",
       "      <td>3</td>\n",
       "      <td>Cognitive Science</td>\n",
       "      <td>20.0</td>\n",
       "      <td>Male</td>\n",
       "      <td>5'8</td>\n",
       "      <td>150</td>\n",
       "      <td>Brown</td>\n",
       "      <td>Yes</td>\n",
       "      <td>Cookies and Cream</td>\n",
       "    </tr>\n",
       "    <tr>\n",
       "      <th>2</th>\n",
       "      <td>1/9/18 14:49</td>\n",
       "      <td>Third</td>\n",
       "      <td>Computer Science</td>\n",
       "      <td>21.0</td>\n",
       "      <td>Male</td>\n",
       "      <td>181cm</td>\n",
       "      <td>74kg</td>\n",
       "      <td>Black</td>\n",
       "      <td>Yes</td>\n",
       "      <td>Matcha</td>\n",
       "    </tr>\n",
       "    <tr>\n",
       "      <th>3</th>\n",
       "      <td>1/9/18 14:49</td>\n",
       "      <td>2</td>\n",
       "      <td>Cogs HCI</td>\n",
       "      <td>20.0</td>\n",
       "      <td>Male</td>\n",
       "      <td>5’8</td>\n",
       "      <td>133</td>\n",
       "      <td>Brown</td>\n",
       "      <td>Yes</td>\n",
       "      <td>Cookies and Cream</td>\n",
       "    </tr>\n",
       "    <tr>\n",
       "      <th>4</th>\n",
       "      <td>1/9/18 14:49</td>\n",
       "      <td>3</td>\n",
       "      <td>Computer Science</td>\n",
       "      <td>20.0</td>\n",
       "      <td>Male</td>\n",
       "      <td>5'10\"</td>\n",
       "      <td>160</td>\n",
       "      <td>Brown</td>\n",
       "      <td>Yes</td>\n",
       "      <td>Cookies n' Cream</td>\n",
       "    </tr>\n",
       "  </tbody>\n",
       "</table>\n",
       "</div>"
      ],
      "text/plain": [
       "      Timestamp What year (in school) are you? What is your major?  \\\n",
       "0  1/9/18 14:49                              4   Cognitive Science   \n",
       "1  1/9/18 14:49                              3   Cognitive Science   \n",
       "2  1/9/18 14:49                          Third    Computer Science   \n",
       "3  1/9/18 14:49                              2            Cogs HCI   \n",
       "4  1/9/18 14:49                              3    Computer Science   \n",
       "\n",
       "   How old are you? What is your gender? What is your height?  \\\n",
       "0              21.0                 Male                 5'8\"   \n",
       "1              20.0                 Male                  5'8   \n",
       "2              21.0                 Male                181cm   \n",
       "3              20.0                 Male                  5’8   \n",
       "4              20.0                 Male                5'10\"   \n",
       "\n",
       "  What is your weight? What is your eye color? Were you born in California?  \\\n",
       "0                  147                   Brown                          Yes   \n",
       "1                  150                   Brown                          Yes   \n",
       "2                 74kg                   Black                          Yes   \n",
       "3                  133                   Brown                          Yes   \n",
       "4                  160                   Brown                          Yes   \n",
       "\n",
       "  What is your favorite flavor of ice cream?  \n",
       "0                                    Vanilla  \n",
       "1                          Cookies and Cream  \n",
       "2                                     Matcha  \n",
       "3                          Cookies and Cream  \n",
       "4                           Cookies n' Cream  "
      ]
     },
     "execution_count": 7,
     "metadata": {},
     "output_type": "execute_result"
    }
   ],
   "source": [
    "# Check out the data\n",
    "df.head(5)"
   ]
  },
  {
   "cell_type": "code",
   "execution_count": 8,
   "metadata": {},
   "outputs": [],
   "source": [
    "# Those column names are a bit excessive, so first let’s rename them - code provided below to do so.\n",
    "df.columns = ['timestamp', 'year', 'major', 'age', 'gender', 'height',\n",
    "              'weight', 'eye_color', 'born_in_CA', 'favorite_icecream']"
   ]
  },
  {
   "cell_type": "code",
   "execution_count": 9,
   "metadata": {},
   "outputs": [
    {
     "data": {
      "text/plain": [
       "'\\npandas has a very useful function for detecting missing data. This function is called isnull().\\n\\nIf you have a dataframe called df, then calling df.isnull() will return another dataframe of the same size \\nas df where every cell is either True of False.\\n\\nEach True or False is the answer to the question ‘is the data in this cell null?’. \\nSo, False, means the cell is not null (and therefore, does have data). True means the cell is null (does not have data).\\n\\nThis function is very useful because it allows us to find missing data very quickly in our dataframe. \\nAs an example, consider the code below.\\n'"
      ]
     },
     "execution_count": 9,
     "metadata": {},
     "output_type": "execute_result"
    }
   ],
   "source": [
    "'''\n",
    "pandas has a very useful function for detecting missing data. This function is called isnull().\n",
    "\n",
    "If you have a dataframe called df, then calling df.isnull() will return another dataframe of the same size \n",
    "as df where every cell is either True of False.\n",
    "\n",
    "Each True or False is the answer to the question ‘is the data in this cell null?’. \n",
    "So, False, means the cell is not null (and therefore, does have data). True means the cell is null (does not have data).\n",
    "\n",
    "This function is very useful because it allows us to find missing data very quickly in our dataframe. \n",
    "As an example, consider the code below.\n",
    "'''"
   ]
  },
  {
   "cell_type": "code",
   "execution_count": 10,
   "metadata": {},
   "outputs": [
    {
     "data": {
      "text/html": [
       "<div>\n",
       "<style scoped>\n",
       "    .dataframe tbody tr th:only-of-type {\n",
       "        vertical-align: middle;\n",
       "    }\n",
       "\n",
       "    .dataframe tbody tr th {\n",
       "        vertical-align: top;\n",
       "    }\n",
       "\n",
       "    .dataframe thead th {\n",
       "        text-align: right;\n",
       "    }\n",
       "</style>\n",
       "<table border=\"1\" class=\"dataframe\">\n",
       "  <thead>\n",
       "    <tr style=\"text-align: right;\">\n",
       "      <th></th>\n",
       "      <th>timestamp</th>\n",
       "      <th>year</th>\n",
       "      <th>major</th>\n",
       "      <th>age</th>\n",
       "      <th>gender</th>\n",
       "      <th>height</th>\n",
       "      <th>weight</th>\n",
       "      <th>eye_color</th>\n",
       "      <th>born_in_CA</th>\n",
       "      <th>favorite_icecream</th>\n",
       "    </tr>\n",
       "  </thead>\n",
       "  <tbody>\n",
       "    <tr>\n",
       "      <th>0</th>\n",
       "      <td>False</td>\n",
       "      <td>False</td>\n",
       "      <td>False</td>\n",
       "      <td>False</td>\n",
       "      <td>False</td>\n",
       "      <td>False</td>\n",
       "      <td>False</td>\n",
       "      <td>False</td>\n",
       "      <td>False</td>\n",
       "      <td>False</td>\n",
       "    </tr>\n",
       "    <tr>\n",
       "      <th>1</th>\n",
       "      <td>False</td>\n",
       "      <td>False</td>\n",
       "      <td>False</td>\n",
       "      <td>False</td>\n",
       "      <td>False</td>\n",
       "      <td>False</td>\n",
       "      <td>False</td>\n",
       "      <td>False</td>\n",
       "      <td>False</td>\n",
       "      <td>False</td>\n",
       "    </tr>\n",
       "    <tr>\n",
       "      <th>2</th>\n",
       "      <td>False</td>\n",
       "      <td>False</td>\n",
       "      <td>False</td>\n",
       "      <td>False</td>\n",
       "      <td>False</td>\n",
       "      <td>False</td>\n",
       "      <td>False</td>\n",
       "      <td>False</td>\n",
       "      <td>False</td>\n",
       "      <td>False</td>\n",
       "    </tr>\n",
       "    <tr>\n",
       "      <th>3</th>\n",
       "      <td>False</td>\n",
       "      <td>False</td>\n",
       "      <td>False</td>\n",
       "      <td>False</td>\n",
       "      <td>False</td>\n",
       "      <td>False</td>\n",
       "      <td>False</td>\n",
       "      <td>False</td>\n",
       "      <td>False</td>\n",
       "      <td>False</td>\n",
       "    </tr>\n",
       "    <tr>\n",
       "      <th>4</th>\n",
       "      <td>False</td>\n",
       "      <td>False</td>\n",
       "      <td>False</td>\n",
       "      <td>False</td>\n",
       "      <td>False</td>\n",
       "      <td>False</td>\n",
       "      <td>False</td>\n",
       "      <td>False</td>\n",
       "      <td>False</td>\n",
       "      <td>False</td>\n",
       "    </tr>\n",
       "  </tbody>\n",
       "</table>\n",
       "</div>"
      ],
      "text/plain": [
       "   timestamp   year  major    age  gender  height  weight  eye_color  \\\n",
       "0      False  False  False  False   False   False   False      False   \n",
       "1      False  False  False  False   False   False   False      False   \n",
       "2      False  False  False  False   False   False   False      False   \n",
       "3      False  False  False  False   False   False   False      False   \n",
       "4      False  False  False  False   False   False   False      False   \n",
       "\n",
       "   born_in_CA  favorite_icecream  \n",
       "0       False              False  \n",
       "1       False              False  \n",
       "2       False              False  \n",
       "3       False              False  \n",
       "4       False              False  "
      ]
     },
     "execution_count": 10,
     "metadata": {},
     "output_type": "execute_result"
    }
   ],
   "source": [
    "# Check the first few rows of the 'isnull' dataframe\n",
    "df.isnull().head(5)"
   ]
  },
  {
   "cell_type": "code",
   "execution_count": 11,
   "metadata": {},
   "outputs": [
    {
     "data": {
      "text/html": [
       "<div>\n",
       "<style scoped>\n",
       "    .dataframe tbody tr th:only-of-type {\n",
       "        vertical-align: middle;\n",
       "    }\n",
       "\n",
       "    .dataframe tbody tr th {\n",
       "        vertical-align: top;\n",
       "    }\n",
       "\n",
       "    .dataframe thead th {\n",
       "        text-align: right;\n",
       "    }\n",
       "</style>\n",
       "<table border=\"1\" class=\"dataframe\">\n",
       "  <thead>\n",
       "    <tr style=\"text-align: right;\">\n",
       "      <th></th>\n",
       "      <th>timestamp</th>\n",
       "      <th>year</th>\n",
       "      <th>major</th>\n",
       "      <th>age</th>\n",
       "      <th>gender</th>\n",
       "      <th>height</th>\n",
       "      <th>weight</th>\n",
       "      <th>eye_color</th>\n",
       "      <th>born_in_CA</th>\n",
       "      <th>favorite_icecream</th>\n",
       "    </tr>\n",
       "  </thead>\n",
       "  <tbody>\n",
       "    <tr>\n",
       "      <th>48</th>\n",
       "      <td>False</td>\n",
       "      <td>False</td>\n",
       "      <td>False</td>\n",
       "      <td>False</td>\n",
       "      <td>False</td>\n",
       "      <td>False</td>\n",
       "      <td>False</td>\n",
       "      <td>False</td>\n",
       "      <td>False</td>\n",
       "      <td>False</td>\n",
       "    </tr>\n",
       "    <tr>\n",
       "      <th>49</th>\n",
       "      <td>False</td>\n",
       "      <td>True</td>\n",
       "      <td>False</td>\n",
       "      <td>False</td>\n",
       "      <td>False</td>\n",
       "      <td>True</td>\n",
       "      <td>True</td>\n",
       "      <td>False</td>\n",
       "      <td>False</td>\n",
       "      <td>False</td>\n",
       "    </tr>\n",
       "  </tbody>\n",
       "</table>\n",
       "</div>"
      ],
      "text/plain": [
       "    timestamp   year  major    age  gender  height  weight  eye_color  \\\n",
       "48      False  False  False  False   False   False   False      False   \n",
       "49      False   True  False  False   False    True    True      False   \n",
       "\n",
       "    born_in_CA  favorite_icecream  \n",
       "48       False              False  \n",
       "49       False              False  "
      ]
     },
     "execution_count": 11,
     "metadata": {},
     "output_type": "execute_result"
    }
   ],
   "source": [
    "# If you print out more, and scroll down, you’ll see some rows with missing data.\n",
    "# For example:\n",
    "df.isnull().iloc[48:50, :]"
   ]
  },
  {
   "cell_type": "code",
   "execution_count": 12,
   "metadata": {},
   "outputs": [
    {
     "data": {
      "text/plain": [
       "timestamp            1/9/18 14:50\n",
       "year                          NaN\n",
       "major                     Cog Sci\n",
       "age                          21.0\n",
       "gender                     Female\n",
       "height                        NaN\n",
       "weight                        NaN\n",
       "eye_color                   Brown\n",
       "born_in_CA                    Yes\n",
       "favorite_icecream       Chocolate\n",
       "Name: 49, dtype: object"
      ]
     },
     "execution_count": 12,
     "metadata": {},
     "output_type": "execute_result"
    }
   ],
   "source": [
    "# Check an example, row 49, in which an entry has missing data:\n",
    "df.iloc[49, :]"
   ]
  },
  {
   "cell_type": "code",
   "execution_count": 13,
   "metadata": {},
   "outputs": [
    {
     "data": {
      "text/plain": [
       "'\\nGranted, the example above is not very informative. As you can see, the output of isnull() is a dataframe \\nwhere the values at each cell is either True or False. Most cells have the value of False. \\nWe expect this to be the case since most people gave out answers to each question in our survey.\\n\\nHowever, some rows such as row 49 show that some people chose not to answer certain questions. \\nIn the case of row 49, it seems that someone did not give out an answer for ‘What year (in school) are you?’\\n\\nHowever, what if we wanted to use isnull() to see all rows where our dataframe df has missing values? \\nIn other words, what if we want to see the ACTUAL rows with missing values instead of this dataframe with True or False cells. \\nFor that, we need to write the following line of code:\\n\\n'"
      ]
     },
     "execution_count": 13,
     "metadata": {},
     "output_type": "execute_result"
    }
   ],
   "source": [
    "'''\n",
    "Granted, the example above is not very informative. As you can see, the output of isnull() is a dataframe \n",
    "where the values at each cell is either True or False. Most cells have the value of False. \n",
    "We expect this to be the case since most people gave out answers to each question in our survey.\n",
    "\n",
    "However, some rows such as row 49 show that some people chose not to answer certain questions. \n",
    "In the case of row 49, it seems that someone did not give out an answer for ‘What year (in school) are you?’\n",
    "\n",
    "However, what if we wanted to use isnull() to see all rows where our dataframe df has missing values? \n",
    "In other words, what if we want to see the ACTUAL rows with missing values instead of this dataframe with True or False cells. \n",
    "For that, we need to write the following line of code:\n",
    "\n",
    "'''"
   ]
  },
  {
   "cell_type": "code",
   "execution_count": 14,
   "metadata": {},
   "outputs": [
    {
     "data": {
      "text/plain": [
       "'\\n1b) Find missing data\\nFind all rows that have missing data in them.\\n\\nSave the ouput, as a dataframe, into a variable called rows_to_drop.\\n\\nIn other words, copy over and use the line of code that we gave out in the cell above.\\n'"
      ]
     },
     "execution_count": 14,
     "metadata": {},
     "output_type": "execute_result"
    }
   ],
   "source": [
    "'''\n",
    "1b) Find missing data\n",
    "Find all rows that have missing data in them.\n",
    "\n",
    "Save the ouput, as a dataframe, into a variable called rows_to_drop.\n",
    "\n",
    "In other words, copy over and use the line of code that we gave out in the cell above.\n",
    "'''"
   ]
  },
  {
   "cell_type": "code",
   "execution_count": 15,
   "metadata": {},
   "outputs": [],
   "source": [
    "rows_to_drop = df[df.isnull().any(axis=1)]"
   ]
  },
  {
   "cell_type": "code",
   "execution_count": 16,
   "metadata": {},
   "outputs": [
    {
     "data": {
      "text/plain": [
       "(29, 10)"
      ]
     },
     "execution_count": 16,
     "metadata": {},
     "output_type": "execute_result"
    }
   ],
   "source": [
    "# check output\n",
    "rows_to_drop.shape"
   ]
  },
  {
   "cell_type": "code",
   "execution_count": 17,
   "metadata": {},
   "outputs": [],
   "source": [
    "assert isinstance(rows_to_drop, pd.DataFrame)\n",
    "assert rows_to_drop.shape == (29, 10)"
   ]
  },
  {
   "cell_type": "code",
   "execution_count": 18,
   "metadata": {},
   "outputs": [
    {
     "data": {
      "text/plain": [
       "\"\\nIn the cell below, briefly explain below how df[df.isnull().any(axis=1)] works, in a couple sentences.\\n\\nInclude an explanation of what any(axis=1) means and how it affects the code.\\n\\n***YOUR ANSWER HERE***\\nLet's break df[df.isnull().any(axis=1)] down:\\n    df.isnull(): iterates through the dataframe checking if the content of each cell is null.\\n    any(axis=1): axis=1 indicates any() to iterate through the rows.\\n                 Any() returns True if the content of at least one of the cells in the row is True.\\nSo df[df.isnull().any(axis=1)] will store in a new df the rows where any of the cells are empty.\\n***\\n\\nRun the following cell and look at its output, but you don’t need to add any code here.\\n\\nReal world data are messy. As an example of it, we consider the data shown in rows_to_drop (below).\\n\\nIf you’ve done everything correctly so far, you should see an unexpected response with emojis at index 357. \\nThese types of responses, although funny, are hard to parse when dealing with big datasets.\\n\\nWe’ll learn about solutions to these types of problems in the upcoming cells.\\n\""
      ]
     },
     "execution_count": 18,
     "metadata": {},
     "output_type": "execute_result"
    }
   ],
   "source": [
    "'''\n",
    "In the cell below, briefly explain below how df[df.isnull().any(axis=1)] works, in a couple sentences.\n",
    "\n",
    "Include an explanation of what any(axis=1) means and how it affects the code.\n",
    "\n",
    "***YOUR ANSWER HERE***\n",
    "Let's break df[df.isnull().any(axis=1)] down:\n",
    "    df.isnull(): iterates through the dataframe checking if the content of each cell is null.\n",
    "    any(axis=1): axis=1 indicates any() to iterate through the rows.\n",
    "                 Any() returns True if the content of at least one of the cells in the row is True.\n",
    "So df[df.isnull().any(axis=1)] will store in a new df the rows where any of the cells are empty.\n",
    "***\n",
    "\n",
    "Run the following cell and look at its output, but you don’t need to add any code here.\n",
    "\n",
    "Real world data are messy. As an example of it, we consider the data shown in rows_to_drop (below).\n",
    "\n",
    "If you’ve done everything correctly so far, you should see an unexpected response with emojis at index 357. \n",
    "These types of responses, although funny, are hard to parse when dealing with big datasets.\n",
    "\n",
    "We’ll learn about solutions to these types of problems in the upcoming cells.\n",
    "'''"
   ]
  },
  {
   "cell_type": "code",
   "execution_count": 19,
   "metadata": {},
   "outputs": [
    {
     "data": {
      "text/html": [
       "<div>\n",
       "<style scoped>\n",
       "    .dataframe tbody tr th:only-of-type {\n",
       "        vertical-align: middle;\n",
       "    }\n",
       "\n",
       "    .dataframe tbody tr th {\n",
       "        vertical-align: top;\n",
       "    }\n",
       "\n",
       "    .dataframe thead th {\n",
       "        text-align: right;\n",
       "    }\n",
       "</style>\n",
       "<table border=\"1\" class=\"dataframe\">\n",
       "  <thead>\n",
       "    <tr style=\"text-align: right;\">\n",
       "      <th></th>\n",
       "      <th>timestamp</th>\n",
       "      <th>year</th>\n",
       "      <th>major</th>\n",
       "      <th>age</th>\n",
       "      <th>gender</th>\n",
       "      <th>height</th>\n",
       "      <th>weight</th>\n",
       "      <th>eye_color</th>\n",
       "      <th>born_in_CA</th>\n",
       "      <th>favorite_icecream</th>\n",
       "    </tr>\n",
       "  </thead>\n",
       "  <tbody>\n",
       "    <tr>\n",
       "      <th>29</th>\n",
       "      <td>1/9/18 14:50</td>\n",
       "      <td>senior</td>\n",
       "      <td>math&amp;econ</td>\n",
       "      <td>20.0</td>\n",
       "      <td>female</td>\n",
       "      <td>170</td>\n",
       "      <td>130</td>\n",
       "      <td>black</td>\n",
       "      <td>No</td>\n",
       "      <td>NaN</td>\n",
       "    </tr>\n",
       "    <tr>\n",
       "      <th>38</th>\n",
       "      <td>1/9/18 14:50</td>\n",
       "      <td>3rd</td>\n",
       "      <td>Computer Engineering</td>\n",
       "      <td>21.0</td>\n",
       "      <td>Female</td>\n",
       "      <td>NaN</td>\n",
       "      <td>NaN</td>\n",
       "      <td>Brown</td>\n",
       "      <td>No</td>\n",
       "      <td>NaN</td>\n",
       "    </tr>\n",
       "    <tr>\n",
       "      <th>49</th>\n",
       "      <td>1/9/18 14:50</td>\n",
       "      <td>NaN</td>\n",
       "      <td>Cog Sci</td>\n",
       "      <td>21.0</td>\n",
       "      <td>Female</td>\n",
       "      <td>NaN</td>\n",
       "      <td>NaN</td>\n",
       "      <td>Brown</td>\n",
       "      <td>Yes</td>\n",
       "      <td>Chocolate</td>\n",
       "    </tr>\n",
       "    <tr>\n",
       "      <th>58</th>\n",
       "      <td>1/9/18 14:50</td>\n",
       "      <td>3rd</td>\n",
       "      <td>Computer Science</td>\n",
       "      <td>20.0</td>\n",
       "      <td>Female</td>\n",
       "      <td>5ft 2in</td>\n",
       "      <td>NaN</td>\n",
       "      <td>brown</td>\n",
       "      <td>No</td>\n",
       "      <td>cookies and cream</td>\n",
       "    </tr>\n",
       "    <tr>\n",
       "      <th>66</th>\n",
       "      <td>1/9/18 14:50</td>\n",
       "      <td>Sophomore</td>\n",
       "      <td>Cognitive Science - Design and Interaction</td>\n",
       "      <td>19.0</td>\n",
       "      <td>Female</td>\n",
       "      <td>5'5</td>\n",
       "      <td>NaN</td>\n",
       "      <td>Brown</td>\n",
       "      <td>No</td>\n",
       "      <td>Chubby hubby ben and jerrys</td>\n",
       "    </tr>\n",
       "    <tr>\n",
       "      <th>67</th>\n",
       "      <td>1/9/18 14:50</td>\n",
       "      <td>2</td>\n",
       "      <td>Computer Science</td>\n",
       "      <td>19.0</td>\n",
       "      <td>Male</td>\n",
       "      <td>NaN</td>\n",
       "      <td>170</td>\n",
       "      <td>Brown</td>\n",
       "      <td>Yes</td>\n",
       "      <td>Chocolate</td>\n",
       "    </tr>\n",
       "    <tr>\n",
       "      <th>83</th>\n",
       "      <td>1/9/18 14:50</td>\n",
       "      <td>Senior</td>\n",
       "      <td>Computer Science</td>\n",
       "      <td>22.0</td>\n",
       "      <td>Male</td>\n",
       "      <td>5'11</td>\n",
       "      <td>155 lb</td>\n",
       "      <td>dark brown</td>\n",
       "      <td>No</td>\n",
       "      <td>NaN</td>\n",
       "    </tr>\n",
       "    <tr>\n",
       "      <th>91</th>\n",
       "      <td>1/9/18 14:50</td>\n",
       "      <td>Third</td>\n",
       "      <td>Computer Science</td>\n",
       "      <td>21.0</td>\n",
       "      <td>Female</td>\n",
       "      <td>NaN</td>\n",
       "      <td>NaN</td>\n",
       "      <td>Black</td>\n",
       "      <td>No</td>\n",
       "      <td>Green tea</td>\n",
       "    </tr>\n",
       "    <tr>\n",
       "      <th>92</th>\n",
       "      <td>1/9/18 14:50</td>\n",
       "      <td>4</td>\n",
       "      <td>Computer Science</td>\n",
       "      <td>21.0</td>\n",
       "      <td>Female</td>\n",
       "      <td>5'5\"</td>\n",
       "      <td>NaN</td>\n",
       "      <td>Brown</td>\n",
       "      <td>Yes</td>\n",
       "      <td>Mint chip</td>\n",
       "    </tr>\n",
       "    <tr>\n",
       "      <th>133</th>\n",
       "      <td>1/9/18 14:50</td>\n",
       "      <td>2018</td>\n",
       "      <td>computer science</td>\n",
       "      <td>22.0</td>\n",
       "      <td>male</td>\n",
       "      <td>NaN</td>\n",
       "      <td>NaN</td>\n",
       "      <td>brown</td>\n",
       "      <td>No</td>\n",
       "      <td>NaN</td>\n",
       "    </tr>\n",
       "    <tr>\n",
       "      <th>140</th>\n",
       "      <td>1/9/18 14:50</td>\n",
       "      <td>Senior</td>\n",
       "      <td>Chemical Engineering</td>\n",
       "      <td>25.0</td>\n",
       "      <td>Female</td>\n",
       "      <td>5 ft 3</td>\n",
       "      <td>NaN</td>\n",
       "      <td>Black</td>\n",
       "      <td>No</td>\n",
       "      <td>Green tea</td>\n",
       "    </tr>\n",
       "    <tr>\n",
       "      <th>150</th>\n",
       "      <td>1/9/18 14:50</td>\n",
       "      <td>Second</td>\n",
       "      <td>Cognitive Science</td>\n",
       "      <td>19.0</td>\n",
       "      <td>Female</td>\n",
       "      <td>NaN</td>\n",
       "      <td>NaN</td>\n",
       "      <td>NaN</td>\n",
       "      <td>Yes</td>\n",
       "      <td>Cookies and Cream</td>\n",
       "    </tr>\n",
       "    <tr>\n",
       "      <th>159</th>\n",
       "      <td>1/9/18 14:50</td>\n",
       "      <td>Fourth</td>\n",
       "      <td>Cognitive Science</td>\n",
       "      <td>21.0</td>\n",
       "      <td>Female</td>\n",
       "      <td>NaN</td>\n",
       "      <td>NaN</td>\n",
       "      <td>Black</td>\n",
       "      <td>Yes</td>\n",
       "      <td>Sea salt cookies and cream</td>\n",
       "    </tr>\n",
       "    <tr>\n",
       "      <th>168</th>\n",
       "      <td>1/9/18 14:50</td>\n",
       "      <td>Second</td>\n",
       "      <td>Cogs sci</td>\n",
       "      <td>20.0</td>\n",
       "      <td>female</td>\n",
       "      <td>178</td>\n",
       "      <td>NaN</td>\n",
       "      <td>brown</td>\n",
       "      <td>No</td>\n",
       "      <td>green tea</td>\n",
       "    </tr>\n",
       "    <tr>\n",
       "      <th>181</th>\n",
       "      <td>1/9/18 14:50</td>\n",
       "      <td>Second</td>\n",
       "      <td>Computer science</td>\n",
       "      <td>18.0</td>\n",
       "      <td>Male</td>\n",
       "      <td>NaN</td>\n",
       "      <td>NaN</td>\n",
       "      <td>Brown</td>\n",
       "      <td>No</td>\n",
       "      <td>Cookies and cream</td>\n",
       "    </tr>\n",
       "    <tr>\n",
       "      <th>232</th>\n",
       "      <td>1/9/18 14:51</td>\n",
       "      <td>Second</td>\n",
       "      <td>Bioengineering</td>\n",
       "      <td>20.0</td>\n",
       "      <td>Male</td>\n",
       "      <td>1.7 m</td>\n",
       "      <td>70kg</td>\n",
       "      <td>Black</td>\n",
       "      <td>No</td>\n",
       "      <td>NaN</td>\n",
       "    </tr>\n",
       "    <tr>\n",
       "      <th>241</th>\n",
       "      <td>1/9/18 14:51</td>\n",
       "      <td>4th</td>\n",
       "      <td>Cogs Sci HCI</td>\n",
       "      <td>21.0</td>\n",
       "      <td>Female</td>\n",
       "      <td>5 feet 4 in</td>\n",
       "      <td>NaN</td>\n",
       "      <td>brown</td>\n",
       "      <td>Yes</td>\n",
       "      <td>Mint chocolate</td>\n",
       "    </tr>\n",
       "    <tr>\n",
       "      <th>249</th>\n",
       "      <td>1/9/18 14:51</td>\n",
       "      <td>2</td>\n",
       "      <td>Computer Science</td>\n",
       "      <td>20.0</td>\n",
       "      <td>Male</td>\n",
       "      <td>177cm</td>\n",
       "      <td>NaN</td>\n",
       "      <td>Brown</td>\n",
       "      <td>No</td>\n",
       "      <td>Mint</td>\n",
       "    </tr>\n",
       "    <tr>\n",
       "      <th>264</th>\n",
       "      <td>1/9/18 14:51</td>\n",
       "      <td>4</td>\n",
       "      <td>Computer Science</td>\n",
       "      <td>21.0</td>\n",
       "      <td>Female</td>\n",
       "      <td>164cm</td>\n",
       "      <td>NaN</td>\n",
       "      <td>Dark Brown</td>\n",
       "      <td>Yes</td>\n",
       "      <td>Vanilla</td>\n",
       "    </tr>\n",
       "    <tr>\n",
       "      <th>285</th>\n",
       "      <td>1/9/18 14:51</td>\n",
       "      <td>4</td>\n",
       "      <td>Molecular Biology</td>\n",
       "      <td>21.0</td>\n",
       "      <td>NaN</td>\n",
       "      <td>NaN</td>\n",
       "      <td>NaN</td>\n",
       "      <td>NaN</td>\n",
       "      <td>NaN</td>\n",
       "      <td>Green Tea</td>\n",
       "    </tr>\n",
       "    <tr>\n",
       "      <th>293</th>\n",
       "      <td>1/9/18 14:51</td>\n",
       "      <td>2nd</td>\n",
       "      <td>Computer Engineering</td>\n",
       "      <td>NaN</td>\n",
       "      <td>Male</td>\n",
       "      <td>10-May</td>\n",
       "      <td>160 pounds</td>\n",
       "      <td>Brown</td>\n",
       "      <td>Yes</td>\n",
       "      <td>NaN</td>\n",
       "    </tr>\n",
       "    <tr>\n",
       "      <th>304</th>\n",
       "      <td>1/9/18 14:51</td>\n",
       "      <td>3</td>\n",
       "      <td>Computer Science</td>\n",
       "      <td>20.0</td>\n",
       "      <td>Male</td>\n",
       "      <td>NaN</td>\n",
       "      <td>NaN</td>\n",
       "      <td>Brown</td>\n",
       "      <td>Yes</td>\n",
       "      <td>Strawberry</td>\n",
       "    </tr>\n",
       "    <tr>\n",
       "      <th>352</th>\n",
       "      <td>1/9/18 14:52</td>\n",
       "      <td>4th</td>\n",
       "      <td>Cognitive Science</td>\n",
       "      <td>21.0</td>\n",
       "      <td>Female</td>\n",
       "      <td>5’7’’</td>\n",
       "      <td>NaN</td>\n",
       "      <td>Brown</td>\n",
       "      <td>No</td>\n",
       "      <td>NaN</td>\n",
       "    </tr>\n",
       "    <tr>\n",
       "      <th>354</th>\n",
       "      <td>1/9/18 14:52</td>\n",
       "      <td>4</td>\n",
       "      <td>Cognitive Science - Machine Learning and Neura...</td>\n",
       "      <td>21.0</td>\n",
       "      <td>Nonbinary</td>\n",
       "      <td>5'5\"</td>\n",
       "      <td>120 lbs.</td>\n",
       "      <td>Brown</td>\n",
       "      <td>Yes</td>\n",
       "      <td>NaN</td>\n",
       "    </tr>\n",
       "    <tr>\n",
       "      <th>357</th>\n",
       "      <td>1/9/18 14:52</td>\n",
       "      <td>2</td>\n",
       "      <td>EECS</td>\n",
       "      <td>19.0</td>\n",
       "      <td>NaN</td>\n",
       "      <td>6.21</td>\n",
       "      <td>150</td>\n",
       "      <td>chocolate pudding</td>\n",
       "      <td>Yes</td>\n",
       "      <td>👌👀👌👀👌👀👌👀👌👀 good shit go౦ԁ sHit👌 thats ✔ some g...</td>\n",
       "    </tr>\n",
       "    <tr>\n",
       "      <th>376</th>\n",
       "      <td>1/9/18 14:52</td>\n",
       "      <td>1</td>\n",
       "      <td>MathCS</td>\n",
       "      <td>18.0</td>\n",
       "      <td>M</td>\n",
       "      <td>5 10</td>\n",
       "      <td>NaN</td>\n",
       "      <td>Brown</td>\n",
       "      <td>No</td>\n",
       "      <td>Matcha</td>\n",
       "    </tr>\n",
       "    <tr>\n",
       "      <th>381</th>\n",
       "      <td>1/9/18 14:52</td>\n",
       "      <td>second year</td>\n",
       "      <td>computer science</td>\n",
       "      <td>19.0</td>\n",
       "      <td>male</td>\n",
       "      <td>NaN</td>\n",
       "      <td>NaN</td>\n",
       "      <td>NaN</td>\n",
       "      <td>No</td>\n",
       "      <td>strawberry</td>\n",
       "    </tr>\n",
       "    <tr>\n",
       "      <th>402</th>\n",
       "      <td>1/9/18 14:53</td>\n",
       "      <td>4</td>\n",
       "      <td>Computer Science</td>\n",
       "      <td>21.0</td>\n",
       "      <td>Female</td>\n",
       "      <td>5'8\"</td>\n",
       "      <td>NaN</td>\n",
       "      <td>Brown</td>\n",
       "      <td>Yes</td>\n",
       "      <td>Strawberry</td>\n",
       "    </tr>\n",
       "    <tr>\n",
       "      <th>412</th>\n",
       "      <td>1/9/18 14:55</td>\n",
       "      <td>3</td>\n",
       "      <td>Computer Science</td>\n",
       "      <td>20.0</td>\n",
       "      <td>M</td>\n",
       "      <td>71in</td>\n",
       "      <td>NaN</td>\n",
       "      <td>Brown</td>\n",
       "      <td>Yes</td>\n",
       "      <td>NaN</td>\n",
       "    </tr>\n",
       "  </tbody>\n",
       "</table>\n",
       "</div>"
      ],
      "text/plain": [
       "        timestamp         year  \\\n",
       "29   1/9/18 14:50       senior   \n",
       "38   1/9/18 14:50          3rd   \n",
       "49   1/9/18 14:50          NaN   \n",
       "58   1/9/18 14:50          3rd   \n",
       "66   1/9/18 14:50    Sophomore   \n",
       "67   1/9/18 14:50            2   \n",
       "83   1/9/18 14:50       Senior   \n",
       "91   1/9/18 14:50        Third   \n",
       "92   1/9/18 14:50            4   \n",
       "133  1/9/18 14:50         2018   \n",
       "140  1/9/18 14:50       Senior   \n",
       "150  1/9/18 14:50       Second   \n",
       "159  1/9/18 14:50       Fourth   \n",
       "168  1/9/18 14:50       Second   \n",
       "181  1/9/18 14:50       Second   \n",
       "232  1/9/18 14:51       Second   \n",
       "241  1/9/18 14:51          4th   \n",
       "249  1/9/18 14:51            2   \n",
       "264  1/9/18 14:51            4   \n",
       "285  1/9/18 14:51            4   \n",
       "293  1/9/18 14:51          2nd   \n",
       "304  1/9/18 14:51            3   \n",
       "352  1/9/18 14:52          4th   \n",
       "354  1/9/18 14:52            4   \n",
       "357  1/9/18 14:52            2   \n",
       "376  1/9/18 14:52            1   \n",
       "381  1/9/18 14:52  second year   \n",
       "402  1/9/18 14:53            4   \n",
       "412  1/9/18 14:55            3   \n",
       "\n",
       "                                                 major   age     gender  \\\n",
       "29                                           math&econ  20.0     female   \n",
       "38                                Computer Engineering  21.0     Female   \n",
       "49                                             Cog Sci  21.0     Female   \n",
       "58                                    Computer Science  20.0     Female   \n",
       "66          Cognitive Science - Design and Interaction  19.0     Female   \n",
       "67                                    Computer Science  19.0       Male   \n",
       "83                                    Computer Science  22.0       Male   \n",
       "91                                    Computer Science  21.0     Female   \n",
       "92                                    Computer Science  21.0     Female   \n",
       "133                                   computer science  22.0       male   \n",
       "140                               Chemical Engineering  25.0     Female   \n",
       "150                                  Cognitive Science  19.0     Female   \n",
       "159                                  Cognitive Science  21.0     Female   \n",
       "168                                           Cogs sci  20.0     female   \n",
       "181                                   Computer science  18.0       Male   \n",
       "232                                    Bioengineering   20.0       Male   \n",
       "241                                       Cogs Sci HCI  21.0     Female   \n",
       "249                                  Computer Science   20.0       Male   \n",
       "264                                   Computer Science  21.0     Female   \n",
       "285                                 Molecular Biology   21.0        NaN   \n",
       "293                               Computer Engineering   NaN       Male   \n",
       "304                                   Computer Science  20.0       Male   \n",
       "352                                  Cognitive Science  21.0     Female   \n",
       "354  Cognitive Science - Machine Learning and Neura...  21.0  Nonbinary   \n",
       "357                                               EECS  19.0        NaN   \n",
       "376                                             MathCS  18.0          M   \n",
       "381                                   computer science  19.0       male   \n",
       "402                                   Computer Science  21.0     Female   \n",
       "412                                   Computer Science  20.0          M   \n",
       "\n",
       "          height      weight          eye_color born_in_CA  \\\n",
       "29           170         130              black         No   \n",
       "38           NaN         NaN              Brown         No   \n",
       "49           NaN         NaN              Brown        Yes   \n",
       "58       5ft 2in         NaN              brown         No   \n",
       "66           5'5         NaN              Brown         No   \n",
       "67           NaN         170              Brown        Yes   \n",
       "83          5'11      155 lb         dark brown         No   \n",
       "91           NaN         NaN              Black         No   \n",
       "92          5'5\"         NaN              Brown        Yes   \n",
       "133          NaN         NaN              brown         No   \n",
       "140       5 ft 3         NaN              Black         No   \n",
       "150          NaN         NaN                NaN        Yes   \n",
       "159          NaN         NaN              Black        Yes   \n",
       "168          178         NaN              brown         No   \n",
       "181          NaN         NaN              Brown         No   \n",
       "232        1.7 m        70kg              Black         No   \n",
       "241  5 feet 4 in         NaN              brown        Yes   \n",
       "249        177cm         NaN              Brown         No   \n",
       "264        164cm         NaN         Dark Brown        Yes   \n",
       "285          NaN         NaN                NaN        NaN   \n",
       "293       10-May  160 pounds              Brown        Yes   \n",
       "304          NaN         NaN              Brown        Yes   \n",
       "352        5’7’’         NaN              Brown         No   \n",
       "354         5'5\"    120 lbs.             Brown         Yes   \n",
       "357         6.21         150  chocolate pudding        Yes   \n",
       "376         5 10         NaN              Brown         No   \n",
       "381          NaN         NaN                NaN         No   \n",
       "402         5'8\"         NaN              Brown        Yes   \n",
       "412         71in         NaN              Brown        Yes   \n",
       "\n",
       "                                     favorite_icecream  \n",
       "29                                                 NaN  \n",
       "38                                                 NaN  \n",
       "49                                           Chocolate  \n",
       "58                                   cookies and cream  \n",
       "66                         Chubby hubby ben and jerrys  \n",
       "67                                           Chocolate  \n",
       "83                                                 NaN  \n",
       "91                                           Green tea  \n",
       "92                                           Mint chip  \n",
       "133                                                NaN  \n",
       "140                                          Green tea  \n",
       "150                                  Cookies and Cream  \n",
       "159                         Sea salt cookies and cream  \n",
       "168                                          green tea  \n",
       "181                                  Cookies and cream  \n",
       "232                                                NaN  \n",
       "241                                     Mint chocolate  \n",
       "249                                               Mint  \n",
       "264                                            Vanilla  \n",
       "285                                          Green Tea  \n",
       "293                                                NaN  \n",
       "304                                         Strawberry  \n",
       "352                                                NaN  \n",
       "354                                                NaN  \n",
       "357  👌👀👌👀👌👀👌👀👌👀 good shit go౦ԁ sHit👌 thats ✔ some g...  \n",
       "376                                             Matcha  \n",
       "381                                         strawberry  \n",
       "402                                         Strawberry  \n",
       "412                                                NaN  "
      ]
     },
     "execution_count": 19,
     "metadata": {},
     "output_type": "execute_result"
    }
   ],
   "source": [
    "rows_to_drop"
   ]
  },
  {
   "cell_type": "code",
   "execution_count": 20,
   "metadata": {},
   "outputs": [
    {
     "data": {
      "text/plain": [
       "'\\n1c) Drop the rows with NaN values\\nDrop any rows with missing data, but only for the columns major, height, gender and age. \\nThese will be the data of primary interest for our analyses, so we drop missing data here.\\n\\nNote that there are other missing data (in other rows) but this is fine for our analyses, so we keep them.\\n\\nTo do this, use the pandas dropna method, inplace, using the subset arguments to specify columns.\\n'"
      ]
     },
     "execution_count": 20,
     "metadata": {},
     "output_type": "execute_result"
    }
   ],
   "source": [
    "'''\n",
    "1c) Drop the rows with NaN values\n",
    "Drop any rows with missing data, but only for the columns major, height, gender and age. \n",
    "These will be the data of primary interest for our analyses, so we drop missing data here.\n",
    "\n",
    "Note that there are other missing data (in other rows) but this is fine for our analyses, so we keep them.\n",
    "\n",
    "To do this, use the pandas dropna method, inplace, using the subset arguments to specify columns.\n",
    "'''"
   ]
  },
  {
   "cell_type": "code",
   "execution_count": 21,
   "metadata": {},
   "outputs": [],
   "source": [
    "df.dropna(subset=['major', 'height', 'gender', 'age'], inplace=True)"
   ]
  },
  {
   "cell_type": "code",
   "execution_count": 22,
   "metadata": {},
   "outputs": [],
   "source": [
    "assert df.shape == (403, 10)"
   ]
  },
  {
   "cell_type": "code",
   "execution_count": 23,
   "metadata": {},
   "outputs": [
    {
     "data": {
      "text/plain": [
       "'\\nIn the rest of Part 1, we will work on writing code, organized into functions that will allow us to transform \\nsimilar respones into the same value. We will call this process: standardizing the data.\\n\\nThe cell below provides an example for the kind of code you will need to write to answer this question. \\nThis example is separate from our actual data, and is a potential function we might use to standardize messy data - in this case, \\nhypothetical data to the question ‘What is your favourite major python version?’.\\n\\nNote some things used in this example that you need to use to standardize data:\\n\\n    string methods, such as lower and strip to transform strings\\n\\n    the replace string method, to replace a set of characters with something else\\n\\n    if/else statements that check what’s in our string (number, letters, etc)\\n\\n    type casting, for example using int() to turn a variable into an integer\\n\\n    using np.nan (which stands for ‘not a number’) to denote missing or unknown data\\n\\nNote: For the following few cells you should run, read, and understand the code provided, \\nbut you don’t have to add any code until Q1d.\\n'"
      ]
     },
     "execution_count": 23,
     "metadata": {},
     "output_type": "execute_result"
    }
   ],
   "source": [
    "'''\n",
    "In the rest of Part 1, we will work on writing code, organized into functions that will allow us to transform \n",
    "similar respones into the same value. We will call this process: standardizing the data.\n",
    "\n",
    "The cell below provides an example for the kind of code you will need to write to answer this question. \n",
    "This example is separate from our actual data, and is a potential function we might use to standardize messy data - in this case, \n",
    "hypothetical data to the question ‘What is your favourite major python version?’.\n",
    "\n",
    "Note some things used in this example that you need to use to standardize data:\n",
    "\n",
    "    string methods, such as lower and strip to transform strings\n",
    "\n",
    "    the replace string method, to replace a set of characters with something else\n",
    "\n",
    "    if/else statements that check what’s in our string (number, letters, etc)\n",
    "\n",
    "    type casting, for example using int() to turn a variable into an integer\n",
    "\n",
    "    using np.nan (which stands for ‘not a number’) to denote missing or unknown data\n",
    "\n",
    "Note: For the following few cells you should run, read, and understand the code provided, \n",
    "but you don’t have to add any code until Q1d.\n",
    "'''"
   ]
  },
  {
   "cell_type": "code",
   "execution_count": 24,
   "metadata": {},
   "outputs": [
    {
     "data": {
      "text/plain": [
       "array(['4', '3', 'Third', '2', '3rd', '3rd year', '5th', 'Second',\n",
       "       '4th Year', '5', 'Senior', 'Junior', '2nd', '1', 'senior', 'third',\n",
       "       'first year', '4th', 'Yolanda', 'Junior ', 'Freshman', 'Sophomore',\n",
       "       '4th year', '6', 'second year', 'Third Year', '2nd year', 'First',\n",
       "       '5th (2nd year transfer)', '2018', 'last year', 'UCSD',\n",
       "       'Fifth Year', '2021', 'Fifth year', '3rd Year', '3rd year ',\n",
       "       'Second year', 'fourth year', 'First year', 'Sophmore',\n",
       "       'Second Year', 'Junior year', '2020', 'Fifth ', 'Sophomore ',\n",
       "       '2nd year ', '4th year ', '2nd Year', '4+', 'second', 'Fourth',\n",
       "       'Senior Year', '2nd (Sophomore)', 'Sixth', 'Senior ', ' 3rd Year',\n",
       "       'Fourth Year', 'Junior standing', 'Fourth year', 'Fifth',\n",
       "       'Third year', 'Sineor '], dtype=object)"
      ]
     },
     "execution_count": 24,
     "metadata": {},
     "output_type": "execute_result"
    }
   ],
   "source": [
    "# just run this cell\n",
    "df['year'].unique()"
   ]
  },
  {
   "cell_type": "code",
   "execution_count": 25,
   "metadata": {},
   "outputs": [
    {
     "data": {
      "text/plain": [
       "'\\nThe line of code above shows us the different values we got, to the question ‘What year (in school) are you?’.\\n\\nAs you can tell, it is a mess!. For example, if you are a junior student, then you might have answered: \\n3, three, third, 3rd year, junior, junior year, Junior, etc.\\n\\nThat is an issue. We want to be able to analyze this data and, in order to do this successfully, \\nwe need all answers with the same meaning to be written in the same way. \\nTherefore, we’re gonna have to transform answers such as ‘3, third, 3rd, junior, etc’ into a single possible value. \\nWe’ll do this for all values that mean the same.\\n'"
      ]
     },
     "execution_count": 25,
     "metadata": {},
     "output_type": "execute_result"
    }
   ],
   "source": [
    "'''\n",
    "The line of code above shows us the different values we got, to the question ‘What year (in school) are you?’.\n",
    "\n",
    "As you can tell, it is a mess!. For example, if you are a junior student, then you might have answered: \n",
    "3, three, third, 3rd year, junior, junior year, Junior, etc.\n",
    "\n",
    "That is an issue. We want to be able to analyze this data and, in order to do this successfully, \n",
    "we need all answers with the same meaning to be written in the same way. \n",
    "Therefore, we’re gonna have to transform answers such as ‘3, third, 3rd, junior, etc’ into a single possible value. \n",
    "We’ll do this for all values that mean the same.\n",
    "'''"
   ]
  },
  {
   "cell_type": "code",
   "execution_count": 26,
   "metadata": {},
   "outputs": [
    {
     "name": "stdout",
     "output_type": "stream",
     "text": [
      "INPUT \t\t-\t OUTPUT\n",
      "version 3  \t-\t 3\n",
      "42         \t-\t nan\n",
      "2          \t-\t 2\n",
      "python 3   \t-\t 3\n",
      "nonsense-lolz \t-\t nan\n"
     ]
    }
   ],
   "source": [
    "def example_standardize_function(str_in):\n",
    "    '''Standardize data to the question 'what is your favorite major python version?'\n",
    "    \n",
    "    Parameters\n",
    "    ----------\n",
    "    str_in : string\n",
    "        A provided answer.\n",
    "        \n",
    "    Returns\n",
    "    -------\n",
    "    int_out : int or np.nan\n",
    "        A standardized integer response.\n",
    "    '''\n",
    "    \n",
    "    # Make the input all lowercase\n",
    "    str_in = str_in.lower()\n",
    "    \n",
    "    # Drop all whitespace\n",
    "    str_in = str_in.strip()\n",
    "    \n",
    "    # Replace things (and then strip again afterwords)\n",
    "    #  Note that the 'replace' replaces the first argument, with the second\n",
    "    #   The first argument does not need to be present in the string,\n",
    "    #    if it's not there 'replace' does nothing (but does not error), so the code moves on.\n",
    "    str_in = str_in.replace('version', '')\n",
    "    str_in = str_in.replace('python', '')\n",
    "    str_in = str_in.strip()\n",
    "    \n",
    "    # Cast to integer, if what's left seems appropriate\n",
    "    if str_in.isnumeric() and len(str_in) == 1:\n",
    "        out = int(str_in)\n",
    "    # Otherwise, consider input was probably ill-formed, return nan\n",
    "    else: \n",
    "        out = np.nan\n",
    "    \n",
    "    return out\n",
    "\n",
    "# Check how this function help standardize data:\n",
    "#  Example possible answers to the question 'What is your favourite major version of Python':\n",
    "print('INPUT', '\\t\\t-\\t', 'OUTPUT')\n",
    "for inp in ['version 3', '42', '2', 'python 3', 'nonsense-lolz']:\n",
    "    print('{:10s} \\t-\\t {:1.0f}'.format(inp, example_standardize_function(inp)))"
   ]
  },
  {
   "cell_type": "code",
   "execution_count": 27,
   "metadata": {},
   "outputs": [
    {
     "data": {
      "text/plain": [
       "array(['Cognitive Science', 'Computer Science', 'Cogs HCI',\n",
       "       'Cognitive Science w/ a specialization in Computation',\n",
       "       'International Studies', 'Computer Engineering',\n",
       "       'computer science', 'Chemical Engineering / Literature Writing',\n",
       "       'Cognitive Science w/ Specialization in Human Computer Interaction',\n",
       "       'Cognitive Science-- Machine Learning and Neural Computation ',\n",
       "       'Cse', 'Cognitive Science - Design and Interaction',\n",
       "       'cognitive science', 'CSE', 'Cog sci design interaction',\n",
       "       'Math CS', 'Electrical Engineering', 'math&econ',\n",
       "       'Cognitive Science spec/ HCI', 'Cognitive science', 'Math-CS',\n",
       "       'Data Science', 'Cognitive science ', 'Cognitive Science ',\n",
       "       'Math - CS ', 'Cognitive Science Human Computer Interaction',\n",
       "       'Cognitive Science with specialization in HCI ',\n",
       "       'Cognitive Science (HCI)', 'Probability & Statistics', 'Cog Sci',\n",
       "       'Cognitive Science - Machine Learning',\n",
       "       'Mathematics-computer science', 'Computer science ',\n",
       "       'Computer Science-Bioinformatics', 'Computer Scientist',\n",
       "       'Cognitive science (HCI)',\n",
       "       'Cogsci specializing in machine learning and neural computation ',\n",
       "       'cognitive science with specialization in machine learning and neural computation',\n",
       "       'Cogntive Science with emphasis on Clinical Aspects',\n",
       "       'Computer Science ', 'Cognitive Science ML&NC major, CSE minor',\n",
       "       'math-cs', 'Cognitive Science: Human-Computer Interaction',\n",
       "       'Political Science',\n",
       "       'Cognitive Science with a specialization in Neuroscience',\n",
       "       'Molecular Biology', 'Mathematics-Computer Science',\n",
       "       'Cognitive Science with a Specialization in Neuroscience ',\n",
       "       'Economics', 'computer engineering ',\n",
       "       'Cognitive Science with Specialization in Machine Learning and Neural Computation',\n",
       "       'Computer Engineering ', 'Economics ',\n",
       "       'Cognitive Science (Design & Interaction)',\n",
       "       'Cognitive Science Specialization in Design and Interaction',\n",
       "       'Cognitive Science w/ Focus on Human Computer Interaction', 'Math',\n",
       "       'Math-Computer Science',\n",
       "       'Cognitive Science with an emphasis in machine learning and neural computation',\n",
       "       'Math-Cs', 'Cogs Sci design specilization',\n",
       "       'Cognitive Science / HCI', 'Applied Mathematics', 'Applied math',\n",
       "       'Cognitive Science (Specialization in Design & Interaction)',\n",
       "       'MathCS', 'Chemical Engineering', 'Cogsci HCI',\n",
       "       'Cognitive Science-Design', 'cognitive science - hci',\n",
       "       'Computer science',\n",
       "       'Cognitive Science- Machine Learning & Neural Computation ',\n",
       "       'Bioinformatics', 'CogSci', 'Cognitive Science HCI',\n",
       "       'Cognitive Science in HCI', 'Cogs sci', 'Cogs machine learning',\n",
       "       'cogs hci', 'Bioinformatics ', 'Psychology',\n",
       "       'Math & Computer Science', 'Cog Sci HCI', 'MATH-CS',\n",
       "       'CogSci w/ Spec in HCI', 'Cogs Spec ML and NC',\n",
       "       'Probability and Statistics', 'Cognitive Neuroscience',\n",
       "       'Computer Science Engineer', 'Cogsci/HCI', 'CS',\n",
       "       'Physiology and neuroscience', 'Computer engineering ',\n",
       "       'Cognitive Science - HCI', 'Management Science',\n",
       "       'Cognit ive Science', 'Bioengineering ', 'ICAM & COGS',\n",
       "       'Cognitive Science with a Specialization in Human Cognition',\n",
       "       'cog sci', 'Cogs Sci HCI', 'Mathematics Computer Science ',\n",
       "       'Psychology and Cognitive Science ', 'Computer Engineer',\n",
       "       'Biochemistry and Cell Biology', 'Cognitive Science  ',\n",
       "       'Cognitive Science w/ HCI ', 'Cog Sci ',\n",
       "       'Cognitive science spec HCI', 'Cog sci',\n",
       "       'Cognitive Science (Machine Learning and Neural Computation)',\n",
       "       'Cognitive science neuroscience', 'CogSci specialization ML',\n",
       "       'Psychology Cognitive Science', 'Probability and statistics',\n",
       "       'Mathematics - Computer Science',\n",
       "       'Interdisciplinary Computing & the Arts',\n",
       "       'Cognitive Science - Neuroscience', 'Management Science ',\n",
       "       'Cognitive Science with a Specialization in Design and Interaction',\n",
       "       'MathCs', 'Cogs with specialization in HCI',\n",
       "       'Cognitive Science (with specialization in computation)', 'Cogs',\n",
       "       'COGS（ML）', 'Cognitive Science, Human-Computer Interaction',\n",
       "       'Cognitive Science specializing in Machine Learning and Computer Science double major',\n",
       "       'Cognitive Science - Specialization in Neuroscience.',\n",
       "       'Cognitive science machine learning and neural computation',\n",
       "       'Cognitive Science (Spec. Design and Interaction)',\n",
       "       'Machine Learning', 'Cognitive and Behavioral Neuroscience',\n",
       "       'Cog Sci, B.S and Poli Sci, B.A.', 'Human Computer Interaction',\n",
       "       'Electrical engineering', 'Linguistics',\n",
       "       'MathCS & CogsSci ML Double Major', 'bioinformatics',\n",
       "       'Cognitive science HCI',\n",
       "       'Cognitive Science- Human Computer Interaction',\n",
       "       'Cognitive Science - Machine Learning and Neural Computation',\n",
       "       'Cognitive science- design and interaction ',\n",
       "       'Cognitive Science- Neuroscience',\n",
       "       'Cognitive Science: Machine Learning & Neural Computation',\n",
       "       'Cognitive science specialized in machine learning and neural computetion',\n",
       "       'Cognitive Science with a Specialization in Machine Learning & Neural Computation ',\n",
       "       'Computer engineering', 'Neuroscience',\n",
       "       'General Linguistics and Cognitive Science (with Spec. in Clinical Aspects)',\n",
       "       'Cog Sci w/ specialization in Neuroscience', 'cs',\n",
       "       'COGS spc Machine Learning', 'COGS HCI ', 'Electrical engineer',\n",
       "       'Cognitive Science with specialization in Neuroscience ',\n",
       "       'Cognitive Science specializing in HCI',\n",
       "       'Cognitive Science: Neuroscience', 'computer science ',\n",
       "       'Cognitive Science specializing in Neuroscience ',\n",
       "       'CogSci Machine Learning', 'Bioengineering'], dtype=object)"
      ]
     },
     "execution_count": 27,
     "metadata": {},
     "output_type": "execute_result"
    }
   ],
   "source": [
    "'''\n",
    "Now we have to standardize the data!\n",
    "\n",
    "Check all different values given for majors. It’s a lot!\n",
    "'''\n",
    "df['major'].unique()"
   ]
  },
  {
   "cell_type": "code",
   "execution_count": 28,
   "metadata": {},
   "outputs": [],
   "source": [
    "# We’ll write a function performing some simple substring checking in order to group many responses together.\n",
    "def standardize_major(string):\n",
    "    \n",
    "    string = string.lower()\n",
    "    string = string.strip()\n",
    "    \n",
    "    if 'cog' in string:\n",
    "        output = 'COGSCI'\n",
    "    elif 'computer' in string:\n",
    "        output = 'COMPSCI'\n",
    "    elif 'cs' in string:\n",
    "        output = 'COMPSCI'\n",
    "    elif 'math' in string:\n",
    "        output = 'MATH'\n",
    "    elif 'electrical' in string:\n",
    "        output = 'ECE'\n",
    "    elif 'bio' in string:\n",
    "        output = 'BIO'\n",
    "    elif 'chem' in string:\n",
    "        output = 'CHEM'\n",
    "    # Otherwise, if uncaught - keep as is\n",
    "    else:\n",
    "        output = string\n",
    "    \n",
    "    return output"
   ]
  },
  {
   "cell_type": "code",
   "execution_count": 29,
   "metadata": {},
   "outputs": [],
   "source": [
    "# We then have to apply the transformation using the function we just defined.\n",
    "df['major'] = df['major'].apply(standardize_major)"
   ]
  },
  {
   "cell_type": "code",
   "execution_count": 30,
   "metadata": {},
   "outputs": [
    {
     "data": {
      "text/plain": [
       "array(['COGSCI', 'COMPSCI', 'international studies', 'CHEM', 'ECE',\n",
       "       'MATH', 'data science', 'political science', 'BIO', 'psychology',\n",
       "       'physiology and neuroscience', 'management science',\n",
       "       'interdisciplinary computing & the arts', 'machine learning',\n",
       "       'neuroscience'], dtype=object)"
      ]
     },
     "execution_count": 30,
     "metadata": {},
     "output_type": "execute_result"
    }
   ],
   "source": [
    "'''\n",
    "Previewing the results of the previous transformation.\n",
    "\n",
    "It looks a lot better, though it’s not perfect, but we’ll run with this.\n",
    "'''\n",
    "df['major'].unique()"
   ]
  },
  {
   "cell_type": "code",
   "execution_count": 31,
   "metadata": {},
   "outputs": [
    {
     "data": {
      "text/plain": [
       "Male           229\n",
       "Female          95\n",
       "female          26\n",
       "male            18\n",
       "F               10\n",
       "M                6\n",
       "Female           6\n",
       "Male             6\n",
       "Famale           1\n",
       "men              1\n",
       "MALE             1\n",
       "Rainbow          1\n",
       "Woman            1\n",
       "Transgender      1\n",
       "Nonbinary        1\n",
       "Name: gender, dtype: int64"
      ]
     },
     "execution_count": 31,
     "metadata": {},
     "output_type": "execute_result"
    }
   ],
   "source": [
    "'''\n",
    "1d) Standardize ‘gender’ function\n",
    "Next let’s check the ‘gender’ column.\n",
    "\n",
    "Check the different responses received for gender, including how many of each response we have\n",
    "'''\n",
    "# run this to see different gender input data\n",
    "df['gender'].value_counts()"
   ]
  },
  {
   "cell_type": "code",
   "execution_count": 32,
   "metadata": {},
   "outputs": [
    {
     "data": {
      "text/plain": [
       "'\\nUsing a similar approach to what we used for ‘major’, you’ll write a standardize_gender function.\\n\\nTo do this you’ll:\\n\\n    convert all text to lowercase\\n\\n    use the string method strip() to remove leading and trailing characters from the gender value\\n\\n    use an if/elif/else to:\\n\\n        output ‘female’ if the lowercale gender value is ‘female’, ‘f’, ‘woman’, ‘famale’, or ‘women’\\n\\n        output ‘male’ if the lowercase gender value is ‘male’, ‘m’, ‘man’, or ‘men’\\n\\n        output ‘nonbinary_or_trans’ if the lowercase gender value is ‘nonbinary’ or ‘transgender’\\n\\n        output np.nan otherwise\\n\\n    return the output\\n'"
      ]
     },
     "execution_count": 32,
     "metadata": {},
     "output_type": "execute_result"
    }
   ],
   "source": [
    "'''\n",
    "Using a similar approach to what we used for ‘major’, you’ll write a standardize_gender function.\n",
    "\n",
    "To do this you’ll:\n",
    "\n",
    "    convert all text to lowercase\n",
    "\n",
    "    use the string method strip() to remove leading and trailing characters from the gender value\n",
    "\n",
    "    use an if/elif/else to:\n",
    "\n",
    "        output ‘female’ if the lowercale gender value is ‘female’, ‘f’, ‘woman’, ‘famale’, or ‘women’\n",
    "\n",
    "        output ‘male’ if the lowercase gender value is ‘male’, ‘m’, ‘man’, or ‘men’\n",
    "\n",
    "        output ‘nonbinary_or_trans’ if the lowercase gender value is ‘nonbinary’ or ‘transgender’\n",
    "\n",
    "        output np.nan otherwise\n",
    "\n",
    "    return the output\n",
    "'''"
   ]
  },
  {
   "cell_type": "code",
   "execution_count": 33,
   "metadata": {},
   "outputs": [],
   "source": [
    "def standardize_gender(string):\n",
    "    string = string.lower()\n",
    "    string = string.strip()\n",
    "    female = ['female', 'f', 'woman', 'famale', 'women']\n",
    "    male = ['male', 'm', 'man', 'men']\n",
    "    non_or_trans = ['nonbinary', 'transgender']\n",
    "    if any(x in string for x in female):\n",
    "        output = 'female'\n",
    "    elif any(x in string for x in male):\n",
    "        output = 'male'\n",
    "    elif any(x in string for x in non_or_trans):\n",
    "        output = 'nonbinary_or_trans'\n",
    "    else:\n",
    "        output = np.nan\n",
    "    return output"
   ]
  },
  {
   "cell_type": "code",
   "execution_count": 34,
   "metadata": {},
   "outputs": [],
   "source": [
    "assert standardize_gender('f') == 'female'\n",
    "assert standardize_gender('male') == 'male'\n",
    "assert standardize_gender('Transgender') == 'nonbinary_or_trans'"
   ]
  },
  {
   "cell_type": "code",
   "execution_count": 35,
   "metadata": {},
   "outputs": [
    {
     "data": {
      "text/plain": [
       "'\\n1e) Transform ‘gender’ column\\nApply the transformation, meaning, use your function and standardize gender in df\\n\\nThen, drop any rows with missing gender information.\\n'"
      ]
     },
     "execution_count": 35,
     "metadata": {},
     "output_type": "execute_result"
    }
   ],
   "source": [
    "'''\n",
    "1e) Transform ‘gender’ column\n",
    "Apply the transformation, meaning, use your function and standardize gender in df\n",
    "\n",
    "Then, drop any rows with missing gender information.\n",
    "'''"
   ]
  },
  {
   "cell_type": "code",
   "execution_count": 36,
   "metadata": {},
   "outputs": [],
   "source": [
    "df['gender'] = df['gender'].apply(standardize_gender)\n",
    "df.dropna(subset='gender', inplace=True)"
   ]
  },
  {
   "cell_type": "code",
   "execution_count": 37,
   "metadata": {},
   "outputs": [
    {
     "data": {
      "text/plain": [
       "array(['male', 'female', 'nonbinary_or_trans'], dtype=object)"
      ]
     },
     "execution_count": 37,
     "metadata": {},
     "output_type": "execute_result"
    }
   ],
   "source": [
    "# Check the results\n",
    "df['gender'].unique()"
   ]
  },
  {
   "cell_type": "code",
   "execution_count": 38,
   "metadata": {},
   "outputs": [],
   "source": [
    "assert len(df['gender'].unique()) == 3\n",
    "assert df.shape == (402, 10)"
   ]
  },
  {
   "cell_type": "code",
   "execution_count": 39,
   "metadata": {},
   "outputs": [
    {
     "data": {
      "text/plain": [
       "'\\n1f) Standardize other columns\\nFind, programatically, the number of unique responses in the ‘year’ column.\\n\\nSave the result in a variable named num_unique_responses.\\n\\nHint: you can answer this question using the unique method, used above.\\n'"
      ]
     },
     "execution_count": 39,
     "metadata": {},
     "output_type": "execute_result"
    }
   ],
   "source": [
    "'''\n",
    "1f) Standardize other columns\n",
    "Find, programatically, the number of unique responses in the ‘year’ column.\n",
    "\n",
    "Save the result in a variable named num_unique_responses.\n",
    "\n",
    "Hint: you can answer this question using the unique method, used above.\n",
    "'''"
   ]
  },
  {
   "cell_type": "code",
   "execution_count": 40,
   "metadata": {},
   "outputs": [
    {
     "data": {
      "text/plain": [
       "63"
      ]
     },
     "execution_count": 40,
     "metadata": {},
     "output_type": "execute_result"
    }
   ],
   "source": [
    "num_unique_responses = len(df['year'].unique())\n",
    "num_unique_responses"
   ]
  },
  {
   "cell_type": "code",
   "execution_count": 41,
   "metadata": {},
   "outputs": [],
   "source": [
    "assert num_unique_responses\n",
    "assert isinstance(num_unique_responses, int)"
   ]
  },
  {
   "cell_type": "code",
   "execution_count": 42,
   "metadata": {},
   "outputs": [
    {
     "data": {
      "text/plain": [
       "'\\n1g) Standardize ‘year’ column\\nWrite a function named standardize_year that takes in as input a string and returns an integer.\\n\\nThe function will do the following (in the order specified):\\n\\nNote that for these detailed instructions, each line corresponds to one line of code you need to write.\\n\\n    convert all characters of the string into lowercase\\n\\n    strip the string of all leading and trailing whitespace\\n\\n    replace any occurences of ‘first’ with ‘1’\\n\\n    replace any occurences of ‘second’ with ‘2’\\n\\n    replace any occurences of ‘third’ with ‘3’\\n\\n    replace any occurences of ‘fourth’ with ‘4’\\n\\n    replace any occurences of ‘fifth’ with ‘5’\\n\\n    replace any occurences of ‘sixth’ with ‘6’\\n\\n    replace any occurences of ‘freshman’ with ‘1’\\n\\n    replace any occurences of ‘sophomore’ with ‘2’\\n\\n    replace any occurences of ‘junior’ with ‘3’\\n\\n    replace any occurences of ‘senior’ with 4’\\n\\n    replace any occurences of ‘year’ with ‘’ (remove it from the string)\\n\\n    replace any occurences of ‘th’ with ‘’ (remove it from the string)\\n\\n    replace any occurences of ‘rd’ with ‘’ (remove it from the string)\\n\\n    replace any occurences of ‘nd’ with ‘’ (remove it from the string)\\n\\n    strip the string of all leading and trailing whitespace (again)\\n\\n    If the resulting string is a number and it is less than 10, then cast it into an integer and return that value\\n\\n    Else return np.nan to symbolize that the student’s response was not a valid entry\\n\\nHINTS: you will need to use the functions lower(), strip(), isnumeric() and replace()\\n'"
      ]
     },
     "execution_count": 42,
     "metadata": {},
     "output_type": "execute_result"
    }
   ],
   "source": [
    "'''\n",
    "1g) Standardize ‘year’ column\n",
    "Write a function named standardize_year that takes in as input a string and returns an integer.\n",
    "\n",
    "The function will do the following (in the order specified):\n",
    "\n",
    "Note that for these detailed instructions, each line corresponds to one line of code you need to write.\n",
    "\n",
    "    convert all characters of the string into lowercase\n",
    "\n",
    "    strip the string of all leading and trailing whitespace\n",
    "\n",
    "    replace any occurences of ‘first’ with ‘1’\n",
    "\n",
    "    replace any occurences of ‘second’ with ‘2’\n",
    "\n",
    "    replace any occurences of ‘third’ with ‘3’\n",
    "\n",
    "    replace any occurences of ‘fourth’ with ‘4’\n",
    "\n",
    "    replace any occurences of ‘fifth’ with ‘5’\n",
    "\n",
    "    replace any occurences of ‘sixth’ with ‘6’\n",
    "\n",
    "    replace any occurences of ‘freshman’ with ‘1’\n",
    "\n",
    "    replace any occurences of ‘sophomore’ with ‘2’\n",
    "\n",
    "    replace any occurences of ‘junior’ with ‘3’\n",
    "\n",
    "    replace any occurences of ‘senior’ with 4’\n",
    "\n",
    "    replace any occurences of ‘year’ with ‘’ (remove it from the string)\n",
    "\n",
    "    replace any occurences of ‘th’ with ‘’ (remove it from the string)\n",
    "\n",
    "    replace any occurences of ‘rd’ with ‘’ (remove it from the string)\n",
    "\n",
    "    replace any occurences of ‘nd’ with ‘’ (remove it from the string)\n",
    "\n",
    "    strip the string of all leading and trailing whitespace (again)\n",
    "\n",
    "    If the resulting string is a number and it is less than 10, then cast it into an integer and return that value\n",
    "\n",
    "    Else return np.nan to symbolize that the student’s response was not a valid entry\n",
    "\n",
    "HINTS: you will need to use the functions lower(), strip(), isnumeric() and replace()\n",
    "'''"
   ]
  },
  {
   "cell_type": "code",
   "execution_count": 43,
   "metadata": {},
   "outputs": [],
   "source": [
    "def standardize_year(string):\n",
    "    string = string.lower()\n",
    "    string = string.strip()\n",
    "    string = string.replace('first', '1')\n",
    "    string = string.replace('second', '2')\n",
    "    string = string.replace('third', '3')\n",
    "    string = string.replace('fourth', '4')\n",
    "    string = string.replace('fifth', '5')\n",
    "    string = string.replace('sixth', '6')\n",
    "    string = string.replace('freshman', '1')\n",
    "    string = string.replace('sophomore', '2')\n",
    "    string = string.replace('junior', '3')\n",
    "    string = string.replace('senior', '4')\n",
    "    string = string.replace('year', '')\n",
    "    string = string.replace('th', '')\n",
    "    string = string.replace('rd', '')\n",
    "    string = string.replace('nd', '')\n",
    "    string = string.strip()\n",
    "    if string.isnumeric() and int(string) < 10:\n",
    "        output = int(string)\n",
    "    else:\n",
    "        output = np.nan\n",
    "    return output"
   ]
  },
  {
   "cell_type": "code",
   "execution_count": 44,
   "metadata": {},
   "outputs": [],
   "source": [
    "assert standardize_year('2nd') == 2\n",
    "assert standardize_year('sophomore') == 2\n",
    "assert standardize_year('3rd year') == 3\n",
    "assert standardize_year('5th') == 5\n",
    "assert standardize_year('7    ') == 7\n",
    "assert standardize_year('randomText') is np.nan"
   ]
  },
  {
   "cell_type": "code",
   "execution_count": 45,
   "metadata": {},
   "outputs": [
    {
     "data": {
      "text/plain": [
       "'\\n1h) Transform ‘year’ column\\nUse standardize_year to transform the data in column ‘What year (in school) are you?’.\\n\\nHint: use the apply function AND remember to save your output inside the dataframe\\n'"
      ]
     },
     "execution_count": 45,
     "metadata": {},
     "output_type": "execute_result"
    }
   ],
   "source": [
    "'''\n",
    "1h) Transform ‘year’ column\n",
    "Use standardize_year to transform the data in column ‘What year (in school) are you?’.\n",
    "\n",
    "Hint: use the apply function AND remember to save your output inside the dataframe\n",
    "'''"
   ]
  },
  {
   "cell_type": "code",
   "execution_count": 46,
   "metadata": {},
   "outputs": [],
   "source": [
    "df['year'] = df['year'].apply(standardize_year)"
   ]
  },
  {
   "cell_type": "code",
   "execution_count": 47,
   "metadata": {},
   "outputs": [],
   "source": [
    "assert len(df['year'].unique()) == 7"
   ]
  },
  {
   "cell_type": "code",
   "execution_count": 48,
   "metadata": {},
   "outputs": [
    {
     "data": {
      "text/plain": [
       "\"\\nAssuming that all is correct up to this point, the line below should show all values now found in df['year'].\\n\\nIt should look a lot better. With this data, we can now make insightful analyses.\\n\\nYou should see an array with elements 1,2,3,4,5,6 and nan (not necessarily in that order).\\n\\nNote that if you check the data type of this column, you’ll see that pandas converts these numbers to float, \\neven though the applied function returns int, because np.nan is considered a float. This is fine.\\n\""
      ]
     },
     "execution_count": 48,
     "metadata": {},
     "output_type": "execute_result"
    }
   ],
   "source": [
    "'''\n",
    "Assuming that all is correct up to this point, the line below should show all values now found in df['year'].\n",
    "\n",
    "It should look a lot better. With this data, we can now make insightful analyses.\n",
    "\n",
    "You should see an array with elements 1,2,3,4,5,6 and nan (not necessarily in that order).\n",
    "\n",
    "Note that if you check the data type of this column, you’ll see that pandas converts these numbers to float, \n",
    "even though the applied function returns int, because np.nan is considered a float. This is fine.\n",
    "'''"
   ]
  },
  {
   "cell_type": "code",
   "execution_count": 49,
   "metadata": {},
   "outputs": [
    {
     "data": {
      "text/plain": [
       "array([ 4.,  3.,  2.,  5.,  1., nan,  6.])"
      ]
     },
     "execution_count": 49,
     "metadata": {},
     "output_type": "execute_result"
    }
   ],
   "source": [
    "df['year'].unique()"
   ]
  },
  {
   "cell_type": "code",
   "execution_count": 50,
   "metadata": {},
   "outputs": [],
   "source": [
    "# Let’s do it again. Let’s take a look at the responses in the ‘weight’ column, and then standardize them.\n",
    "# First, ensure that all types are consistent, use strings\n",
    "df['weight'] = df['weight'].astype(str)"
   ]
  },
  {
   "cell_type": "code",
   "execution_count": 51,
   "metadata": {},
   "outputs": [
    {
     "data": {
      "text/plain": [
       "array(['147', '150', '74kg', '133', '160', '106 lb', '155', '170 pounds',\n",
       "       '170', '135', '115', '110', '167 lbs', '60kg', '136', '140', '120',\n",
       "       '78kg', '128 lbs', '220', '145lb', '180', '105', '160lbs', '130',\n",
       "       '177g', '125 pounds', '125', '210', '69kg', '165', '160 lbs',\n",
       "       '123', '135lbs', '112 pounds', '190', '145lbs', '150 lbs', 'nan',\n",
       "       '193lbs', '73kg', '133 lb', '107 pounds', '200', '240', '47kg',\n",
       "       '175', '120 lbs', '164', '110 lbs', '128lbs', '155 lb', '185',\n",
       "       '167', '84 kg', '113', '235', '128lb', '119 lbs', '110 lb', '72kg',\n",
       "       '122', '140 lbs', '70 kg', '165 pounds ', '128', '125 lb', '108',\n",
       "       '15', '215', '48kg', '52kg', '145', '185lbs. ', '230lb', '125 lbs',\n",
       "       '140 lb', '168lb', '100', '130 pounds', '124', '84kg', '119',\n",
       "       \"I don't know dude but heavy probably\", '103', '140lbs', '170lbs',\n",
       "       '155 lbs', '50kg', '190 lbs', '52 kg', '168lbs', '189', '168',\n",
       "       '76KG', '77kg', '181', '146', '156', '140 pounds', '128 lb',\n",
       "       '46kg', '140 lb ', '120 lb', '146lb', '169lb', '250', '130lb',\n",
       "       '146 Pounds', '58 kg', '173lb', '70kg', '56 kg', '190lb', 'Secret',\n",
       "       '66 kg', '134', '125lb', '155lbs', '145 lbs', '102 lbs', '67kg',\n",
       "       '51kg', '320', '142', '130 lbs.', '145 pounds', '119lb', '280',\n",
       "       '95kg', '175 lbs', '58lbs', '134 pounds', '129', '85kg', '152 lbs',\n",
       "       '138 pounds', '112', '141', '100lbs', '102 kbs', '98 lb', '88 kg',\n",
       "       '107 lb', '150lb', '145 lbs ', '205', '98lbs', '145 lb.',\n",
       "       '112 lbs', '106', '124pounds', '110 pounds', '82kg', \"6'1\",\n",
       "       '100 lbs', '300lbs', '45kg', '154', '122 pounds', '150 lb',\n",
       "       '120 lbs.', '155lb', '179lb', '130 lbs', '158', '116', '107 lbs',\n",
       "       '105 lbs', '179', '168 lb', '140lb', '76kg', '75', '145 lb',\n",
       "       '85 kg', '114', '105 pounds', '115 lbs', '85', '102', '85 lbs',\n",
       "       '63kg', '170 lbs.', '160 pounds', '185 lbs'], dtype=object)"
      ]
     },
     "execution_count": 51,
     "metadata": {},
     "output_type": "execute_result"
    }
   ],
   "source": [
    "# Check all the different answers we received\n",
    "df['weight'].unique()"
   ]
  },
  {
   "cell_type": "code",
   "execution_count": 52,
   "metadata": {},
   "outputs": [
    {
     "data": {
      "text/plain": [
       "'\\n1i) Standardize ‘weight’ column\\nWrite a function named standardize_weight that takes in as input a string and returns an integer.\\n\\nThe function will do the following (in the order specified):\\n\\n    convert all characters of the string into lowercase\\n\\n    strip the string of all leading and trailing whitespace\\n\\n    replace any occurences of ‘lbs’ with ‘’ (remove it from the string)\\n\\n    replace any occurences of ‘lb’ with ‘’ (remove it from the string)\\n\\n    replace any occurences of ‘pounds’ with ‘’ (remove it from the string)\\n\\n    If the string contains the substring ‘kg’, then:\\n\\n        replace ‘kg’ with ‘’\\n\\n        strip the string of whitespace\\n\\n        cast the string into a float type using the function float()\\n\\n        multiply the resulting float by 2.2 (an approximate conversion of kilograms to pounds)\\n\\ntry to return the int of your string. If it cannot, return np.nan.\\n'"
      ]
     },
     "execution_count": 52,
     "metadata": {},
     "output_type": "execute_result"
    }
   ],
   "source": [
    "'''\n",
    "1i) Standardize ‘weight’ column\n",
    "Write a function named standardize_weight that takes in as input a string and returns an integer.\n",
    "\n",
    "The function will do the following (in the order specified):\n",
    "\n",
    "    convert all characters of the string into lowercase\n",
    "\n",
    "    strip the string of all leading and trailing whitespace\n",
    "\n",
    "    replace any occurences of ‘lbs’ with ‘’ (remove it from the string)\n",
    "\n",
    "    replace any occurences of ‘lb’ with ‘’ (remove it from the string)\n",
    "\n",
    "    replace any occurences of ‘pounds’ with ‘’ (remove it from the string)\n",
    "\n",
    "    If the string contains the substring ‘kg’, then:\n",
    "\n",
    "        replace ‘kg’ with ‘’\n",
    "\n",
    "        strip the string of whitespace\n",
    "\n",
    "        cast the string into a float type using the function float()\n",
    "\n",
    "        multiply the resulting float by 2.2 (an approximate conversion of kilograms to pounds)\n",
    "\n",
    "try to return the int of your string. If it cannot, return np.nan.\n",
    "'''"
   ]
  },
  {
   "cell_type": "code",
   "execution_count": 53,
   "metadata": {},
   "outputs": [],
   "source": [
    "def standardize_weight(string):\n",
    "    string = string.lower().strip()\n",
    "    string = string.replace('lbs', '').strip()\n",
    "    string = string.replace('lb', '').strip()\n",
    "    string = string.replace('pounds', '').strip()\n",
    "    if 'kg' in string:\n",
    "        string = str(round(float(string.replace('kg', '').strip()) * 2.2))\n",
    "    if string.isnumeric():\n",
    "        output = int(string)\n",
    "    else:\n",
    "        output = np.nan\n",
    "    return output"
   ]
  },
  {
   "cell_type": "code",
   "execution_count": 54,
   "metadata": {},
   "outputs": [],
   "source": [
    "assert standardize_weight('34 lbs') == 34\n",
    "assert standardize_weight('101 kg') == 222"
   ]
  },
  {
   "cell_type": "code",
   "execution_count": 55,
   "metadata": {},
   "outputs": [
    {
     "data": {
      "text/plain": [
       "'\\n1j) Transform ‘weight’ column\\nUse standardize_weight to transform the data in the ‘weight’ column.\\n\\nHint: use the apply function AND remember to save your output inside the dataframe\\n'"
      ]
     },
     "execution_count": 55,
     "metadata": {},
     "output_type": "execute_result"
    }
   ],
   "source": [
    "'''\n",
    "1j) Transform ‘weight’ column\n",
    "Use standardize_weight to transform the data in the ‘weight’ column.\n",
    "\n",
    "Hint: use the apply function AND remember to save your output inside the dataframe\n",
    "'''"
   ]
  },
  {
   "cell_type": "code",
   "execution_count": 56,
   "metadata": {},
   "outputs": [],
   "source": [
    "df['weight'] = df['weight'].apply(standardize_weight)"
   ]
  },
  {
   "cell_type": "code",
   "execution_count": 57,
   "metadata": {},
   "outputs": [],
   "source": [
    "assert df['weight'].unique().shape == (83,)"
   ]
  },
  {
   "cell_type": "code",
   "execution_count": 58,
   "metadata": {},
   "outputs": [
    {
     "data": {
      "text/plain": [
       "array([147., 150., 163., 133., 160., 106., 155., 170., 135., 115., 110.,\n",
       "       167., 132., 136., 140., 120., 172., 128., 220., 145., 180., 105.,\n",
       "       130.,  nan, 125., 210., 152., 165., 123., 112., 190., 193., 161.,\n",
       "       107., 200., 240., 103., 175., 164., 185., 113., 235., 119., 158.,\n",
       "       122., 154., 108.,  15., 215., 114., 230., 168., 100., 124., 189.,\n",
       "       169., 181., 146., 156., 101., 250., 173., 134., 102., 320., 142.,\n",
       "       280., 209.,  58., 129., 187., 138., 141.,  98., 194., 205., 300.,\n",
       "        99., 179., 116.,  75.,  85., 139.])"
      ]
     },
     "execution_count": 58,
     "metadata": {},
     "output_type": "execute_result"
    }
   ],
   "source": [
    "# Now, let’s see the result of our hard work. The code below should output all numbers (or nan).\n",
    "df['weight'].unique()"
   ]
  },
  {
   "cell_type": "code",
   "execution_count": 59,
   "metadata": {},
   "outputs": [
    {
     "data": {
      "text/plain": [
       "'\\n1k) Standardize ‘favorite_icecream’ column\\nWrite a function named standardize_icecream that takes in as input a string and returns a standardized string.\\n\\nThis function should:\\n\\nensure all inputs are strings (Note: np.nan is considered a float that will be converted to ‘nan’ if typecast with str())\\n\\nconvert all characters of the string into lowercase\\n\\nstrip the string of all leading and trailing whitespace\\n\\nstandardize the flavors such that:\\n\\n    if either ‘don’t’ or ‘no favorite’ is in the response, the flavor is recorded as np.nan\\n\\n    if either ‘cream’ or ‘creme’ is in the response, the flavor is ‘cookies & cream’\\n\\n    if ‘dough’ is in the response, the flavor is recorded as ‘chocolate chip cookie dough’ \\n    (we’ll consider cookie dough and chocolate chip cookie dough to be the same)\\n\\n    if ‘vanilla’ is in the response, the flavor is recorded as ‘vanilla’\\n\\n    if ‘mint’ is in the response, the flavor is recorded as ‘mint chocolate chip’ \\n    (we’ll consider mint and mint chocolate chip to be the same)\\n\\n    if ‘oreo’ is in the response, the flavor is recorded as ‘oreo’\\n\\n    if ‘pistac’ is in the response, the flavor is recorded as ‘pistachio’ (note the different spellings in original)\\n\\n    if ‘matcha’ is in the response, the flavor is recorded as ‘matcha’\\n\\nreturn the standardized ice cream flavor.\\n'"
      ]
     },
     "execution_count": 59,
     "metadata": {},
     "output_type": "execute_result"
    }
   ],
   "source": [
    "'''\n",
    "1k) Standardize ‘favorite_icecream’ column\n",
    "Write a function named standardize_icecream that takes in as input a string and returns a standardized string.\n",
    "\n",
    "This function should:\n",
    "\n",
    "ensure all inputs are strings (Note: np.nan is considered a float that will be converted to ‘nan’ if typecast with str())\n",
    "\n",
    "convert all characters of the string into lowercase\n",
    "\n",
    "strip the string of all leading and trailing whitespace\n",
    "\n",
    "standardize the flavors such that:\n",
    "\n",
    "    if either ‘don’t’ or ‘no favorite’ is in the response, the flavor is recorded as np.nan\n",
    "\n",
    "    if either ‘cream’ or ‘creme’ is in the response, the flavor is ‘cookies & cream’\n",
    "\n",
    "    if ‘dough’ is in the response, the flavor is recorded as ‘chocolate chip cookie dough’ \n",
    "    (we’ll consider cookie dough and chocolate chip cookie dough to be the same)\n",
    "\n",
    "    if ‘vanilla’ is in the response, the flavor is recorded as ‘vanilla’\n",
    "\n",
    "    if ‘mint’ is in the response, the flavor is recorded as ‘mint chocolate chip’ \n",
    "    (we’ll consider mint and mint chocolate chip to be the same)\n",
    "\n",
    "    if ‘oreo’ is in the response, the flavor is recorded as ‘oreo’\n",
    "\n",
    "    if ‘pistac’ is in the response, the flavor is recorded as ‘pistachio’ (note the different spellings in original)\n",
    "\n",
    "    if ‘matcha’ is in the response, the flavor is recorded as ‘matcha’\n",
    "\n",
    "return the standardized ice cream flavor.\n",
    "'''"
   ]
  },
  {
   "cell_type": "code",
   "execution_count": 60,
   "metadata": {},
   "outputs": [],
   "source": [
    "def standardize_icecream(string):\n",
    "    string = str(string).lower().strip()\n",
    "    if \"don't\" in string or 'no favorite' in string:\n",
    "        output = np.nan\n",
    "    elif 'cream' in string or 'creme' in string:\n",
    "        output = 'cookies & cream'\n",
    "    elif 'dough' in string:\n",
    "        output = 'chocolate chip cookie dough'\n",
    "    elif 'vanilla' in string:\n",
    "        output = 'vanilla'\n",
    "    elif 'oreo' in string:\n",
    "        output = 'oreo'\n",
    "    elif 'matcha' in string:\n",
    "        output = 'matcha'\n",
    "    elif 'mint' in string:\n",
    "        output = 'mint chocolate chip'\n",
    "    elif 'pistac' in string:\n",
    "        output = 'pistachio'\n",
    "    else:\n",
    "        output = string\n",
    "    return str(output)"
   ]
  },
  {
   "cell_type": "code",
   "execution_count": 61,
   "metadata": {},
   "outputs": [
    {
     "data": {
      "text/plain": [
       "array(['Vanilla', 'Cookies and Cream', 'Matcha', \"Cookies n' Cream\",\n",
       "       'Chocolate', 'Mint chocolate chip', 'mint', 'Cookie dough',\n",
       "       'cookies and cream', 'vanilla', 'Sweet cream', 'Cookie & Cream',\n",
       "       'None', 'Mint Chocolate Chip', 'mint chocolate chip', 'phish food',\n",
       "       'chocolate chip', nan, 'rose', 'Chocolate Chip Cookie Dough',\n",
       "       'Moose Tracks', 'butterscotch', 'Pistacchio', 'Mocha',\n",
       "       'Butter Pecan', 'Strawberry', 'Pistachio', 'Chocolate ', 'coffee',\n",
       "       'Cookies & Cream', 'Mint Chocolate', 'Cookie Dough ', 'Lemon',\n",
       "       'Green tea', 'Strawberry ', 'Cookie Dough', 'Half Baked', 'Mango',\n",
       "       'Chubby hubby ben and jerrys', 'Coffee', 'Pecan praline',\n",
       "       'cookie dough', 'Green Tea', 'chocolate espresso cookie crumble',\n",
       "       'Oreo Cookies and Creme', 'tofu', 'Cookies n Cream', 'Phish Food',\n",
       "       'mint and chip', 'Oreos', 'pistachio',\n",
       "       \"Cookies and Cream (or Ben & Jerry's Half Baked)\", 'Mint chip',\n",
       "       'Cake Batter', 'Chocolate chip cookie dough', 'Mint- brownie',\n",
       "       'Earl Gray', 'Raspberry ', 'French Vanilla',\n",
       "       'Yogurt or any fruity flavor', 'Phish food', 'Cookies and cream',\n",
       "       'Yams', 'McVoytek', 'Cookies n Creme', \"I'm vegan\", 'Mint',\n",
       "       'vanila', 'Vanilla Bean', 'chocolate', 'Chocolate Carmel',\n",
       "       'Chocolate chip ', 'green ', 'Mint chocolate',\n",
       "       'Strawberry cheesecake', 'Birthday Cake', 'Green Tea Mango',\n",
       "       'Caramel Fudge', 'Vanilla ', 'Peanut butter', 'three musketeers',\n",
       "       'strawberry', 'Vanilla Honey Lavendar', 'Almond', 'Human',\n",
       "       'original', 'green tea', 'Rainbow', 'Cherry Garcia', 'GREEN TEAAA',\n",
       "       'Mint Chip', 'Fruit, Cookie and Cream', 'Straciatella ',\n",
       "       \"I don't like ice cream.\", 'Coconut', 'Nutty Coconut', 'Shorbet ',\n",
       "       'Butterscotch', 'Chocolate chip cookie dough ', 'Oreo', 'Banana',\n",
       "       'Cookies and Cream ', 'Sweet taro', 'Strawberry Cheesecake ',\n",
       "       'wasabi', 'Milk', 'Salted caramel', '💩', 'peanut butter',\n",
       "       'Brownie', 'Peppermint ', 'Cookies n’ Cream', 'coffee ',\n",
       "       'Dulce de leche',\n",
       "       'wintermelon milk green tea 70% sweet less ice with boba',\n",
       "       'Milk & Cereal ', 'Fruit/Lyche', 'Dark chocolate chip ',\n",
       "       'Chocolate Fudge Brownie', 'Rocky Road', 'Caramel Core',\n",
       "       'cookie dough ', \"i don't like ice cream \", 'Mint chip ', 'banana',\n",
       "       'Orange Sherbet', 'Cookie Dough <3', 'honey lavender',\n",
       "       'cookie&cream', 'Matcha/ Green Tea', 'mint chocolate',\n",
       "       'Chocolate/Coffee', 'Anything not too sweet ', 'Captain Crunch ',\n",
       "       'Chocolate Vanilla', \"I don't like ice cream \", 'Peanut Butter',\n",
       "       'Chocolate, green tea!', 'Cookie and Cream', 'Nutty Coconut!',\n",
       "       \"Don't like ice cream\", \"Cookie's n Cream\", 'Red bean', 'matcha',\n",
       "       'Black Sesame', 'Diaper', 'Mint Choclate', 'chocolate ',\n",
       "       'Salted Caramel ', 'Cookie dough ', 'Rocky road',\n",
       "       'Machine Learning', 'oreo', 'Mint with chocolate chip flakes',\n",
       "       'No favorite flavor', 'Wintermelon', 'mint chip', 'Bubble gum',\n",
       "       'cherry vanilla', 'cookies n cream ', 'Sea salt caramel '],\n",
       "      dtype=object)"
      ]
     },
     "execution_count": 61,
     "metadata": {},
     "output_type": "execute_result"
    }
   ],
   "source": [
    "# Check all the different answers we received\n",
    "df['favorite_icecream'].unique()"
   ]
  },
  {
   "cell_type": "code",
   "execution_count": 62,
   "metadata": {},
   "outputs": [],
   "source": [
    "assert standardize_icecream('vanilla') == 'vanilla'\n",
    "assert standardize_icecream('Vanilla') == 'vanilla'\n",
    "assert standardize_icecream(np.nan) == 'nan'\n",
    "\n",
    "# cases that follow instructions\n",
    "assert standardize_icecream('this is not actually a flavor but has the word cream') == 'cookies & cream'\n",
    "assert standardize_icecream('cookies & creme') == 'cookies & cream'\n",
    "assert standardize_icecream('Vanilla ') == 'vanilla'"
   ]
  },
  {
   "cell_type": "code",
   "execution_count": 63,
   "metadata": {},
   "outputs": [
    {
     "data": {
      "text/plain": [
       "'\\n1l) Transform ‘favorite_icecream’ column\\nUse standardize_icecream to transform the data in the ‘favorite_icecream’ column.\\n\\nHint: use the apply function AND remember to save your output inside the dataframe\\n'"
      ]
     },
     "execution_count": 63,
     "metadata": {},
     "output_type": "execute_result"
    }
   ],
   "source": [
    "'''\n",
    "1l) Transform ‘favorite_icecream’ column\n",
    "Use standardize_icecream to transform the data in the ‘favorite_icecream’ column.\n",
    "\n",
    "Hint: use the apply function AND remember to save your output inside the dataframe\n",
    "'''"
   ]
  },
  {
   "cell_type": "code",
   "execution_count": 64,
   "metadata": {},
   "outputs": [],
   "source": [
    "df['favorite_icecream'] = df['favorite_icecream'].apply(standardize_icecream)"
   ]
  },
  {
   "cell_type": "code",
   "execution_count": 65,
   "metadata": {},
   "outputs": [
    {
     "data": {
      "text/plain": [
       "array(['vanilla', 'cookies & cream', 'matcha', 'chocolate',\n",
       "       'mint chocolate chip', 'chocolate chip cookie dough', 'none',\n",
       "       'phish food', 'chocolate chip', 'nan', 'rose', 'moose tracks',\n",
       "       'butterscotch', 'pistachio', 'mocha', 'butter pecan', 'strawberry',\n",
       "       'coffee', 'lemon', 'green tea', 'half baked', 'mango',\n",
       "       'chubby hubby ben and jerrys', 'pecan praline',\n",
       "       'chocolate espresso cookie crumble', 'tofu', 'oreo', 'cake batter',\n",
       "       'earl gray', 'raspberry', 'yogurt or any fruity flavor', 'yams',\n",
       "       'mcvoytek', \"i'm vegan\", 'vanila', 'chocolate carmel', 'green',\n",
       "       'strawberry cheesecake', 'birthday cake', 'green tea mango',\n",
       "       'caramel fudge', 'peanut butter', 'three musketeers', 'almond',\n",
       "       'human', 'original', 'rainbow', 'cherry garcia', 'green teaaa',\n",
       "       'straciatella', 'coconut', 'nutty coconut', 'shorbet', 'banana',\n",
       "       'sweet taro', 'wasabi', 'milk', 'salted caramel', '💩', 'brownie',\n",
       "       'dulce de leche',\n",
       "       'wintermelon milk green tea 70% sweet less ice with boba',\n",
       "       'milk & cereal', 'fruit/lyche', 'dark chocolate chip',\n",
       "       'chocolate fudge brownie', 'rocky road', 'caramel core',\n",
       "       'orange sherbet', 'honey lavender', 'chocolate/coffee',\n",
       "       'anything not too sweet', 'captain crunch',\n",
       "       'chocolate, green tea!', 'nutty coconut!', 'red bean',\n",
       "       'black sesame', 'diaper', 'machine learning', 'wintermelon',\n",
       "       'bubble gum', 'sea salt caramel'], dtype=object)"
      ]
     },
     "execution_count": 65,
     "metadata": {},
     "output_type": "execute_result"
    }
   ],
   "source": [
    "# check output now that we've standardized\n",
    "df['favorite_icecream'].unique()"
   ]
  },
  {
   "cell_type": "code",
   "execution_count": 66,
   "metadata": {},
   "outputs": [],
   "source": [
    "assert df['favorite_icecream'].unique().shape == (82,)"
   ]
  },
  {
   "cell_type": "code",
   "execution_count": 67,
   "metadata": {},
   "outputs": [
    {
     "data": {
      "text/plain": [
       "'\\nSo far, you’ve gotten a taste of what it is like to deal with messy data. It’s not easy, as you can tell.\\n\\nThe last variable we need to standardize for the purposes of our analysis is ‘height’. We will standardize that one for you.\\n\\nDo read the code below and try to understand what it is doing.\\n'"
      ]
     },
     "execution_count": 67,
     "metadata": {},
     "output_type": "execute_result"
    }
   ],
   "source": [
    "'''\n",
    "So far, you’ve gotten a taste of what it is like to deal with messy data. It’s not easy, as you can tell.\n",
    "\n",
    "The last variable we need to standardize for the purposes of our analysis is ‘height’. We will standardize that one for you.\n",
    "\n",
    "Do read the code below and try to understand what it is doing.\n",
    "'''"
   ]
  },
  {
   "cell_type": "code",
   "execution_count": 68,
   "metadata": {},
   "outputs": [
    {
     "data": {
      "text/plain": [
       "array(['5\\'8\"', \"5'8\", '181cm', '5’8', '5\\'10\"', '5\\'11\"', \"5'9\",\n",
       "       '5 ft, 3 in', \"5'10\", '180 cm', '5\\'3\"', '5\\'9\"', '5\\'2\"',\n",
       "       '5ft 5inches', '158cm', '5\\'7\"', '5 feet 8 inches', \"5'7''\",\n",
       "       \"5' 8'' \", '184cm', '5\\' 7\"', '6’2”', \"6'1''\", \"5'11\", '6\\'2\"',\n",
       "       \"5'4\", '170', '177cm', '5\\'6\"', '5’5', \"5'5\", \"6'2\", '171cm',\n",
       "       \"5' 5''\", \"5'2\", '5', \"5'7\", '5\\' 8\"', \"5'3\", '5 feet 7 inches',\n",
       "       '6’0', '5’3', '64 in', \"5' 7''\", '5ft 2in', '6\\'1\"', '66', '173cm',\n",
       "       '5’8”', '5 feet 2 in', '5 7', '6’', '5.4', '6 feet', '5’0”',\n",
       "       '1.6m', '5 ft 2 in', '5\\'1\"', '5’5”', \"5' 8''\", '6\\'4\"', '5\\'8.5\"',\n",
       "       '178 cm', '5\\'5\"', \"6'1\", '5”7’', '174cm', '71', \"5' 1\", '5\\' 6\"',\n",
       "       '5” 4’', '177 cm', '71 inches ', \"5'4''\", '5\\' 4\"', '5 foot 11',\n",
       "       \"5''2'\", '6 feet 0 inches', '67', '167cm', \"5'8''\", '168cm', '5\"8',\n",
       "       '5\\' 10\"', '6ft', '163 cm', '5 Feet 6 inches', '6.1', '5 foot 7',\n",
       "       '5 ft 3', '5 7\"', '5\\'4\"', '172 cm', '5-Jun', '5’ 6’’', '6’0”',\n",
       "       \"5'0\", '6 foot', '6’ 1”', '10-May', \"5'\", '5 ft 8 in',\n",
       "       '5 foot 11 inches', '6', '5’6”', '1.7 m', '178', '5 11', \"5'1\",\n",
       "       '5’4', '5 ft. 9 in', '170 cm ', '6 ft 1 in', '5’9', '5’ 10”',\n",
       "       '6\\' 1\"', '190cm', \"5'8 feet\", '6’q', '5 ft 7 in', '5 foot 10',\n",
       "       '5 foot 8 inches', '5’9”', '161cm', '5 ft', '5’ 5”', '6\\'3\"',\n",
       "       '5’10', '5’6', \"5' 10''\", \"5'11''\", '5 Feet 11 Inches', '5 foot 6',\n",
       "       \"6'3''\", '162 cm', '65in', '5’8.5”', \"5' 1''\", '185 cm',\n",
       "       '6 feet 1 in', '176cm', 'Secret', '5’11', '170 cm', '5 feet 4 in',\n",
       "       \"5'3''\", '5ft 7in', '67in', '5’1', '179cm', '160cm', '5\\'0\"',\n",
       "       \"5'6\", '5 ft 11 in', '164cm', '6 feet 0 inch', '5”6’', '4\\'11\"',\n",
       "       '65 inches', '175cm', '172cm', '189', \"165 cm/5'4'' feet\", '6\\'0\"',\n",
       "       '5ft 6in', '5\\' 6.5\"', '6\\' 1.5\"', '5’2”', '5 ft 8in',\n",
       "       '5 feet and 9 1/2 inches', '5.8', '6\\' 4\"', '5”4', '5 ft 2 in.',\n",
       "       '5’ 2”', '64 inches', '5 ft 3 inches', '5 feet 6 inches', '5’3”',\n",
       "       '5”6', \"6'0\", '186cm', '167', '5’10”', '5 8', '6`1``', '1.6meter',\n",
       "       '5 foot 3 inches', '5.9', '70', '5 ft 7', '5’7’’', '5’ 2',\n",
       "       '5 foot ', '5 ft 10 in', \"6'\", '4’11', \"5'0''\", '5foot 7inch',\n",
       "       '6ft in', '5’7', '5\\' 11\"', '5 10', '176', '5\\' 02\"', '5’1”',\n",
       "       '4’ 11”', '5’ 3.75”', '5 ft 4 in', '4’ 10”', '5 5', '71in', '6’1”'],\n",
       "      dtype=object)"
      ]
     },
     "execution_count": 68,
     "metadata": {},
     "output_type": "execute_result"
    }
   ],
   "source": [
    "# First, we'll look at the possible values for height\n",
    "df['height'].unique()"
   ]
  },
  {
   "cell_type": "code",
   "execution_count": 69,
   "metadata": {},
   "outputs": [
    {
     "data": {
      "text/plain": [
       "'\\nIt seems like we’ll have to handle different measurement systems. Ugh, ok…\\n\\nLet’s write a function that converts all those values to inches.\\n'"
      ]
     },
     "execution_count": 69,
     "metadata": {},
     "output_type": "execute_result"
    }
   ],
   "source": [
    "'''\n",
    "It seems like we’ll have to handle different measurement systems. Ugh, ok…\n",
    "\n",
    "Let’s write a function that converts all those values to inches.\n",
    "'''"
   ]
  },
  {
   "cell_type": "code",
   "execution_count": 70,
   "metadata": {},
   "outputs": [],
   "source": [
    "# convert all values to inches\n",
    "def standardize_height(string):\n",
    "    \n",
    "    orig = string\n",
    "    output = None\n",
    "    \n",
    "    # Basic string pre-processing\n",
    "    string = string.lower()\n",
    "    string = string.strip()\n",
    "    \n",
    "    string = string.replace('foot', 'ft')\n",
    "    string = string.replace('feet', 'ft')\n",
    "    string = string.replace('inches', 'in')\n",
    "    string = string.replace('inch', 'in')\n",
    "    string = string.replace('meters', 'm')\n",
    "    string = string.replace('meter', 'm')\n",
    "    string = string.replace('centimeters', 'cm')\n",
    "    string = string.replace('centimeter', 'cm')\n",
    "    string = string.replace(',', '')\n",
    "    string = string.strip()\n",
    "    \n",
    "    # CASE 1: string is written in the format FEET <DIVIDER> INCHES\n",
    "    dividers = [\"'\", \"ft\", \"’\", '”', '\"','`', \"-\", \"''\"]\n",
    "    \n",
    "    for divider in dividers:\n",
    "        \n",
    "        # Split it into its elements\n",
    "        elements = string.split(divider)\n",
    "\n",
    "        # If the divider creates two elements\n",
    "        if (len(elements) >= 2) and ((len(string) -1) != string.find(divider)):\n",
    "            feet = elements[0]\n",
    "            inch = elements[1] if elements[1] is not '' else '0'\n",
    "            \n",
    "            # Cleaning extranious symbols\n",
    "            for symbol in dividers:\n",
    "                feet = feet.replace(symbol, '')\n",
    "                inch = inch.replace(symbol, '')\n",
    "                inch = inch.replace('in','')\n",
    "            \n",
    "            # Removing whitespace\n",
    "            feet = feet.strip()\n",
    "            inch = inch.strip()\n",
    "            \n",
    "            # By this point, we expect 'feet' and 'inch' to be numeric\n",
    "            # If not...we ignore this case\n",
    "            if feet.replace('.', '').isnumeric() and inch.replace('.', '').isnumeric():\n",
    "                \n",
    "                # Converting feet to inches and adding it to the current inches\n",
    "                output = (float(feet) * 12) + float(inch)\n",
    "                break\n",
    "            \n",
    "    # CASE 2: string is written in the format FEET ft INCHES in \n",
    "    if ('ft' in string) and ('in' in string):\n",
    "        \n",
    "        # Split it into its elements\n",
    "        elements = string.split('ft')\n",
    "        feet = elements[0]\n",
    "        inch = elements[1]\n",
    "        \n",
    "        # Removing extraneous symbols and stripping whitespace\n",
    "        inch = inch.replace('inch', '')\n",
    "        inch = inch.replace('in', '')\n",
    "        feet = feet.strip()\n",
    "        inch = inch.strip()\n",
    "        \n",
    "        # By this point, we expect 'feet' and 'inch' to be numeric\n",
    "        # If not...we ignore this case\n",
    "        if feet.replace('.', '').isnumeric() and inch.replace('.', '').isnumeric():\n",
    "                \n",
    "            # Converting feet to inches and adding it to the current inches\n",
    "            output = (float(feet) * 12) + float(inch)\n",
    "        \n",
    "    # CASE 3: answer was given ONLY in cm\n",
    "    #  Convert to inches: approximately 0.39 inches in a meter\n",
    "    elif 'cm' in string:\n",
    "        centimeters = string.replace('cm', '')\n",
    "        centimeters = centimeters.strip()\n",
    "        \n",
    "        if centimeters.replace('.', '').isnumeric():\n",
    "            output = float(centimeters) * 0.39\n",
    "        \n",
    "    # CASE 4: answer was given ONLY in meters\n",
    "    #  Convert to inches: approximately 39 inches in a meter\n",
    "    elif 'm' in string:\n",
    "        \n",
    "        meters = string.replace('m', '')\n",
    "        meters = meters.strip()\n",
    "        \n",
    "        if meters.replace('.', '').isnumeric():\n",
    "            output = float(meters)*39\n",
    "        \n",
    "    # CASE 5: answer was given ONLY in feet\n",
    "    elif 'ft' in string:\n",
    "\n",
    "        feet = string.replace('ft', '')\n",
    "        feet = feet.strip()\n",
    "        \n",
    "        if feet.replace('.', '').isnumeric():\n",
    "            output = float(feet)*12\n",
    "    \n",
    "    # CASE 6: answer was given ONLY in inches\n",
    "    elif 'in' in string:\n",
    "        inches = string.replace('in', '')\n",
    "        inches = inches.strip()\n",
    "        \n",
    "        if inches.replace('.', '').isnumeric():\n",
    "            output = float(inches)\n",
    "        \n",
    "    # CASE 7: answer not covered by existing scenarios / was invalid. \n",
    "    #  Return NaN\n",
    "    if not output:\n",
    "        output = np.nan\n",
    "\n",
    "    return output"
   ]
  },
  {
   "cell_type": "code",
   "execution_count": 71,
   "metadata": {},
   "outputs": [],
   "source": [
    "# Applying the transformation and dropping invalid rows\n",
    "df['height'] = df['height'].apply(standardize_height)\n",
    "df = df.dropna(subset=['height'])"
   ]
  },
  {
   "cell_type": "code",
   "execution_count": 72,
   "metadata": {},
   "outputs": [
    {
     "data": {
      "text/plain": [
       "array([68.  , 70.59, 70.  , 71.  , 69.  , 63.  , 70.2 , 62.  , 65.  ,\n",
       "       61.62, 67.  , 71.76, 74.  , 73.  , 64.  , 69.03, 66.  , 66.69,\n",
       "       72.  , 67.47, 60.  , 62.4 , 61.  , 76.  , 68.5 , 69.42, 67.86,\n",
       "       65.13, 65.52, 63.57, 67.08, 66.3 , 74.1 , 62.79, 75.  , 63.18,\n",
       "       72.15, 68.64, 69.81, 63.96, 59.  , 68.25, 66.5 , 73.5 , 72.54,\n",
       "       63.75, 58.  ])"
      ]
     },
     "execution_count": 72,
     "metadata": {},
     "output_type": "execute_result"
    }
   ],
   "source": [
    "# Check the height data, after applying our standardization\n",
    "df['height'].unique()"
   ]
  },
  {
   "cell_type": "code",
   "execution_count": 73,
   "metadata": {},
   "outputs": [
    {
     "data": {
      "text/html": [
       "<div>\n",
       "<style scoped>\n",
       "    .dataframe tbody tr th:only-of-type {\n",
       "        vertical-align: middle;\n",
       "    }\n",
       "\n",
       "    .dataframe tbody tr th {\n",
       "        vertical-align: top;\n",
       "    }\n",
       "\n",
       "    .dataframe thead th {\n",
       "        text-align: right;\n",
       "    }\n",
       "</style>\n",
       "<table border=\"1\" class=\"dataframe\">\n",
       "  <thead>\n",
       "    <tr style=\"text-align: right;\">\n",
       "      <th></th>\n",
       "      <th>timestamp</th>\n",
       "      <th>year</th>\n",
       "      <th>major</th>\n",
       "      <th>age</th>\n",
       "      <th>gender</th>\n",
       "      <th>height</th>\n",
       "      <th>weight</th>\n",
       "      <th>eye_color</th>\n",
       "      <th>born_in_CA</th>\n",
       "      <th>favorite_icecream</th>\n",
       "    </tr>\n",
       "  </thead>\n",
       "  <tbody>\n",
       "    <tr>\n",
       "      <th>0</th>\n",
       "      <td>1/9/18 14:49</td>\n",
       "      <td>4.0</td>\n",
       "      <td>COGSCI</td>\n",
       "      <td>21</td>\n",
       "      <td>male</td>\n",
       "      <td>68.00</td>\n",
       "      <td>147.0</td>\n",
       "      <td>Brown</td>\n",
       "      <td>Yes</td>\n",
       "      <td>vanilla</td>\n",
       "    </tr>\n",
       "    <tr>\n",
       "      <th>1</th>\n",
       "      <td>1/9/18 14:49</td>\n",
       "      <td>3.0</td>\n",
       "      <td>COGSCI</td>\n",
       "      <td>20</td>\n",
       "      <td>male</td>\n",
       "      <td>68.00</td>\n",
       "      <td>150.0</td>\n",
       "      <td>Brown</td>\n",
       "      <td>Yes</td>\n",
       "      <td>cookies &amp; cream</td>\n",
       "    </tr>\n",
       "    <tr>\n",
       "      <th>2</th>\n",
       "      <td>1/9/18 14:49</td>\n",
       "      <td>3.0</td>\n",
       "      <td>COMPSCI</td>\n",
       "      <td>21</td>\n",
       "      <td>male</td>\n",
       "      <td>70.59</td>\n",
       "      <td>163.0</td>\n",
       "      <td>Black</td>\n",
       "      <td>Yes</td>\n",
       "      <td>matcha</td>\n",
       "    </tr>\n",
       "    <tr>\n",
       "      <th>3</th>\n",
       "      <td>1/9/18 14:49</td>\n",
       "      <td>2.0</td>\n",
       "      <td>COGSCI</td>\n",
       "      <td>20</td>\n",
       "      <td>male</td>\n",
       "      <td>68.00</td>\n",
       "      <td>133.0</td>\n",
       "      <td>Brown</td>\n",
       "      <td>Yes</td>\n",
       "      <td>cookies &amp; cream</td>\n",
       "    </tr>\n",
       "    <tr>\n",
       "      <th>4</th>\n",
       "      <td>1/9/18 14:49</td>\n",
       "      <td>3.0</td>\n",
       "      <td>COMPSCI</td>\n",
       "      <td>20</td>\n",
       "      <td>male</td>\n",
       "      <td>70.00</td>\n",
       "      <td>160.0</td>\n",
       "      <td>Brown</td>\n",
       "      <td>Yes</td>\n",
       "      <td>cookies &amp; cream</td>\n",
       "    </tr>\n",
       "  </tbody>\n",
       "</table>\n",
       "</div>"
      ],
      "text/plain": [
       "      timestamp  year    major  age gender  height  weight eye_color  \\\n",
       "0  1/9/18 14:49   4.0   COGSCI   21   male   68.00   147.0     Brown   \n",
       "1  1/9/18 14:49   3.0   COGSCI   20   male   68.00   150.0     Brown   \n",
       "2  1/9/18 14:49   3.0  COMPSCI   21   male   70.59   163.0     Black   \n",
       "3  1/9/18 14:49   2.0   COGSCI   20   male   68.00   133.0     Brown   \n",
       "4  1/9/18 14:49   3.0  COMPSCI   20   male   70.00   160.0     Brown   \n",
       "\n",
       "  born_in_CA favorite_icecream  \n",
       "0        Yes           vanilla  \n",
       "1        Yes   cookies & cream  \n",
       "2        Yes            matcha  \n",
       "3        Yes   cookies & cream  \n",
       "4        Yes   cookies & cream  "
      ]
     },
     "execution_count": 73,
     "metadata": {},
     "output_type": "execute_result"
    }
   ],
   "source": [
    "# Ensuring that the data types are correct - type cast age to int.\n",
    "df['age'] = df['age'].astype(np.int64)\n",
    "\n",
    "# Check out the data, after we've cleaned it!\n",
    "df.head()"
   ]
  },
  {
   "cell_type": "code",
   "execution_count": 74,
   "metadata": {},
   "outputs": [],
   "source": [
    "# Check that the dataframe has the right number of rows\n",
    "#  If this doesn't pass - check your code in the section above.\n",
    "assert len(df) == 365"
   ]
  },
  {
   "cell_type": "code",
   "execution_count": 75,
   "metadata": {},
   "outputs": [
    {
     "data": {
      "text/plain": [
       "'\\nPart 2: Exploratory Data Vizualization (0.8 points)\\nFirst, we need to do some exploratory data visualization, to get a feel for the data.\\n\\nFor plotting questions, do not change or move the plt.gcf() lines.\\n\\n2a) Plot the data\\nUsing scatter_matrix, from pandas, plot df. Assign it to a variable called fig.\\n'"
      ]
     },
     "execution_count": 75,
     "metadata": {},
     "output_type": "execute_result"
    }
   ],
   "source": [
    "'''\n",
    "Part 2: Exploratory Data Vizualization (0.8 points)\n",
    "First, we need to do some exploratory data visualization, to get a feel for the data.\n",
    "\n",
    "For plotting questions, do not change or move the plt.gcf() lines.\n",
    "\n",
    "2a) Plot the data\n",
    "Using scatter_matrix, from pandas, plot df. Assign it to a variable called fig.\n",
    "'''"
   ]
  },
  {
   "cell_type": "code",
   "execution_count": 76,
   "metadata": {},
   "outputs": [
    {
     "data": {
      "image/png": "[encoded data removed]",
      "text/plain": [
       "<Figure size 640x480 with 16 Axes>"
      ]
     },
     "metadata": {},
     "output_type": "display_data"
    }
   ],
   "source": [
    "fig = pd.plotting.scatter_matrix(df)"
   ]
  },
  {
   "cell_type": "code",
   "execution_count": 77,
   "metadata": {},
   "outputs": [],
   "source": [
    "assert np.all(fig)"
   ]
  },
  {
   "cell_type": "code",
   "execution_count": 78,
   "metadata": {},
   "outputs": [
    {
     "data": {
      "text/plain": [
       "'\\n2b) Plot a bar chart showing the number of students in each major.\\nHint:\\n\\nif using seaborn, you’re looking to make a countplot\\n\\nif using pandas, you can use value_counts to get the counts for each major. \\nYou can then use the plot method from pandas for plotting (You don’t need matplotlib).\\n'"
      ]
     },
     "execution_count": 78,
     "metadata": {},
     "output_type": "execute_result"
    }
   ],
   "source": [
    "'''\n",
    "2b) Plot a bar chart showing the number of students in each major.\n",
    "Hint:\n",
    "\n",
    "if using seaborn, you’re looking to make a countplot\n",
    "\n",
    "if using pandas, you can use value_counts to get the counts for each major. \n",
    "You can then use the plot method from pandas for plotting (You don’t need matplotlib).\n",
    "'''"
   ]
  },
  {
   "cell_type": "code",
   "execution_count": 79,
   "metadata": {},
   "outputs": [
    {
     "data": {
      "image/png": "[encoded data removed]",
      "text/plain": [
       "<Figure size 640x480 with 1 Axes>"
      ]
     },
     "metadata": {},
     "output_type": "display_data"
    }
   ],
   "source": [
    "df['major'].value_counts().plot(kind='bar')\n",
    "\n",
    "f1 = plt.gcf()"
   ]
  },
  {
   "cell_type": "code",
   "execution_count": 80,
   "metadata": {},
   "outputs": [],
   "source": [
    "assert f1.gca().has_data()"
   ]
  },
  {
   "cell_type": "code",
   "execution_count": 81,
   "metadata": {},
   "outputs": [
    {
     "data": {
      "text/plain": [
       "'\\n2c) Plot a histogram of the height data for all students who wrote ‘COGSCI’ as their major.\\n'"
      ]
     },
     "execution_count": 81,
     "metadata": {},
     "output_type": "execute_result"
    }
   ],
   "source": [
    "'''\n",
    "2c) Plot a histogram of the height data for all students who wrote ‘COGSCI’ as their major.\n",
    "'''"
   ]
  },
  {
   "cell_type": "code",
   "execution_count": 82,
   "metadata": {},
   "outputs": [
    {
     "data": {
      "image/png": "[encoded data removed]",
      "text/plain": [
       "<Figure size 640x480 with 1 Axes>"
      ]
     },
     "metadata": {},
     "output_type": "display_data"
    }
   ],
   "source": [
    "df[df['major'] == 'COGSCI']['height'].value_counts().plot(kind='bar')\n",
    "f2 = plt.gcf()"
   ]
  },
  {
   "cell_type": "code",
   "execution_count": 83,
   "metadata": {},
   "outputs": [],
   "source": [
    "assert f2.gca().has_data()"
   ]
  },
  {
   "cell_type": "code",
   "execution_count": 84,
   "metadata": {},
   "outputs": [
    {
     "data": {
      "text/plain": [
       "'\\n2d) Plot a histogram of the height data for all students who wrote ‘COMPSCI’ as their major.\\n'"
      ]
     },
     "execution_count": 84,
     "metadata": {},
     "output_type": "execute_result"
    }
   ],
   "source": [
    "'''\n",
    "2d) Plot a histogram of the height data for all students who wrote ‘COMPSCI’ as their major.\n",
    "'''"
   ]
  },
  {
   "cell_type": "code",
   "execution_count": 85,
   "metadata": {},
   "outputs": [
    {
     "data": {
      "image/png": "[encoded data removed]",
      "text/plain": [
       "<Figure size 640x480 with 1 Axes>"
      ]
     },
     "metadata": {},
     "output_type": "display_data"
    }
   ],
   "source": [
    "df[df['major'] == 'COMPSCI']['height'].value_counts().plot(kind='bar')\n",
    "f3 = plt.gcf()"
   ]
  },
  {
   "cell_type": "code",
   "execution_count": 86,
   "metadata": {},
   "outputs": [],
   "source": [
    "assert f3.gca().has_data()"
   ]
  },
  {
   "cell_type": "code",
   "execution_count": 87,
   "metadata": {},
   "outputs": [
    {
     "data": {
      "text/plain": [
       "'\\nPart 3: Exploring The Data (0.8 points)\\nBeyond just plotting the data, we should check some other basic properties of the data. \\nThis serves both as a way to get a ‘feel’ for the data, and to look for any quirks or oddities about the data, \\nthat may indicate issues that need resolving. To do this, let’s explore that data a bit \\n(not limiting ourselves to only features that we plan to use - exploring the dataset as a whole can help us find any issues).\\n\\nNotes:\\n\\nYour answers should NOT be pandas objects (Series or DataFrames), extract answers so the variables are ints, \\nfloats or strings (as appropriate).\\n\\nYou must answer these questions programmatically: do not count / check and hard code particular values.\\n\\n3a) How many different majors are in the dataset?\\nSave this number to a variable n_majors.\\n'"
      ]
     },
     "execution_count": 87,
     "metadata": {},
     "output_type": "execute_result"
    }
   ],
   "source": [
    "'''\n",
    "Part 3: Exploring The Data (0.8 points)\n",
    "Beyond just plotting the data, we should check some other basic properties of the data. \n",
    "This serves both as a way to get a ‘feel’ for the data, and to look for any quirks or oddities about the data, \n",
    "that may indicate issues that need resolving. To do this, let’s explore that data a bit \n",
    "(not limiting ourselves to only features that we plan to use - exploring the dataset as a whole can help us find any issues).\n",
    "\n",
    "Notes:\n",
    "\n",
    "Your answers should NOT be pandas objects (Series or DataFrames), extract answers so the variables are ints, \n",
    "floats or strings (as appropriate).\n",
    "\n",
    "You must answer these questions programmatically: do not count / check and hard code particular values.\n",
    "\n",
    "3a) How many different majors are in the dataset?\n",
    "Save this number to a variable n_majors.\n",
    "'''"
   ]
  },
  {
   "cell_type": "code",
   "execution_count": 88,
   "metadata": {},
   "outputs": [],
   "source": [
    "n_majors = len(df['major'].unique())"
   ]
  },
  {
   "cell_type": "code",
   "execution_count": 89,
   "metadata": {},
   "outputs": [],
   "source": [
    "assert n_majors >0 and n_majors < 25"
   ]
  },
  {
   "cell_type": "code",
   "execution_count": 90,
   "metadata": {},
   "outputs": [
    {
     "data": {
      "text/plain": [
       "'\\n3b) What is the range (max value - min value) of ages in the dataset?\\nSave this number to a variable r_age.\\n'"
      ]
     },
     "execution_count": 90,
     "metadata": {},
     "output_type": "execute_result"
    }
   ],
   "source": [
    "'''\n",
    "3b) What is the range (max value - min value) of ages in the dataset?\n",
    "Save this number to a variable r_age.\n",
    "'''"
   ]
  },
  {
   "cell_type": "code",
   "execution_count": 91,
   "metadata": {},
   "outputs": [],
   "source": [
    "r_age = df['age'].max(), df['age'].min()"
   ]
  },
  {
   "cell_type": "code",
   "execution_count": 92,
   "metadata": {},
   "outputs": [],
   "source": [
    "#assert r_age > 0 and r_age < 50 "
   ]
  },
  {
   "cell_type": "code",
   "execution_count": 93,
   "metadata": {},
   "outputs": [
    {
     "data": {
      "text/plain": [
       "'\\n3c) What is the most popular ice cream flavor?\\nSave the ice cream name to the variable f_ice, and the number of people who like it to a variable n_ice.\\n\\nHint: you can get these values using the value_counts method.\\n'"
      ]
     },
     "execution_count": 93,
     "metadata": {},
     "output_type": "execute_result"
    }
   ],
   "source": [
    "'''\n",
    "3c) What is the most popular ice cream flavor?\n",
    "Save the ice cream name to the variable f_ice, and the number of people who like it to a variable n_ice.\n",
    "\n",
    "Hint: you can get these values using the value_counts method.\n",
    "'''"
   ]
  },
  {
   "cell_type": "code",
   "execution_count": 94,
   "metadata": {},
   "outputs": [],
   "source": [
    "n_ice = df['favorite_icecream'].value_counts()[0]\n",
    "f_ice = df['favorite_icecream'].value_counts().index[0]"
   ]
  },
  {
   "cell_type": "code",
   "execution_count": 95,
   "metadata": {},
   "outputs": [],
   "source": [
    "assert n_ice > 0 and n_ice < 50"
   ]
  },
  {
   "cell_type": "code",
   "execution_count": 96,
   "metadata": {},
   "outputs": [],
   "source": [
    "assert f_ice"
   ]
  },
  {
   "cell_type": "code",
   "execution_count": 97,
   "metadata": {},
   "outputs": [
    {
     "data": {
      "text/plain": [
       "'\\n3d) How many people have a unique favorite ice cream? (In other words: how many ice cream flavors are only 1 person’s favorite?)\\nSave this number to a variable u_ice.\\n'"
      ]
     },
     "execution_count": 97,
     "metadata": {},
     "output_type": "execute_result"
    }
   ],
   "source": [
    "'''\n",
    "3d) How many people have a unique favorite ice cream? (In other words: how many ice cream flavors are only 1 person’s favorite?)\n",
    "Save this number to a variable u_ice.\n",
    "'''"
   ]
  },
  {
   "cell_type": "code",
   "execution_count": 98,
   "metadata": {},
   "outputs": [],
   "source": [
    "u_ice = 0\n",
    "for flavor in df['favorite_icecream'].value_counts():\n",
    "    if flavor == 1:\n",
    "        u_ice +=1"
   ]
  },
  {
   "cell_type": "code",
   "execution_count": 99,
   "metadata": {},
   "outputs": [],
   "source": [
    "assert u_ice > 0 and u_ice < 100"
   ]
  },
  {
   "cell_type": "code",
   "execution_count": 100,
   "metadata": {},
   "outputs": [
    {
     "data": {
      "text/plain": [
       "'\\nPart 4: Testing Distributions (0.45 points)\\nSoon, in the data analysis, we will want to run some statistical tests on our data. First, we should check the distributions!\\n\\nWhen using methods / statistical tests that make certain assumptions, \\nit’s always best to explicitly check if your data meet those assumptions (otherwise the results may be invalid). \\nLet’s test if our data are in fact normally distributed.\\n\\nSee an example of how to test the distributions of data in the ‘TestingDistributions’ notebook in Tutorials.\\n\\nFor convenience, and consistency, we’re providing this code to pull out the required data. \\nBe sure to run the following cell and understand what it’s doing.:\\n'"
      ]
     },
     "execution_count": 100,
     "metadata": {},
     "output_type": "execute_result"
    }
   ],
   "source": [
    "'''\n",
    "Part 4: Testing Distributions (0.45 points)\n",
    "Soon, in the data analysis, we will want to run some statistical tests on our data. First, we should check the distributions!\n",
    "\n",
    "When using methods / statistical tests that make certain assumptions, \n",
    "it’s always best to explicitly check if your data meet those assumptions (otherwise the results may be invalid). \n",
    "Let’s test if our data are in fact normally distributed.\n",
    "\n",
    "See an example of how to test the distributions of data in the ‘TestingDistributions’ notebook in Tutorials.\n",
    "\n",
    "For convenience, and consistency, we’re providing this code to pull out the required data. \n",
    "Be sure to run the following cell and understand what it’s doing.:\n",
    "'''"
   ]
  },
  {
   "cell_type": "code",
   "execution_count": 101,
   "metadata": {},
   "outputs": [],
   "source": [
    "h_co = df[df['major'] == 'COGSCI']['height'].values\n",
    "h_cs = df[df['major'] == 'COMPSCI']['height'].values"
   ]
  },
  {
   "cell_type": "code",
   "execution_count": 102,
   "metadata": {},
   "outputs": [
    {
     "data": {
      "text/plain": [
       "'\\n4a) Testing Normality\\nFor each of h_co, and h_cs, use the normaltest function to test for normality of the distribution.\\n\\nnormaltest returns two values: (1) a test statistic and (2) a p-value\\n\\nSave these values as st_co, p_co, st_cs, and p_cs, respectively.\\n'"
      ]
     },
     "execution_count": 102,
     "metadata": {},
     "output_type": "execute_result"
    }
   ],
   "source": [
    "'''\n",
    "4a) Testing Normality\n",
    "For each of h_co, and h_cs, use the normaltest function to test for normality of the distribution.\n",
    "\n",
    "normaltest returns two values: (1) a test statistic and (2) a p-value\n",
    "\n",
    "Save these values as st_co, p_co, st_cs, and p_cs, respectively.\n",
    "'''"
   ]
  },
  {
   "cell_type": "code",
   "execution_count": 103,
   "metadata": {},
   "outputs": [],
   "source": [
    "st_co, p_co = normaltest(h_co)\n",
    "st_cs, p_cs = normaltest(h_cs)"
   ]
  },
  {
   "cell_type": "code",
   "execution_count": 104,
   "metadata": {},
   "outputs": [],
   "source": [
    "assert st_co\n",
    "assert p_co\n",
    "assert st_cs\n",
    "assert p_cs"
   ]
  },
  {
   "cell_type": "code",
   "execution_count": 105,
   "metadata": {},
   "outputs": [
    {
     "data": {
      "text/plain": [
       "'\\nHave a look at the values returned.\\n\\nBased on these results, and using an alpha significance value of 0.01:\\n\\nSet boolean values (True, False) of whether each distribution can be considered to be normally distributed. \\nSet as True if the test supports it is normally distributed (or, more formally, we fail to reject the null hypothesis) \\nand False if the test suggests the data is not normally distributed (we should reject the null hypothesis).\\n\\n4b) Set boolean values, as specified above.\\nFor the h_co data, set a boolean value to the var is_n_co\\n\\nFor the h_cs data, set a boolean value to the var is_n_cs\\n'"
      ]
     },
     "execution_count": 105,
     "metadata": {},
     "output_type": "execute_result"
    }
   ],
   "source": [
    "'''\n",
    "Have a look at the values returned.\n",
    "\n",
    "Based on these results, and using an alpha significance value of 0.01:\n",
    "\n",
    "Set boolean values (True, False) of whether each distribution can be considered to be normally distributed. \n",
    "Set as True if the test supports it is normally distributed (or, more formally, we fail to reject the null hypothesis) \n",
    "and False if the test suggests the data is not normally distributed (we should reject the null hypothesis).\n",
    "\n",
    "4b) Set boolean values, as specified above.\n",
    "For the h_co data, set a boolean value to the var is_n_co\n",
    "\n",
    "For the h_cs data, set a boolean value to the var is_n_cs\n",
    "'''"
   ]
  },
  {
   "cell_type": "code",
   "execution_count": 106,
   "metadata": {},
   "outputs": [],
   "source": [
    "# null hypothesis: h_co and h_cs come from normal distributions\n",
    "alpha = 0.01\n",
    "if p_co < alpha:\n",
    "    is_n_co = True\n",
    "else:\n",
    "    is_n_co = False\n",
    "if p_cs < alpha:\n",
    "    is_n_cs = True\n",
    "else:\n",
    "    is_n_cs = False"
   ]
  },
  {
   "cell_type": "code",
   "execution_count": 107,
   "metadata": {},
   "outputs": [],
   "source": [
    "assert isinstance(is_n_co, bool)\n",
    "assert isinstance(is_n_cs, bool)"
   ]
  },
  {
   "cell_type": "code",
   "execution_count": 108,
   "metadata": {},
   "outputs": [
    {
     "data": {
      "text/plain": [
       "'\\nCO data: plot the comparison of the data and a normal distribution (this code provided)\\n\\nThis plots a histogram, with the hypothetical normal distribution (with same mean and variance)\\n'"
      ]
     },
     "execution_count": 108,
     "metadata": {},
     "output_type": "execute_result"
    }
   ],
   "source": [
    "'''\n",
    "CO data: plot the comparison of the data and a normal distribution (this code provided)\n",
    "\n",
    "This plots a histogram, with the hypothetical normal distribution (with same mean and variance)\n",
    "'''"
   ]
  },
  {
   "cell_type": "code",
   "execution_count": 109,
   "metadata": {},
   "outputs": [
    {
     "data": {
      "image/png": "[encoded data removed]",
      "text/plain": [
       "<Figure size 640x480 with 1 Axes>"
      ]
     },
     "metadata": {},
     "output_type": "display_data"
    }
   ],
   "source": [
    "xs = np.arange(h_co.min(), h_co.max(), 0.1)\n",
    "fit = stats.norm.pdf(xs, np.mean(h_co), np.std(h_co))\n",
    "# most easily done using matplotlib\n",
    "plt.plot(xs, fit, label = 'Normal Dist.', lw = 4)\n",
    "plt.hist(h_co, density = True, label = 'Actual Data');\n",
    "plt.title('Cognitive Science - Height Data')\n",
    "plt.legend();"
   ]
  },
  {
   "cell_type": "code",
   "execution_count": 110,
   "metadata": {},
   "outputs": [
    {
     "data": {
      "text/plain": [
       "'\\nCS data: plot the comparison of the data and a normal distribution (this code provided)\\n\\nThis plots a histogram, with the hypothetical normal distribution (with same mean and variance)\\n'"
      ]
     },
     "execution_count": 110,
     "metadata": {},
     "output_type": "execute_result"
    }
   ],
   "source": [
    "'''\n",
    "CS data: plot the comparison of the data and a normal distribution (this code provided)\n",
    "\n",
    "This plots a histogram, with the hypothetical normal distribution (with same mean and variance)\n",
    "'''"
   ]
  },
  {
   "cell_type": "code",
   "execution_count": 111,
   "metadata": {},
   "outputs": [
    {
     "data": {
      "image/png": "[encoded data removed]",
      "text/plain": [
       "<Figure size 640x480 with 1 Axes>"
      ]
     },
     "metadata": {},
     "output_type": "display_data"
    }
   ],
   "source": [
    "xs = np.arange(h_cs.min(), h_cs.max(), 0.1)\n",
    "fit = stats.norm.pdf(xs, np.mean(h_cs), np.std(h_cs))\n",
    "plt.plot(xs, fit, label = 'Normal Dist.', lw = 4)\n",
    "plt.hist(h_cs, density = True, label = 'Actual Data');\n",
    "plt.title('Computer Science - Height Data')\n",
    "plt.legend();"
   ]
  },
  {
   "cell_type": "code",
   "execution_count": 112,
   "metadata": {},
   "outputs": [
    {
     "data": {
      "text/plain": [
       "'\\nPart 5: Data Analysis (2.4 points)\\nNow let’s analyze the data, to address our research question.\\n\\nFor the purposes of this analysis, let’s assume we need at least 75 students per major to analyze the height data.\\n\\nThis means we are only going to use data from people who wrote ‘COGSCI’ or ‘COMPSCI’ as their major.\\n\\n5a) Pull out the data we are going to use:\\nSave the height data for all ‘COGSCI’ majors to a variable called h_co\\n\\nSave the height data for all ‘COMPSCI’ majors to a variable called h_cs\\n'"
      ]
     },
     "execution_count": 112,
     "metadata": {},
     "output_type": "execute_result"
    }
   ],
   "source": [
    "'''\n",
    "Part 5: Data Analysis (2.4 points)\n",
    "Now let’s analyze the data, to address our research question.\n",
    "\n",
    "For the purposes of this analysis, let’s assume we need at least 75 students per major to analyze the height data.\n",
    "\n",
    "This means we are only going to use data from people who wrote ‘COGSCI’ or ‘COMPSCI’ as their major.\n",
    "\n",
    "5a) Pull out the data we are going to use:\n",
    "Save the height data for all ‘COGSCI’ majors to a variable called h_co\n",
    "\n",
    "Save the height data for all ‘COMPSCI’ majors to a variable called h_cs\n",
    "'''"
   ]
  },
  {
   "cell_type": "code",
   "execution_count": 113,
   "metadata": {},
   "outputs": [],
   "source": [
    "h_co = df[df['major'] == 'COGSCI']\n",
    "h_cs = df[df['major'] == 'COMPSCI']"
   ]
  },
  {
   "cell_type": "code",
   "execution_count": 114,
   "metadata": {},
   "outputs": [],
   "source": [
    "assert np.all(h_co)\n",
    "assert np.all(h_cs)\n",
    "\n",
    "assert len(h_co) == 178\n",
    "assert len(h_cs) == 164"
   ]
  },
  {
   "cell_type": "code",
   "execution_count": 115,
   "metadata": {},
   "outputs": [
    {
     "data": {
      "text/plain": [
       "'\\n5b) What is the average (mean) height for students from each major?\\nSave these values to avg_h_co for COGSCI students, and avg_h_cs for COMPSCI students.\\n'"
      ]
     },
     "execution_count": 115,
     "metadata": {},
     "output_type": "execute_result"
    }
   ],
   "source": [
    "'''\n",
    "5b) What is the average (mean) height for students from each major?\n",
    "Save these values to avg_h_co for COGSCI students, and avg_h_cs for COMPSCI students.\n",
    "'''"
   ]
  },
  {
   "cell_type": "code",
   "execution_count": 116,
   "metadata": {},
   "outputs": [],
   "source": [
    "avg_h_co = h_co['height'].mean()\n",
    "avg_h_cs = h_cs['height'].mean()"
   ]
  },
  {
   "cell_type": "code",
   "execution_count": 117,
   "metadata": {},
   "outputs": [],
   "source": [
    "assert avg_h_co\n",
    "assert avg_h_cs"
   ]
  },
  {
   "cell_type": "code",
   "execution_count": 118,
   "metadata": {},
   "outputs": [
    {
     "name": "stdout",
     "output_type": "stream",
     "text": [
      "Average height of cogs majors is \t 66.81 inches\n",
      "Average height of cs majors is \t\t 68.21 inches\n"
     ]
    }
   ],
   "source": [
    "# Print out the average heights - this code provided\n",
    "print('Average height of cogs majors is \\t {:2.2f} inches'.format(avg_h_co))\n",
    "print('Average height of cs majors is \\t\\t {:2.2f} inches'.format(avg_h_cs))"
   ]
  },
  {
   "cell_type": "code",
   "execution_count": 119,
   "metadata": {},
   "outputs": [
    {
     "data": {
      "text/plain": [
       "'\\nBased on the cell above, it looks like there might indeed be a difference in the average height for students in cogs vs cs majors.\\n\\nNow we want to statistically test this difference. To do so, we will use a t-test.\\n\\n5c) Compare distributions: t-test\\nUse the ttest_ind function) to compare the two height distributions (h_co vs h_cs)\\n\\nttest_ind returns a t-statistic, and a p-value. Save these outputs to t_val and p_val respectively.\\n'"
      ]
     },
     "execution_count": 119,
     "metadata": {},
     "output_type": "execute_result"
    }
   ],
   "source": [
    "'''\n",
    "Based on the cell above, it looks like there might indeed be a difference in the average height for students in cogs vs cs majors.\n",
    "\n",
    "Now we want to statistically test this difference. To do so, we will use a t-test.\n",
    "\n",
    "5c) Compare distributions: t-test\n",
    "Use the ttest_ind function) to compare the two height distributions (h_co vs h_cs)\n",
    "\n",
    "ttest_ind returns a t-statistic, and a p-value. Save these outputs to t_val and p_val respectively.\n",
    "'''"
   ]
  },
  {
   "cell_type": "code",
   "execution_count": 120,
   "metadata": {},
   "outputs": [],
   "source": [
    "t_val, p_val = ttest_ind(h_co['height'], h_cs['height'])"
   ]
  },
  {
   "cell_type": "code",
   "execution_count": 121,
   "metadata": {},
   "outputs": [],
   "source": [
    "assert t_val\n",
    "assert p_val"
   ]
  },
  {
   "cell_type": "code",
   "execution_count": 122,
   "metadata": {},
   "outputs": [
    {
     "name": "stdout",
     "output_type": "stream",
     "text": [
      "Data Science accomplished, there is a significant difference!\n"
     ]
    }
   ],
   "source": [
    "# Check if statistical test passes significance, using an alpha value of 0.01. This code provided.\n",
    "if p_val < 0.01:\n",
    "    print('Data Science accomplished, there is a significant difference!')\n",
    "else:\n",
    "    print('There is NOT a significant difference!')\n",
    "    \n",
    "# Editorial note:\n",
    "#  Chasing significant p-values as the goal itself is not actually a good way to do data (or any) science :)"
   ]
  },
  {
   "cell_type": "code",
   "execution_count": 123,
   "metadata": {},
   "outputs": [
    {
     "data": {
      "text/plain": [
       "'\\nNote: this test should pass significance. If it doesn’t, double check your code up until this point.\\n\\nSo - we’ve reached a conclusion! We’re done right!?\\n\\nNope. We have a first pass analysis, and an interim conclusion that happens to follow our hypothesis.\\n\\nNow let’s try to break it.\\n\\nLet’s explore some more\\nYou should always interrogate your findings, however they come out. What could be some alternate explanations, \\nthat would change our interpretations of the current analysis?\\n\\nIn this case, we should be worried about confounding variables. We want to be able to say whether height relates to major specifically, \\nbut it could be the case that some other variable, that happens to differ between majors, better explains the differences in height.\\n\\nIn this case, we also have data on gender. Let’s check if differences in the gender ratio of the two majors can explain \\nthe difference in height.\\n\\n5d) Digging Deeper\\nUsing value_counts from pandas, extract the number of ‘male’ and ‘female’, separately for cogs and cs students.\\n\\nTo do so:\\n\\nselect from the df each major, separately, extract the gender column, and use the value_counts method.\\n\\nSave the counts for each gender for ‘COGSCI’ majors to a variable called g_co\\n\\nSave the counts for each gender for ‘COMPSCI’ majors to a variable called g_cs\\n'"
      ]
     },
     "execution_count": 123,
     "metadata": {},
     "output_type": "execute_result"
    }
   ],
   "source": [
    "'''\n",
    "Note: this test should pass significance. If it doesn’t, double check your code up until this point.\n",
    "\n",
    "So - we’ve reached a conclusion! We’re done right!?\n",
    "\n",
    "Nope. We have a first pass analysis, and an interim conclusion that happens to follow our hypothesis.\n",
    "\n",
    "Now let’s try to break it.\n",
    "\n",
    "Let’s explore some more\n",
    "You should always interrogate your findings, however they come out. What could be some alternate explanations, \n",
    "that would change our interpretations of the current analysis?\n",
    "\n",
    "In this case, we should be worried about confounding variables. We want to be able to say whether height relates to major specifically, \n",
    "but it could be the case that some other variable, that happens to differ between majors, better explains the differences in height.\n",
    "\n",
    "In this case, we also have data on gender. Let’s check if differences in the gender ratio of the two majors can explain \n",
    "the difference in height.\n",
    "\n",
    "5d) Digging Deeper\n",
    "Using value_counts from pandas, extract the number of ‘male’ and ‘female’, separately for cogs and cs students.\n",
    "\n",
    "To do so:\n",
    "\n",
    "select from the df each major, separately, extract the gender column, and use the value_counts method.\n",
    "\n",
    "Save the counts for each gender for ‘COGSCI’ majors to a variable called g_co\n",
    "\n",
    "Save the counts for each gender for ‘COMPSCI’ majors to a variable called g_cs\n",
    "'''"
   ]
  },
  {
   "cell_type": "code",
   "execution_count": 124,
   "metadata": {},
   "outputs": [],
   "source": [
    "g_co = df[df['major'] == 'COGSCI']['gender'].value_counts()\n",
    "g_cs = df[df['major'] == 'COMPSCI']['gender'].value_counts()"
   ]
  },
  {
   "cell_type": "code",
   "execution_count": 125,
   "metadata": {},
   "outputs": [],
   "source": [
    "assert np.all(g_co)\n",
    "assert np.all(g_cs)\n",
    "\n",
    "assert g_co[0] == 91\n",
    "assert g_cs[1] == 38\n",
    "assert g_cs[2] == 1"
   ]
  },
  {
   "cell_type": "code",
   "execution_count": 126,
   "metadata": {},
   "outputs": [
    {
     "data": {
      "text/plain": [
       "'\\n5e) What is the ratio of women in each major?\\nBy ratio, we mean the proportion of students that are female, as a ratio. This will be a value between 0.0 and 1.0, \\ncalculated as #F / (#F + #M + #nonbinary_or_other) - done separately for each major\\n\\nYou can use the g_co and g_cs variables to calculate these.\\n\\nSave the ratio of women in COGSCI to a variable r_co.\\n\\nSave the ratio of women in COMPSCI to a variable r_cs.\\n\\nNote: keep these numbers as ratios (they should be decimal numbers, less than 1).\\n'"
      ]
     },
     "execution_count": 126,
     "metadata": {},
     "output_type": "execute_result"
    }
   ],
   "source": [
    "'''\n",
    "5e) What is the ratio of women in each major?\n",
    "By ratio, we mean the proportion of students that are female, as a ratio. This will be a value between 0.0 and 1.0, \n",
    "calculated as #F / (#F + #M + #nonbinary_or_other) - done separately for each major\n",
    "\n",
    "You can use the g_co and g_cs variables to calculate these.\n",
    "\n",
    "Save the ratio of women in COGSCI to a variable r_co.\n",
    "\n",
    "Save the ratio of women in COMPSCI to a variable r_cs.\n",
    "\n",
    "Note: keep these numbers as ratios (they should be decimal numbers, less than 1).\n",
    "'''"
   ]
  },
  {
   "cell_type": "code",
   "execution_count": 127,
   "metadata": {},
   "outputs": [
    {
     "name": "stdout",
     "output_type": "stream",
     "text": [
      "0.48314606741573035 0.23170731707317074\n"
     ]
    }
   ],
   "source": [
    "r_co = g_co['female'] / g_co.sum()\n",
    "r_cs = g_cs['female'] / g_cs.sum()\n",
    "print(r_co, r_cs)"
   ]
  },
  {
   "cell_type": "code",
   "execution_count": 128,
   "metadata": {},
   "outputs": [],
   "source": [
    "assert r_co\n",
    "assert r_cs"
   ]
  },
  {
   "cell_type": "code",
   "execution_count": 129,
   "metadata": {},
   "outputs": [
    {
     "data": {
      "text/plain": [
       "'\\nMake sure you print out and check the values of these ratios. They seem pretty different.\\n\\nWe can actually ask, using a chi-squared test, whether this difference in gender-ratio between the majors is signficantly different.\\n\\nCode to do this is provided below.\\n\\nRun a chi-squared test of the difference of ratios of categorical data between groups:\\n'"
      ]
     },
     "execution_count": 129,
     "metadata": {},
     "output_type": "execute_result"
    }
   ],
   "source": [
    "'''\n",
    "Make sure you print out and check the values of these ratios. They seem pretty different.\n",
    "\n",
    "We can actually ask, using a chi-squared test, whether this difference in gender-ratio between the majors is signficantly different.\n",
    "\n",
    "Code to do this is provided below.\n",
    "\n",
    "Run a chi-squared test of the difference of ratios of categorical data between groups:\n",
    "'''"
   ]
  },
  {
   "cell_type": "code",
   "execution_count": 130,
   "metadata": {},
   "outputs": [
    {
     "name": "stdout",
     "output_type": "stream",
     "text": [
      "There is a significant difference in ratios!\n"
     ]
    }
   ],
   "source": [
    "chisq, p_val_chi = stats.chisquare(np.array([g_co.values, g_cs.values]), axis=None)\n",
    "\n",
    "if p_val_chi < 0.01:\n",
    "    print('There is a significant difference in ratios!')"
   ]
  },
  {
   "cell_type": "code",
   "execution_count": 131,
   "metadata": {},
   "outputs": [
    {
     "data": {
      "text/plain": [
       "'\\n5f) Subsetting data\\nCreate a new dataframe, called df2, which only includes data from ‘COGSCI’ and ‘COMPSCI’ majors.\\n\\nHint: you can do this using the or operater ‘|’, with loc.\\n'"
      ]
     },
     "execution_count": 131,
     "metadata": {},
     "output_type": "execute_result"
    }
   ],
   "source": [
    "'''\n",
    "5f) Subsetting data\n",
    "Create a new dataframe, called df2, which only includes data from ‘COGSCI’ and ‘COMPSCI’ majors.\n",
    "\n",
    "Hint: you can do this using the or operater ‘|’, with loc.\n",
    "'''"
   ]
  },
  {
   "cell_type": "code",
   "execution_count": 132,
   "metadata": {},
   "outputs": [],
   "source": [
    "df2 = df.loc[(df['major'] == 'COGSCI') | (df['major'] == 'COMPSCI')]"
   ]
  },
  {
   "cell_type": "code",
   "execution_count": 133,
   "metadata": {},
   "outputs": [],
   "source": [
    "assert isinstance(df2, pd.DataFrame)\n",
    "assert df2.shape == (342, 10)\n",
    "assert set(df2['major']) == set(['COGSCI', 'COMPSCI'])"
   ]
  },
  {
   "cell_type": "code",
   "execution_count": 134,
   "metadata": {},
   "outputs": [
    {
     "data": {
      "text/plain": [
       "'\\n5g) Pivot Tables\\nAnother way to look at these kinds of comparisons is pivot tables.\\n\\nUse the pandas pivot_table method to create a pivot table, assign it to a variable pv.\\n\\nSet the values as ‘height’, and the indices as ‘gender’ and ‘major’ in the pivot table.\\n\\nMake sure you do this using df2.\\n'"
      ]
     },
     "execution_count": 134,
     "metadata": {},
     "output_type": "execute_result"
    }
   ],
   "source": [
    "'''\n",
    "5g) Pivot Tables\n",
    "Another way to look at these kinds of comparisons is pivot tables.\n",
    "\n",
    "Use the pandas pivot_table method to create a pivot table, assign it to a variable pv.\n",
    "\n",
    "Set the values as ‘height’, and the indices as ‘gender’ and ‘major’ in the pivot table.\n",
    "\n",
    "Make sure you do this using df2.\n",
    "'''"
   ]
  },
  {
   "cell_type": "code",
   "execution_count": 135,
   "metadata": {},
   "outputs": [],
   "source": [
    "pv = df2.pivot_table(values='height', index=['gender', 'major'])"
   ]
  },
  {
   "cell_type": "code",
   "execution_count": 136,
   "metadata": {},
   "outputs": [
    {
     "data": {
      "text/plain": [
       "Index(['female', 'male', 'nonbinary_or_trans'], dtype='object', name='gender')"
      ]
     },
     "execution_count": 136,
     "metadata": {},
     "output_type": "execute_result"
    }
   ],
   "source": [
    "pv.index.levels[0]"
   ]
  },
  {
   "cell_type": "code",
   "execution_count": 137,
   "metadata": {},
   "outputs": [],
   "source": [
    "assert np.all(pv)\n",
    "assert isinstance(pv.index, pd.MultiIndex)"
   ]
  },
  {
   "cell_type": "code",
   "execution_count": 138,
   "metadata": {},
   "outputs": [
    {
     "data": {
      "text/html": [
       "<div>\n",
       "<style scoped>\n",
       "    .dataframe tbody tr th:only-of-type {\n",
       "        vertical-align: middle;\n",
       "    }\n",
       "\n",
       "    .dataframe tbody tr th {\n",
       "        vertical-align: top;\n",
       "    }\n",
       "\n",
       "    .dataframe thead th {\n",
       "        text-align: right;\n",
       "    }\n",
       "</style>\n",
       "<table border=\"1\" class=\"dataframe\">\n",
       "  <thead>\n",
       "    <tr style=\"text-align: right;\">\n",
       "      <th></th>\n",
       "      <th></th>\n",
       "      <th>height</th>\n",
       "    </tr>\n",
       "    <tr>\n",
       "      <th>gender</th>\n",
       "      <th>major</th>\n",
       "      <th></th>\n",
       "    </tr>\n",
       "  </thead>\n",
       "  <tbody>\n",
       "    <tr>\n",
       "      <th rowspan=\"2\" valign=\"top\">female</th>\n",
       "      <th>COGSCI</th>\n",
       "      <td>63.743023</td>\n",
       "    </tr>\n",
       "    <tr>\n",
       "      <th>COMPSCI</th>\n",
       "      <td>64.061842</td>\n",
       "    </tr>\n",
       "    <tr>\n",
       "      <th rowspan=\"2\" valign=\"top\">male</th>\n",
       "      <th>COGSCI</th>\n",
       "      <td>69.734505</td>\n",
       "    </tr>\n",
       "    <tr>\n",
       "      <th>COMPSCI</th>\n",
       "      <td>69.502960</td>\n",
       "    </tr>\n",
       "    <tr>\n",
       "      <th rowspan=\"2\" valign=\"top\">nonbinary_or_trans</th>\n",
       "      <th>COGSCI</th>\n",
       "      <td>65.000000</td>\n",
       "    </tr>\n",
       "    <tr>\n",
       "      <th>COMPSCI</th>\n",
       "      <td>64.000000</td>\n",
       "    </tr>\n",
       "  </tbody>\n",
       "</table>\n",
       "</div>"
      ],
      "text/plain": [
       "                               height\n",
       "gender             major             \n",
       "female             COGSCI   63.743023\n",
       "                   COMPSCI  64.061842\n",
       "male               COGSCI   69.734505\n",
       "                   COMPSCI  69.502960\n",
       "nonbinary_or_trans COGSCI   65.000000\n",
       "                   COMPSCI  64.000000"
      ]
     },
     "execution_count": 138,
     "metadata": {},
     "output_type": "execute_result"
    }
   ],
   "source": [
    "'''\n",
    "Print out the pivot table you just created.\n",
    "\n",
    "Compare the average height values, split up by major and gender.\n",
    "\n",
    "Does it look like there are differences in heights by major, when spit up by gender?\n",
    "'''\n",
    "pv\n",
    "\n",
    "# No, it does not."
   ]
  },
  {
   "cell_type": "code",
   "execution_count": 139,
   "metadata": {},
   "outputs": [
    {
     "data": {
      "text/plain": [
       "'\\nLet’s recap where we are:\\n\\nOur initial hypothesis suggested there is a significant difference between heights of people in different majors.\\n\\nHowever, further analyses suggested there may be a confounding variable, as there is also a significantly different \\ngender balance between majors.\\n\\nChecking the average height, per major, split up by gender, suggests there may not be a difference between major, \\nother than what is explained by gender.\\n\\nNow we want to statistically ask this question: is there still a difference in height between majors, \\nwhen controlling for differences in gender?\\n\\nLinear Models\\nFor the following question you will need to make some linear models, using Ordinary Least Squares (OLS).\\n\\nThere is more than one way to do this in Python. For the purposes of this assignment, \\nyou must use the method that is outlined in the ‘LinearModels’ Tutorial, using patsy, and statsmodels.\\n\\nThat is:\\n\\nCreate design matrices with patsy.dmatrices\\n\\nInitialize an OLS model with sm.OLS\\n\\nFit the OLS model\\n\\nCheck the summary for results.\\n\\n5h) Linear model\\nCreate a linear model to predict height from major (using df2 as data).\\n\\nUse patsy.dmatrices to create the design matrices, calling the outputs outcome_1, predictors_1.\\n\\nCreate an OLS model (sm.OLS) using outcome_1 and predictors_1. Call it mod_1.\\n\\nFit the model, assigning it to res_1.\\n'"
      ]
     },
     "execution_count": 139,
     "metadata": {},
     "output_type": "execute_result"
    }
   ],
   "source": [
    "'''\n",
    "Let’s recap where we are:\n",
    "\n",
    "Our initial hypothesis suggested there is a significant difference between heights of people in different majors.\n",
    "\n",
    "However, further analyses suggested there may be a confounding variable, as there is also a significantly different \n",
    "gender balance between majors.\n",
    "\n",
    "Checking the average height, per major, split up by gender, suggests there may not be a difference between major, \n",
    "other than what is explained by gender.\n",
    "\n",
    "Now we want to statistically ask this question: is there still a difference in height between majors, \n",
    "when controlling for differences in gender?\n",
    "\n",
    "Linear Models\n",
    "For the following question you will need to make some linear models, using Ordinary Least Squares (OLS).\n",
    "\n",
    "There is more than one way to do this in Python. For the purposes of this assignment, \n",
    "you must use the method that is outlined in the ‘LinearModels’ Tutorial, using patsy, and statsmodels.\n",
    "\n",
    "That is:\n",
    "\n",
    "Create design matrices with patsy.dmatrices\n",
    "\n",
    "Initialize an OLS model with sm.OLS\n",
    "\n",
    "Fit the OLS model\n",
    "\n",
    "Check the summary for results.\n",
    "\n",
    "5h) Linear model\n",
    "Create a linear model to predict height from major (using df2 as data).\n",
    "\n",
    "Use patsy.dmatrices to create the design matrices, calling the outputs outcome_1, predictors_1.\n",
    "\n",
    "Create an OLS model (sm.OLS) using outcome_1 and predictors_1. Call it mod_1.\n",
    "\n",
    "Fit the model, assigning it to res_1.\n",
    "'''"
   ]
  },
  {
   "cell_type": "code",
   "execution_count": 140,
   "metadata": {},
   "outputs": [],
   "source": [
    "outcome_1, predictors_1 = patsy.dmatrices(\"df2['height'] ~ df2['major']\", df2)"
   ]
  },
  {
   "cell_type": "code",
   "execution_count": 141,
   "metadata": {},
   "outputs": [],
   "source": [
    "mod_1 = sm.OLS(outcome_1, predictors_1)\n",
    "res_1 = mod_1.fit()"
   ]
  },
  {
   "cell_type": "code",
   "execution_count": 142,
   "metadata": {},
   "outputs": [],
   "source": [
    "assert isinstance(outcome_1, patsy.design_info.DesignMatrix)\n",
    "assert isinstance(predictors_1, patsy.design_info.DesignMatrix)\n",
    "assert isinstance(mod_1, sm.regression.linear_model.OLS)\n",
    "assert isinstance(res_1, sm.regression.linear_model.RegressionResultsWrapper)"
   ]
  },
  {
   "cell_type": "code",
   "execution_count": 143,
   "metadata": {},
   "outputs": [
    {
     "data": {
      "text/plain": [
       "'\\n5i) Assess significance: mod_1\\n\\nBased on the model you ran above (using alpha value of 0.01), does major significantly predict height?\\n\\nSet your answer as a boolean (True / False) to a variable called lm_1.\\n'"
      ]
     },
     "execution_count": 143,
     "metadata": {},
     "output_type": "execute_result"
    }
   ],
   "source": [
    "'''\n",
    "5i) Assess significance: mod_1\n",
    "\n",
    "Based on the model you ran above (using alpha value of 0.01), does major significantly predict height?\n",
    "\n",
    "Set your answer as a boolean (True / False) to a variable called lm_1.\n",
    "'''"
   ]
  },
  {
   "cell_type": "code",
   "execution_count": 144,
   "metadata": {},
   "outputs": [
    {
     "name": "stdout",
     "output_type": "stream",
     "text": [
      "                            OLS Regression Results                            \n",
      "==============================================================================\n",
      "Dep. Variable:          df2['height']   R-squared:                       0.033\n",
      "Model:                            OLS   Adj. R-squared:                  0.030\n",
      "Method:                 Least Squares   F-statistic:                     11.44\n",
      "Date:                Tue, 31 Jan 2023   Prob (F-statistic):           0.000803\n",
      "Time:                        18:51:05   Log-Likelihood:                -941.95\n",
      "No. Observations:                 342   AIC:                             1888.\n",
      "Df Residuals:                     340   BIC:                             1896.\n",
      "Df Model:                           1                                         \n",
      "Covariance Type:            nonrobust                                         \n",
      "===========================================================================================\n",
      "                              coef    std err          t      P>|t|      [0.005      0.995]\n",
      "-------------------------------------------------------------------------------------------\n",
      "Intercept                  66.8131      0.286    233.825      0.000      66.073      67.553\n",
      "df2['major'][T.COMPSCI]     1.3955      0.413      3.382      0.001       0.327       2.464\n",
      "==============================================================================\n",
      "Omnibus:                       13.358   Durbin-Watson:                   1.895\n",
      "Prob(Omnibus):                  0.001   Jarque-Bera (JB):                6.324\n",
      "Skew:                           0.041   Prob(JB):                       0.0423\n",
      "Kurtosis:                       2.339   Cond. No.                         2.57\n",
      "==============================================================================\n",
      "\n",
      "Notes:\n",
      "[1] Standard Errors assume that the covariance matrix of the errors is correctly specified.\n"
     ]
    }
   ],
   "source": [
    "print(res_1.summary(alpha=0.01))"
   ]
  },
  {
   "cell_type": "code",
   "execution_count": 145,
   "metadata": {},
   "outputs": [],
   "source": [
    "# R-squared value is very low. This means major doesn't significantly predict height\n",
    "if res_1.rsquared < 0.5:\n",
    "    lm_1 = False\n",
    "else:\n",
    "    lm_1 = True"
   ]
  },
  {
   "cell_type": "code",
   "execution_count": 146,
   "metadata": {},
   "outputs": [],
   "source": [
    "assert isinstance(lm_1, bool)"
   ]
  },
  {
   "cell_type": "code",
   "execution_count": 147,
   "metadata": {},
   "outputs": [
    {
     "data": {
      "text/plain": [
       "'\\n5j) Multivariate regression\\n\\nCreate a linear model to predict height from both major and gender (using df2 as data).\\n\\nUse patsy.dmatrices to create the design matrices, calling the outputs outcome_2, predictors_2\\n\\nCreate an OLS model (sm.OLS) using outcome_2 and predictors_2. Call it mod_2.\\n\\nFit the model, assigning it to res_2.\\n'"
      ]
     },
     "execution_count": 147,
     "metadata": {},
     "output_type": "execute_result"
    }
   ],
   "source": [
    "'''\n",
    "5j) Multivariate regression\n",
    "\n",
    "Create a linear model to predict height from both major and gender (using df2 as data).\n",
    "\n",
    "Use patsy.dmatrices to create the design matrices, calling the outputs outcome_2, predictors_2\n",
    "\n",
    "Create an OLS model (sm.OLS) using outcome_2 and predictors_2. Call it mod_2.\n",
    "\n",
    "Fit the model, assigning it to res_2.\n",
    "'''"
   ]
  },
  {
   "cell_type": "code",
   "execution_count": 157,
   "metadata": {},
   "outputs": [],
   "source": [
    "outcome_2, predictors_2 = patsy.dmatrices(\"df2['height'] ~ df2['gender'] + df2['major']\", df2)\n",
    "mod_2 = sm.OLS(outcome_2, predictors_2)\n",
    "res_2 = mod_2.fit()"
   ]
  },
  {
   "cell_type": "code",
   "execution_count": 158,
   "metadata": {},
   "outputs": [],
   "source": [
    "assert isinstance(outcome_2, patsy.design_info.DesignMatrix)\n",
    "assert isinstance(predictors_2, patsy.design_info.DesignMatrix)\n",
    "assert isinstance(mod_2, sm.regression.linear_model.OLS)\n",
    "assert isinstance(res_2, sm.regression.linear_model.RegressionResultsWrapper)"
   ]
  },
  {
   "cell_type": "code",
   "execution_count": 159,
   "metadata": {},
   "outputs": [
    {
     "name": "stdout",
     "output_type": "stream",
     "text": [
      "                            OLS Regression Results                            \n",
      "==============================================================================\n",
      "Dep. Variable:          df2['height']   R-squared:                       0.515\n",
      "Model:                            OLS   Adj. R-squared:                  0.511\n",
      "Method:                 Least Squares   F-statistic:                     119.7\n",
      "Date:                Tue, 31 Jan 2023   Prob (F-statistic):           7.59e-53\n",
      "Time:                        19:45:01   Log-Likelihood:                -823.79\n",
      "No. Observations:                 342   AIC:                             1656.\n",
      "Df Residuals:                     338   BIC:                             1671.\n",
      "Df Model:                           3                                         \n",
      "Covariance Type:            nonrobust                                         \n",
      "=======================================================================================================\n",
      "                                          coef    std err          t      P>|t|      [0.025      0.975]\n",
      "-------------------------------------------------------------------------------------------------------\n",
      "Intercept                              63.8573      0.260    245.373      0.000      63.345      64.369\n",
      "df2['gender'][T.male]                   5.7745      0.316     18.277      0.000       5.153       6.396\n",
      "df2['gender'][T.nonbinary_or_trans]     0.6697      1.930      0.347      0.729      -3.127       4.466\n",
      "df2['major'][T.COMPSCI]                -0.0540      0.304     -0.178      0.859      -0.651       0.543\n",
      "==============================================================================\n",
      "Omnibus:                       14.324   Durbin-Watson:                   1.982\n",
      "Prob(Omnibus):                  0.001   Jarque-Bera (JB):                6.810\n",
      "Skew:                           0.083   Prob(JB):                       0.0332\n",
      "Kurtosis:                       2.329   Cond. No.                         17.5\n",
      "==============================================================================\n",
      "\n",
      "Notes:\n",
      "[1] Standard Errors assume that the covariance matrix of the errors is correctly specified.\n"
     ]
    }
   ],
   "source": [
    "# Print out the results \n",
    "print(res_2.summary())"
   ]
  },
  {
   "cell_type": "code",
   "execution_count": 160,
   "metadata": {},
   "outputs": [
    {
     "data": {
      "text/plain": [
       "'\\n5k) Assess significance: mod_2\\n\\nBased on the model you ran above (using alpha value of 0.01), does major significantly predict height?\\n\\nSet your answer as a boolean (True / False) to a variable called lm_2\\n'"
      ]
     },
     "execution_count": 160,
     "metadata": {},
     "output_type": "execute_result"
    }
   ],
   "source": [
    "'''\n",
    "5k) Assess significance: mod_2\n",
    "\n",
    "Based on the model you ran above (using alpha value of 0.01), does major significantly predict height?\n",
    "\n",
    "Set your answer as a boolean (True / False) to a variable called lm_2\n",
    "'''"
   ]
  },
  {
   "cell_type": "code",
   "execution_count": 163,
   "metadata": {},
   "outputs": [
    {
     "name": "stdout",
     "output_type": "stream",
     "text": [
      "True\n"
     ]
    }
   ],
   "source": [
    "# R-squared value is above average. This means major combined with gender, significantly predict height\n",
    "if res_2.rsquared < 0.5:\n",
    "    lm_2 = False\n",
    "else:\n",
    "    lm_2 = True\n",
    "print(lm_2)"
   ]
  },
  {
   "cell_type": "code",
   "execution_count": 164,
   "metadata": {},
   "outputs": [],
   "source": [
    "assert isinstance(lm_2, bool)"
   ]
  },
  {
   "cell_type": "code",
   "execution_count": 165,
   "metadata": {},
   "outputs": [
    {
     "data": {
      "text/plain": [
       "'\\nPart 6: Discussion & Conclusions (0.1 points)\\n\\n6a) Conclusion\\n\\nSet a boolean variable, called ans, as True or False as the answer to the following statement:\\n\\nWe have evidence supporting our research hypothesis:\\n\\nPeople in different majors have systematically different heights (and this difference can be tied to their major).\\n'"
      ]
     },
     "execution_count": 165,
     "metadata": {},
     "output_type": "execute_result"
    }
   ],
   "source": [
    "'''\n",
    "Part 6: Discussion & Conclusions (0.1 points)\n",
    "\n",
    "6a) Conclusion\n",
    "\n",
    "Set a boolean variable, called ans, as True or False as the answer to the following statement:\n",
    "\n",
    "We have evidence supporting our research hypothesis:\n",
    "\n",
    "People in different majors have systematically different heights (and this difference can be tied to their major).\n",
    "'''"
   ]
  },
  {
   "cell_type": "code",
   "execution_count": 166,
   "metadata": {},
   "outputs": [],
   "source": [
    "ans = True"
   ]
  },
  {
   "cell_type": "code",
   "execution_count": 167,
   "metadata": {},
   "outputs": [],
   "source": [
    "assert isinstance(ans, bool)"
   ]
  },
  {
   "cell_type": "code",
   "execution_count": 168,
   "metadata": {},
   "outputs": [
    {
     "data": {
      "text/plain": [
       "'\\n6b) Summary\\n\\nWrite a short response (1-2 sentence) summarizing the results.\\n\\nDid we support our hypothesis? Why or why not? What turned out to be the finding(s)?\\n'"
      ]
     },
     "execution_count": 168,
     "metadata": {},
     "output_type": "execute_result"
    }
   ],
   "source": [
    "'''\n",
    "6b) Summary\n",
    "\n",
    "Write a short response (1-2 sentence) summarizing the results.\n",
    "\n",
    "Did we support our hypothesis? Why or why not? What turned out to be the finding(s)?\n",
    "'''"
   ]
  },
  {
   "cell_type": "code",
   "execution_count": 169,
   "metadata": {},
   "outputs": [
    {
     "data": {
      "text/plain": [
       "\"\\nANSWER:\\nLooking at people's height alone, does not correlate to the major selected. Results show a very low R2 value.\\nHowever, there appear to be some correlation when we analyse the relationship of gender&height with major.\\nResults show a higher than average R2 value, but when looking at the p value of each gender, only males&height \\nseem to correlate with the selected major.\\n\""
      ]
     },
     "execution_count": 169,
     "metadata": {},
     "output_type": "execute_result"
    }
   ],
   "source": [
    "'''\n",
    "ANSWER:\n",
    "Looking at people's height alone, does not correlate to the major selected. Results show a very low R2 value.\n",
    "However, there appear to be some correlation when we analyse the relationship of gender&height with major.\n",
    "Results show a higher than average R2 value, but when looking at the p value of each gender, only males&height \n",
    "seem to correlate with the selected major.\n",
    "'''"
   ]
  },
  {
   "cell_type": "code",
   "execution_count": null,
   "metadata": {},
   "outputs": [],
   "source": []
  }
 ],
 "metadata": {
  "kernelspec": {
   "display_name": "Python 3 (ipykernel)",
   "language": "python",
   "name": "python3"
  },
  "language_info": {
   "codemirror_mode": {
    "name": "ipython",
    "version": 3
   },
   "file_extension": ".py",
   "mimetype": "text/x-python",
   "name": "python",
   "nbconvert_exporter": "python",
   "pygments_lexer": "ipython3",
   "version": "3.9.13"
  }
 },
 "nbformat": 4,
 "nbformat_minor": 4
}
